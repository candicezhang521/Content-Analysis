{
 "cells": [
  {
   "cell_type": "markdown",
   "metadata": {},
   "source": [
    "# Week 4 - Word Embeddings\n",
    "\n",
    "This week, we build on last week's topic modeling techniques by taking a text corpus we have developed, specifying an underlying number of dimensions, and training a model with a neural network auto-encoder (one of Google's word2vec  algorithms) that best describes corpus words in their local linguistic contexts, and exploring their locations in the resulting space to learn about the discursive culture that produced them. Documents here are represented as densely indexed locations in dimensions, rather than sparse mixtures of topics (as in LDA topic modeling), so that distances between those documents (and words) are consistently superior, though they require the full vector of dimension loadings (rather than just a few selected topic loadings) to describe. We will explore these spaces to understand complex, semantic relationships between words, index documents with descriptive words, identify the likelihood that a given document would have been produced by a given vector model, and explore how semantic categories can help us understand the cultures that produced them.\n",
    "\n",
    "For this notebook we will be using the following packages"
   ]
  },
  {
   "cell_type": "code",
   "execution_count": 1,
   "metadata": {
    "collapsed": true
   },
   "outputs": [],
   "source": [
    "#Special module written for this class\n",
    "#This provides access to data and to helper functions from previous weeks\n",
    "#Make sure you update it before starting this notebook\n",
    "import lucem_illud #pip install -U git+git://github.com/Computational-Content-Analysis-2018/lucem_illud.git\n",
    "\n",
    "#All these packages need to be installed from pip\n",
    "import gensim#For word2vec, etc\n",
    "import requests #For downloading our datasets\n",
    "import nltk #For stop words and stemmers\n",
    "import numpy as np #For arrays\n",
    "import pandas #Gives us DataFrames\n",
    "import matplotlib.pyplot as plt #For graphics\n",
    "import seaborn #Makes the graphics look nicer\n",
    "import sklearn.metrics.pairwise #For cosine similarity\n",
    "import sklearn.manifold #For T-SNE\n",
    "import sklearn.decomposition #For PCA\n",
    "\n",
    "#gensim uses a couple of deprecated features\n",
    "#we can't do anything about them so lets ignore them \n",
    "import warnings\n",
    "warnings.filterwarnings(\"ignore\", category=DeprecationWarning) \n",
    "\n",
    "#This 'magic' command makes the plots work better\n",
    "#in the notebook, don't use it outside of a notebook.\n",
    "#Also you can ignore the warning\n",
    "%matplotlib inline\n",
    "\n",
    "import os #For looking through files\n",
    "import os.path #For managing file paths"
   ]
  },
  {
   "cell_type": "markdown",
   "metadata": {},
   "source": [
    "# Getting our corpora\n",
    "\n",
    "Instead of downloading our corpora, we have download them in advance; a subset of the [senate press releases](https://github.com/lintool/GrimmerSenatePressReleases) are in `grimmerPressReleases`. We will load them into a DataFrame, using a function from a couple weeks ago `loadTextDirectory`:"
   ]
  },
  {
   "cell_type": "code",
   "execution_count": 9,
   "metadata": {
    "collapsed": false
   },
   "outputs": [
    {
     "data": {
      "text/html": [
       "<div>\n",
       "<style scoped>\n",
       "    .dataframe tbody tr th:only-of-type {\n",
       "        vertical-align: middle;\n",
       "    }\n",
       "\n",
       "    .dataframe tbody tr th {\n",
       "        vertical-align: top;\n",
       "    }\n",
       "\n",
       "    .dataframe thead th {\n",
       "        text-align: right;\n",
       "    }\n",
       "</style>\n",
       "<table border=\"1\" class=\"dataframe\">\n",
       "  <thead>\n",
       "    <tr style=\"text-align: right;\">\n",
       "      <th></th>\n",
       "      <th>text</th>\n",
       "    </tr>\n",
       "  </thead>\n",
       "  <tbody>\n",
       "    <tr>\n",
       "      <th>01Apr2005Kennedy14.txt</th>\n",
       "      <td>FOR IMMEDIATE RELEASE   FOR IMMEDIATE...</td>\n",
       "    </tr>\n",
       "    <tr>\n",
       "      <th>01Aug2005Kennedy12.txt</th>\n",
       "      <td>FOR IMMEDIATE RELEASE   FOR IMMEDIATE...</td>\n",
       "    </tr>\n",
       "    <tr>\n",
       "      <th>01Aug2006Kennedy10.txt</th>\n",
       "      <td>FOR IMMEDIATE RELEASE  FOR IMMEDIATE ...</td>\n",
       "    </tr>\n",
       "    <tr>\n",
       "      <th>01Aug2006Kennedy11.txt</th>\n",
       "      <td>FOR IMMEDIATE RELEASE  FOR IMMEDIATE ...</td>\n",
       "    </tr>\n",
       "    <tr>\n",
       "      <th>01Aug2006Kennedy12.txt</th>\n",
       "      <td>FOR IMMEDIATE RELEASE  FOR IMMEDIATE ...</td>\n",
       "    </tr>\n",
       "  </tbody>\n",
       "</table>\n",
       "</div>"
      ],
      "text/plain": [
       "                                                                     text\n",
       "01Apr2005Kennedy14.txt           FOR IMMEDIATE RELEASE   FOR IMMEDIATE...\n",
       "01Aug2005Kennedy12.txt           FOR IMMEDIATE RELEASE   FOR IMMEDIATE...\n",
       "01Aug2006Kennedy10.txt           FOR IMMEDIATE RELEASE  FOR IMMEDIATE ...\n",
       "01Aug2006Kennedy11.txt           FOR IMMEDIATE RELEASE  FOR IMMEDIATE ...\n",
       "01Aug2006Kennedy12.txt           FOR IMMEDIATE RELEASE  FOR IMMEDIATE ..."
      ]
     },
     "execution_count": 9,
     "metadata": {},
     "output_type": "execute_result"
    }
   ],
   "source": [
    "kennedyDF = lucem_illud.loadTextDirectory('../data/grimmerPressReleases/Kennedy/')\n",
    "kennedyDF[:5]"
   ]
  },
  {
   "cell_type": "markdown",
   "metadata": {},
   "source": [
    "This gets us one Senator's data, but with no metadata, we can add a category column with a simple command:"
   ]
  },
  {
   "cell_type": "code",
   "execution_count": 10,
   "metadata": {
    "collapsed": false
   },
   "outputs": [
    {
     "data": {
      "text/html": [
       "<div>\n",
       "<style scoped>\n",
       "    .dataframe tbody tr th:only-of-type {\n",
       "        vertical-align: middle;\n",
       "    }\n",
       "\n",
       "    .dataframe tbody tr th {\n",
       "        vertical-align: top;\n",
       "    }\n",
       "\n",
       "    .dataframe thead th {\n",
       "        text-align: right;\n",
       "    }\n",
       "</style>\n",
       "<table border=\"1\" class=\"dataframe\">\n",
       "  <thead>\n",
       "    <tr style=\"text-align: right;\">\n",
       "      <th></th>\n",
       "      <th>text</th>\n",
       "      <th>category</th>\n",
       "    </tr>\n",
       "  </thead>\n",
       "  <tbody>\n",
       "    <tr>\n",
       "      <th>01Apr2005Kennedy14.txt</th>\n",
       "      <td>FOR IMMEDIATE RELEASE   FOR IMMEDIATE...</td>\n",
       "      <td>Kennedy</td>\n",
       "    </tr>\n",
       "    <tr>\n",
       "      <th>01Aug2005Kennedy12.txt</th>\n",
       "      <td>FOR IMMEDIATE RELEASE   FOR IMMEDIATE...</td>\n",
       "      <td>Kennedy</td>\n",
       "    </tr>\n",
       "    <tr>\n",
       "      <th>01Aug2006Kennedy10.txt</th>\n",
       "      <td>FOR IMMEDIATE RELEASE  FOR IMMEDIATE ...</td>\n",
       "      <td>Kennedy</td>\n",
       "    </tr>\n",
       "    <tr>\n",
       "      <th>01Aug2006Kennedy11.txt</th>\n",
       "      <td>FOR IMMEDIATE RELEASE  FOR IMMEDIATE ...</td>\n",
       "      <td>Kennedy</td>\n",
       "    </tr>\n",
       "    <tr>\n",
       "      <th>01Aug2006Kennedy12.txt</th>\n",
       "      <td>FOR IMMEDIATE RELEASE  FOR IMMEDIATE ...</td>\n",
       "      <td>Kennedy</td>\n",
       "    </tr>\n",
       "  </tbody>\n",
       "</table>\n",
       "</div>"
      ],
      "text/plain": [
       "                                                                     text  \\\n",
       "01Apr2005Kennedy14.txt           FOR IMMEDIATE RELEASE   FOR IMMEDIATE...   \n",
       "01Aug2005Kennedy12.txt           FOR IMMEDIATE RELEASE   FOR IMMEDIATE...   \n",
       "01Aug2006Kennedy10.txt           FOR IMMEDIATE RELEASE  FOR IMMEDIATE ...   \n",
       "01Aug2006Kennedy11.txt           FOR IMMEDIATE RELEASE  FOR IMMEDIATE ...   \n",
       "01Aug2006Kennedy12.txt           FOR IMMEDIATE RELEASE  FOR IMMEDIATE ...   \n",
       "\n",
       "                       category  \n",
       "01Apr2005Kennedy14.txt  Kennedy  \n",
       "01Aug2005Kennedy12.txt  Kennedy  \n",
       "01Aug2006Kennedy10.txt  Kennedy  \n",
       "01Aug2006Kennedy11.txt  Kennedy  \n",
       "01Aug2006Kennedy12.txt  Kennedy  "
      ]
     },
     "execution_count": 10,
     "metadata": {},
     "output_type": "execute_result"
    }
   ],
   "source": [
    "kennedyDF['category'] = 'Kennedy'\n",
    "kennedyDF[:5]"
   ]
  },
  {
   "cell_type": "markdown",
   "metadata": {},
   "source": [
    "We also will be wanting to load all the senators so we will need to loop over all the directories"
   ]
  },
  {
   "cell_type": "code",
   "execution_count": 16,
   "metadata": {
    "collapsed": false
   },
   "outputs": [
    {
     "data": {
      "text/html": [
       "<div>\n",
       "<style scoped>\n",
       "    .dataframe tbody tr th:only-of-type {\n",
       "        vertical-align: middle;\n",
       "    }\n",
       "\n",
       "    .dataframe tbody tr th {\n",
       "        vertical-align: top;\n",
       "    }\n",
       "\n",
       "    .dataframe thead th {\n",
       "        text-align: right;\n",
       "    }\n",
       "</style>\n",
       "<table border=\"1\" class=\"dataframe\">\n",
       "  <thead>\n",
       "    <tr style=\"text-align: right;\">\n",
       "      <th></th>\n",
       "      <th>text</th>\n",
       "      <th>category</th>\n",
       "    </tr>\n",
       "  </thead>\n",
       "  <tbody>\n",
       "    <tr>\n",
       "      <th>09May2007Kennedy6.txt</th>\n",
       "      <td>FOR IMMEDIATE RELEASE  WASHINGTON  D ...</td>\n",
       "      <td>Kennedy</td>\n",
       "    </tr>\n",
       "    <tr>\n",
       "      <th>09Nov2005Kennedy10.txt</th>\n",
       "      <td>FOR IMMEDIATE RELEASE     Washington ...</td>\n",
       "      <td>Kennedy</td>\n",
       "    </tr>\n",
       "    <tr>\n",
       "      <th>09Nov2005Kennedy11.txt</th>\n",
       "      <td>FOR IMMEDIATE RELEASE  The outrageous...</td>\n",
       "      <td>Kennedy</td>\n",
       "    </tr>\n",
       "    <tr>\n",
       "      <th>09Nov2006Kennedy6.txt</th>\n",
       "      <td>FOR IMMEDIATE RELEASE  Washington  D ...</td>\n",
       "      <td>Kennedy</td>\n",
       "    </tr>\n",
       "    <tr>\n",
       "      <th>09Nov2006Kennedy7.txt</th>\n",
       "      <td>FOR IMMEDIATE RELEASE  Washington  DC...</td>\n",
       "      <td>Kennedy</td>\n",
       "    </tr>\n",
       "    <tr>\n",
       "      <th>09Nov2007Kennedy10.txt</th>\n",
       "      <td>FOR IMMEDIATE RELEASE     Mr  Preside...</td>\n",
       "      <td>Kennedy</td>\n",
       "    </tr>\n",
       "    <tr>\n",
       "      <th>09Nov2007Kennedy9.txt</th>\n",
       "      <td>FOR IMMEDIATE RELEASE     WASHINGTON ...</td>\n",
       "      <td>Kennedy</td>\n",
       "    </tr>\n",
       "    <tr>\n",
       "      <th>09Oct2006Kennedy4.txt</th>\n",
       "      <td>FOR IMMEDIATE RELEASE  Washington  D ...</td>\n",
       "      <td>Kennedy</td>\n",
       "    </tr>\n",
       "    <tr>\n",
       "      <th>09Oct2006Kennedy5.txt</th>\n",
       "      <td>FOR IMMEDIATE RELEASE  STATEMENT BY S...</td>\n",
       "      <td>Kennedy</td>\n",
       "    </tr>\n",
       "    <tr>\n",
       "      <th>09Oct2007Kennedy9.txt</th>\n",
       "      <td>FOR IMMEDIATE RELEASE     WASHINGTON ...</td>\n",
       "      <td>Kennedy</td>\n",
       "    </tr>\n",
       "    <tr>\n",
       "      <th>09Sep2005Kennedy0.txt</th>\n",
       "      <td>FOR IMMEDIATE RELEASE   FOR IMMEDIATE...</td>\n",
       "      <td>Kennedy</td>\n",
       "    </tr>\n",
       "    <tr>\n",
       "      <th>09Sep2005Kennedy14.txt</th>\n",
       "      <td>FOR IMMEDIATE RELEASE   FOR IMMEDIATE...</td>\n",
       "      <td>Kennedy</td>\n",
       "    </tr>\n",
       "    <tr>\n",
       "      <th>10Apr2005Kennedy1.txt</th>\n",
       "      <td>FOR IMMEDIATE RELEASE     Boston  MA ...</td>\n",
       "      <td>Kennedy</td>\n",
       "    </tr>\n",
       "    <tr>\n",
       "      <th>10Apr2006Kennedy1.txt</th>\n",
       "      <td>FOR IMMEDIATE RELEASE     Washington ...</td>\n",
       "      <td>Kennedy</td>\n",
       "    </tr>\n",
       "    <tr>\n",
       "      <th>10Apr2007Kennedy5.txt</th>\n",
       "      <td>FOR IMMEDIATE RELEASE  Washington  D ...</td>\n",
       "      <td>Kennedy</td>\n",
       "    </tr>\n",
       "    <tr>\n",
       "      <th>10Apr2007Kennedy6.txt</th>\n",
       "      <td>FOR IMMEDIATE RELEASE  Seven months a...</td>\n",
       "      <td>Kennedy</td>\n",
       "    </tr>\n",
       "    <tr>\n",
       "      <th>10Aug2005Kennedy6.txt</th>\n",
       "      <td>FOR IMMEDIATE RELEASE     I want to s...</td>\n",
       "      <td>Kennedy</td>\n",
       "    </tr>\n",
       "    <tr>\n",
       "      <th>10Aug2005Kennedy7.txt</th>\n",
       "      <td>FOR IMMEDIATE RELEASE  Neil s wise le...</td>\n",
       "      <td>Kennedy</td>\n",
       "    </tr>\n",
       "    <tr>\n",
       "      <th>10Aug2005Kennedy8.txt</th>\n",
       "      <td>FOR IMMEDIATE RELEASE   FACT SHEET IN...</td>\n",
       "      <td>Kennedy</td>\n",
       "    </tr>\n",
       "    <tr>\n",
       "      <th>10Aug2005Kennedy9.txt</th>\n",
       "      <td>FOR IMMEDIATE RELEASE   FOR IMMEDIATE...</td>\n",
       "      <td>Kennedy</td>\n",
       "    </tr>\n",
       "    <tr>\n",
       "      <th>10Aug2006Kennedy8.txt</th>\n",
       "      <td>FOR IMMEDIATE RELEASE  Washington  DC...</td>\n",
       "      <td>Kennedy</td>\n",
       "    </tr>\n",
       "    <tr>\n",
       "      <th>10Aug2007Kennedy6.txt</th>\n",
       "      <td>FOR IMMEDIATE RELEASE  WASHINGTON  DC...</td>\n",
       "      <td>Kennedy</td>\n",
       "    </tr>\n",
       "    <tr>\n",
       "      <th>10Aug2007Kennedy7.txt</th>\n",
       "      <td>FOR IMMEDIATE RELEASE  WASHINGTON  DC...</td>\n",
       "      <td>Kennedy</td>\n",
       "    </tr>\n",
       "    <tr>\n",
       "      <th>10Dec2007Kennedy2.txt</th>\n",
       "      <td>FOR IMMEDIATE RELEASE     WASHINGTON ...</td>\n",
       "      <td>Kennedy</td>\n",
       "    </tr>\n",
       "    <tr>\n",
       "      <th>10Dec2007Kennedy3.txt</th>\n",
       "      <td>FOR IMMEDIATE RELEASE  BOSTON  MA  Se...</td>\n",
       "      <td>Kennedy</td>\n",
       "    </tr>\n",
       "    <tr>\n",
       "      <th>10Dec2007Kennedy4.txt</th>\n",
       "      <td>FOR IMMEDIATE RELEASE       WASHINGTO...</td>\n",
       "      <td>Kennedy</td>\n",
       "    </tr>\n",
       "    <tr>\n",
       "      <th>10Feb2005Kennedy7.txt</th>\n",
       "      <td>FOR IMMEDIATE RELEASE      I commend ...</td>\n",
       "      <td>Kennedy</td>\n",
       "    </tr>\n",
       "    <tr>\n",
       "      <th>10Feb2005Kennedy8.txt</th>\n",
       "      <td>FOR IMMEDIATE RELEASE      This morni...</td>\n",
       "      <td>Kennedy</td>\n",
       "    </tr>\n",
       "    <tr>\n",
       "      <th>10Feb2005Kennedy9.txt</th>\n",
       "      <td>FOR IMMEDIATE RELEASE      Supporters...</td>\n",
       "      <td>Kennedy</td>\n",
       "    </tr>\n",
       "    <tr>\n",
       "      <th>10Feb2006Kennedy0.txt</th>\n",
       "      <td>FOR IMMEDIATE RELEASE  Weaver s Cove ...</td>\n",
       "      <td>Kennedy</td>\n",
       "    </tr>\n",
       "    <tr>\n",
       "      <th>...</th>\n",
       "      <td>...</td>\n",
       "      <td>...</td>\n",
       "    </tr>\n",
       "    <tr>\n",
       "      <th>8Jun2006Kyl205.txt</th>\n",
       "      <td>SEN. KYL ISSUES STATEMENT ON DEATH TAX VOTE\\n ...</td>\n",
       "      <td>Kyl</td>\n",
       "    </tr>\n",
       "    <tr>\n",
       "      <th>8Mar2006Kyl249.txt</th>\n",
       "      <td>SEN. KYL INITIATIVE GUARANTEES AIR-CONDITIONIN...</td>\n",
       "      <td>Kyl</td>\n",
       "    </tr>\n",
       "    <tr>\n",
       "      <th>8May2006Kyl222.txt</th>\n",
       "      <td>PAIN AT THE PUMP\\n  There is an old saying: Fo...</td>\n",
       "      <td>Kyl</td>\n",
       "    </tr>\n",
       "    <tr>\n",
       "      <th>8Nov2004Kyl438.txt</th>\n",
       "      <td>FINALLY, AN END TO SENATE GRIDLOCK?\\n  By Sen....</td>\n",
       "      <td>Kyl</td>\n",
       "    </tr>\n",
       "    <tr>\n",
       "      <th>8Nov2005Kyl308.txt</th>\n",
       "      <td>SEN. KYL APPLAUDS SENATE PASSAGE OF DEFICIT RE...</td>\n",
       "      <td>Kyl</td>\n",
       "    </tr>\n",
       "    <tr>\n",
       "      <th>8Nov2005Kyl309.txt</th>\n",
       "      <td>SEN. KYL CALLS SAUDI ARABIAN SUPPORT FOR WAHHA...</td>\n",
       "      <td>Kyl</td>\n",
       "    </tr>\n",
       "    <tr>\n",
       "      <th>8Nov2005Kyl310.txt</th>\n",
       "      <td>SENS. KYL, FEINGOLD INTRODUCE BILL TO STRENGTH...</td>\n",
       "      <td>Kyl</td>\n",
       "    </tr>\n",
       "    <tr>\n",
       "      <th>9Apr2007Kyl110.txt</th>\n",
       "      <td>HONORING DIRECTOR JOHN GILLIS\\n  Each April fo...</td>\n",
       "      <td>Kyl</td>\n",
       "    </tr>\n",
       "    <tr>\n",
       "      <th>9Apr2008Kyl4.txt</th>\n",
       "      <td>SENS. KYL, DEMINT INTRODUCE HEALTH CARE EQUITY...</td>\n",
       "      <td>Kyl</td>\n",
       "    </tr>\n",
       "    <tr>\n",
       "      <th>9Aug2004Kyl463.txt</th>\n",
       "      <td>CAN'T VOTE FROM JAIL = DISCRIMINATION?\\n  By S...</td>\n",
       "      <td>Kyl</td>\n",
       "    </tr>\n",
       "    <tr>\n",
       "      <th>9Aug2005Kyl351.txt</th>\n",
       "      <td>SEN. KYL: JOHN BOLTON FINALLY HEADED TO THE U....</td>\n",
       "      <td>Kyl</td>\n",
       "    </tr>\n",
       "    <tr>\n",
       "      <th>9Dec2006Kyl148.txt</th>\n",
       "      <td>SEN. KYL APPLAUDS PASSAGE OF YUMA IMPROVEMENT ...</td>\n",
       "      <td>Kyl</td>\n",
       "    </tr>\n",
       "    <tr>\n",
       "      <th>9Dec2006Kyl149.txt</th>\n",
       "      <td>CONGRESS APPROVES TAX CUT EXTENSIONS\\n  The U....</td>\n",
       "      <td>Kyl</td>\n",
       "    </tr>\n",
       "    <tr>\n",
       "      <th>9Feb2006Kyl263.txt</th>\n",
       "      <td>SEN. KYL JOINS SEN. MCCAIN TO END PORK BARREL ...</td>\n",
       "      <td>Kyl</td>\n",
       "    </tr>\n",
       "    <tr>\n",
       "      <th>9Jan2006Kyl280.txt</th>\n",
       "      <td>RINGING IN THE NEW YEAR\\n  By Sen. Jon Kyl\\n  ...</td>\n",
       "      <td>Kyl</td>\n",
       "    </tr>\n",
       "    <tr>\n",
       "      <th>9Jun2004Kyl492.txt</th>\n",
       "      <td>SEN. KYL URGES WORLD COMMUNITY TO AID RECONSTR...</td>\n",
       "      <td>Kyl</td>\n",
       "    </tr>\n",
       "    <tr>\n",
       "      <th>9Mar2006Kyl246.txt</th>\n",
       "      <td>SEN. KYL, REP. GRIJALVA APPLAUD SENATE COMMITT...</td>\n",
       "      <td>Kyl</td>\n",
       "    </tr>\n",
       "    <tr>\n",
       "      <th>9Mar2006Kyl247.txt</th>\n",
       "      <td>SEN. KYL APPLAUDS TRIUMPH OF SECURITY OVER PAR...</td>\n",
       "      <td>Kyl</td>\n",
       "    </tr>\n",
       "    <tr>\n",
       "      <th>9Mar2006Kyl248.txt</th>\n",
       "      <td>SEN. KYL SECURES STRONGEST BORDER SECURITY FOR...</td>\n",
       "      <td>Kyl</td>\n",
       "    </tr>\n",
       "    <tr>\n",
       "      <th>9May2005Kyl384.txt</th>\n",
       "      <td>SEN. KYL ANNOUNCES REIMBURSEMENT GUIDELINES FO...</td>\n",
       "      <td>Kyl</td>\n",
       "    </tr>\n",
       "    <tr>\n",
       "      <th>9May2006Kyl221.txt</th>\n",
       "      <td>SEN. KYL HAILS TAX RELIEF AGREEMENT\\n  The con...</td>\n",
       "      <td>Kyl</td>\n",
       "    </tr>\n",
       "    <tr>\n",
       "      <th>9May2007Kyl100.txt</th>\n",
       "      <td>SENATE-HOUSE GOP LEADERS ACCEPT PETITION FROM ...</td>\n",
       "      <td>Kyl</td>\n",
       "    </tr>\n",
       "    <tr>\n",
       "      <th>9May2007Kyl99.txt</th>\n",
       "      <td>SEN. KYL BILL ADDS LAND TO LAS CIENEGAS CONSER...</td>\n",
       "      <td>Kyl</td>\n",
       "    </tr>\n",
       "    <tr>\n",
       "      <th>9Nov2004Kyl437.txt</th>\n",
       "      <td>SEN. KYL ISSUES STATEMENT ON ATTORNEY GENERAL ...</td>\n",
       "      <td>Kyl</td>\n",
       "    </tr>\n",
       "    <tr>\n",
       "      <th>9Nov2005Kyl305.txt</th>\n",
       "      <td>SCAAP FUNDING RISES TO $405 MILLION, ALONG WIT...</td>\n",
       "      <td>Kyl</td>\n",
       "    </tr>\n",
       "    <tr>\n",
       "      <th>9Nov2005Kyl306.txt</th>\n",
       "      <td>SEN. KYL ANNOUNCES AZ FUNDING IN ENERGY &amp; WATE...</td>\n",
       "      <td>Kyl</td>\n",
       "    </tr>\n",
       "    <tr>\n",
       "      <th>9Nov2005Kyl307.txt</th>\n",
       "      <td>SEN. KYL LAUDS SENATE MOVE TO EQUALIZE BENEFIT...</td>\n",
       "      <td>Kyl</td>\n",
       "    </tr>\n",
       "    <tr>\n",
       "      <th>9Oct2007Kyl61.txt</th>\n",
       "      <td>PLAYING GAMES WITH LIVES OF AMERICAN SOLDIERS\\...</td>\n",
       "      <td>Kyl</td>\n",
       "    </tr>\n",
       "    <tr>\n",
       "      <th>9Sep2005Kyl342.txt</th>\n",
       "      <td>SEN. KYL'S WEB SITE OFFERS GUIDANCE ON HELPING...</td>\n",
       "      <td>Kyl</td>\n",
       "    </tr>\n",
       "    <tr>\n",
       "      <th>9Sep2005Kyl343.txt</th>\n",
       "      <td>SEN. KYL URGES EPA TO 'CLOSE GAP' ON SUMMER-BL...</td>\n",
       "      <td>Kyl</td>\n",
       "    </tr>\n",
       "  </tbody>\n",
       "</table>\n",
       "<p>3404 rows × 2 columns</p>\n",
       "</div>"
      ],
      "text/plain": [
       "                                                                     text  \\\n",
       "09May2007Kennedy6.txt            FOR IMMEDIATE RELEASE  WASHINGTON  D ...   \n",
       "09Nov2005Kennedy10.txt           FOR IMMEDIATE RELEASE     Washington ...   \n",
       "09Nov2005Kennedy11.txt           FOR IMMEDIATE RELEASE  The outrageous...   \n",
       "09Nov2006Kennedy6.txt            FOR IMMEDIATE RELEASE  Washington  D ...   \n",
       "09Nov2006Kennedy7.txt            FOR IMMEDIATE RELEASE  Washington  DC...   \n",
       "09Nov2007Kennedy10.txt           FOR IMMEDIATE RELEASE     Mr  Preside...   \n",
       "09Nov2007Kennedy9.txt            FOR IMMEDIATE RELEASE     WASHINGTON ...   \n",
       "09Oct2006Kennedy4.txt            FOR IMMEDIATE RELEASE  Washington  D ...   \n",
       "09Oct2006Kennedy5.txt            FOR IMMEDIATE RELEASE  STATEMENT BY S...   \n",
       "09Oct2007Kennedy9.txt            FOR IMMEDIATE RELEASE     WASHINGTON ...   \n",
       "09Sep2005Kennedy0.txt            FOR IMMEDIATE RELEASE   FOR IMMEDIATE...   \n",
       "09Sep2005Kennedy14.txt           FOR IMMEDIATE RELEASE   FOR IMMEDIATE...   \n",
       "10Apr2005Kennedy1.txt            FOR IMMEDIATE RELEASE     Boston  MA ...   \n",
       "10Apr2006Kennedy1.txt            FOR IMMEDIATE RELEASE     Washington ...   \n",
       "10Apr2007Kennedy5.txt            FOR IMMEDIATE RELEASE  Washington  D ...   \n",
       "10Apr2007Kennedy6.txt            FOR IMMEDIATE RELEASE  Seven months a...   \n",
       "10Aug2005Kennedy6.txt            FOR IMMEDIATE RELEASE     I want to s...   \n",
       "10Aug2005Kennedy7.txt            FOR IMMEDIATE RELEASE  Neil s wise le...   \n",
       "10Aug2005Kennedy8.txt            FOR IMMEDIATE RELEASE   FACT SHEET IN...   \n",
       "10Aug2005Kennedy9.txt            FOR IMMEDIATE RELEASE   FOR IMMEDIATE...   \n",
       "10Aug2006Kennedy8.txt            FOR IMMEDIATE RELEASE  Washington  DC...   \n",
       "10Aug2007Kennedy6.txt            FOR IMMEDIATE RELEASE  WASHINGTON  DC...   \n",
       "10Aug2007Kennedy7.txt            FOR IMMEDIATE RELEASE  WASHINGTON  DC...   \n",
       "10Dec2007Kennedy2.txt            FOR IMMEDIATE RELEASE     WASHINGTON ...   \n",
       "10Dec2007Kennedy3.txt            FOR IMMEDIATE RELEASE  BOSTON  MA  Se...   \n",
       "10Dec2007Kennedy4.txt            FOR IMMEDIATE RELEASE       WASHINGTO...   \n",
       "10Feb2005Kennedy7.txt            FOR IMMEDIATE RELEASE      I commend ...   \n",
       "10Feb2005Kennedy8.txt            FOR IMMEDIATE RELEASE      This morni...   \n",
       "10Feb2005Kennedy9.txt            FOR IMMEDIATE RELEASE      Supporters...   \n",
       "10Feb2006Kennedy0.txt            FOR IMMEDIATE RELEASE  Weaver s Cove ...   \n",
       "...                                                                   ...   \n",
       "8Jun2006Kyl205.txt      SEN. KYL ISSUES STATEMENT ON DEATH TAX VOTE\\n ...   \n",
       "8Mar2006Kyl249.txt      SEN. KYL INITIATIVE GUARANTEES AIR-CONDITIONIN...   \n",
       "8May2006Kyl222.txt      PAIN AT THE PUMP\\n  There is an old saying: Fo...   \n",
       "8Nov2004Kyl438.txt      FINALLY, AN END TO SENATE GRIDLOCK?\\n  By Sen....   \n",
       "8Nov2005Kyl308.txt      SEN. KYL APPLAUDS SENATE PASSAGE OF DEFICIT RE...   \n",
       "8Nov2005Kyl309.txt      SEN. KYL CALLS SAUDI ARABIAN SUPPORT FOR WAHHA...   \n",
       "8Nov2005Kyl310.txt      SENS. KYL, FEINGOLD INTRODUCE BILL TO STRENGTH...   \n",
       "9Apr2007Kyl110.txt      HONORING DIRECTOR JOHN GILLIS\\n  Each April fo...   \n",
       "9Apr2008Kyl4.txt        SENS. KYL, DEMINT INTRODUCE HEALTH CARE EQUITY...   \n",
       "9Aug2004Kyl463.txt      CAN'T VOTE FROM JAIL = DISCRIMINATION?\\n  By S...   \n",
       "9Aug2005Kyl351.txt      SEN. KYL: JOHN BOLTON FINALLY HEADED TO THE U....   \n",
       "9Dec2006Kyl148.txt      SEN. KYL APPLAUDS PASSAGE OF YUMA IMPROVEMENT ...   \n",
       "9Dec2006Kyl149.txt      CONGRESS APPROVES TAX CUT EXTENSIONS\\n  The U....   \n",
       "9Feb2006Kyl263.txt      SEN. KYL JOINS SEN. MCCAIN TO END PORK BARREL ...   \n",
       "9Jan2006Kyl280.txt      RINGING IN THE NEW YEAR\\n  By Sen. Jon Kyl\\n  ...   \n",
       "9Jun2004Kyl492.txt      SEN. KYL URGES WORLD COMMUNITY TO AID RECONSTR...   \n",
       "9Mar2006Kyl246.txt      SEN. KYL, REP. GRIJALVA APPLAUD SENATE COMMITT...   \n",
       "9Mar2006Kyl247.txt      SEN. KYL APPLAUDS TRIUMPH OF SECURITY OVER PAR...   \n",
       "9Mar2006Kyl248.txt      SEN. KYL SECURES STRONGEST BORDER SECURITY FOR...   \n",
       "9May2005Kyl384.txt      SEN. KYL ANNOUNCES REIMBURSEMENT GUIDELINES FO...   \n",
       "9May2006Kyl221.txt      SEN. KYL HAILS TAX RELIEF AGREEMENT\\n  The con...   \n",
       "9May2007Kyl100.txt      SENATE-HOUSE GOP LEADERS ACCEPT PETITION FROM ...   \n",
       "9May2007Kyl99.txt       SEN. KYL BILL ADDS LAND TO LAS CIENEGAS CONSER...   \n",
       "9Nov2004Kyl437.txt      SEN. KYL ISSUES STATEMENT ON ATTORNEY GENERAL ...   \n",
       "9Nov2005Kyl305.txt      SCAAP FUNDING RISES TO $405 MILLION, ALONG WIT...   \n",
       "9Nov2005Kyl306.txt      SEN. KYL ANNOUNCES AZ FUNDING IN ENERGY & WATE...   \n",
       "9Nov2005Kyl307.txt      SEN. KYL LAUDS SENATE MOVE TO EQUALIZE BENEFIT...   \n",
       "9Oct2007Kyl61.txt       PLAYING GAMES WITH LIVES OF AMERICAN SOLDIERS\\...   \n",
       "9Sep2005Kyl342.txt      SEN. KYL'S WEB SITE OFFERS GUIDANCE ON HELPING...   \n",
       "9Sep2005Kyl343.txt      SEN. KYL URGES EPA TO 'CLOSE GAP' ON SUMMER-BL...   \n",
       "\n",
       "                       category  \n",
       "09May2007Kennedy6.txt   Kennedy  \n",
       "09Nov2005Kennedy10.txt  Kennedy  \n",
       "09Nov2005Kennedy11.txt  Kennedy  \n",
       "09Nov2006Kennedy6.txt   Kennedy  \n",
       "09Nov2006Kennedy7.txt   Kennedy  \n",
       "09Nov2007Kennedy10.txt  Kennedy  \n",
       "09Nov2007Kennedy9.txt   Kennedy  \n",
       "09Oct2006Kennedy4.txt   Kennedy  \n",
       "09Oct2006Kennedy5.txt   Kennedy  \n",
       "09Oct2007Kennedy9.txt   Kennedy  \n",
       "09Sep2005Kennedy0.txt   Kennedy  \n",
       "09Sep2005Kennedy14.txt  Kennedy  \n",
       "10Apr2005Kennedy1.txt   Kennedy  \n",
       "10Apr2006Kennedy1.txt   Kennedy  \n",
       "10Apr2007Kennedy5.txt   Kennedy  \n",
       "10Apr2007Kennedy6.txt   Kennedy  \n",
       "10Aug2005Kennedy6.txt   Kennedy  \n",
       "10Aug2005Kennedy7.txt   Kennedy  \n",
       "10Aug2005Kennedy8.txt   Kennedy  \n",
       "10Aug2005Kennedy9.txt   Kennedy  \n",
       "10Aug2006Kennedy8.txt   Kennedy  \n",
       "10Aug2007Kennedy6.txt   Kennedy  \n",
       "10Aug2007Kennedy7.txt   Kennedy  \n",
       "10Dec2007Kennedy2.txt   Kennedy  \n",
       "10Dec2007Kennedy3.txt   Kennedy  \n",
       "10Dec2007Kennedy4.txt   Kennedy  \n",
       "10Feb2005Kennedy7.txt   Kennedy  \n",
       "10Feb2005Kennedy8.txt   Kennedy  \n",
       "10Feb2005Kennedy9.txt   Kennedy  \n",
       "10Feb2006Kennedy0.txt   Kennedy  \n",
       "...                         ...  \n",
       "8Jun2006Kyl205.txt          Kyl  \n",
       "8Mar2006Kyl249.txt          Kyl  \n",
       "8May2006Kyl222.txt          Kyl  \n",
       "8Nov2004Kyl438.txt          Kyl  \n",
       "8Nov2005Kyl308.txt          Kyl  \n",
       "8Nov2005Kyl309.txt          Kyl  \n",
       "8Nov2005Kyl310.txt          Kyl  \n",
       "9Apr2007Kyl110.txt          Kyl  \n",
       "9Apr2008Kyl4.txt            Kyl  \n",
       "9Aug2004Kyl463.txt          Kyl  \n",
       "9Aug2005Kyl351.txt          Kyl  \n",
       "9Dec2006Kyl148.txt          Kyl  \n",
       "9Dec2006Kyl149.txt          Kyl  \n",
       "9Feb2006Kyl263.txt          Kyl  \n",
       "9Jan2006Kyl280.txt          Kyl  \n",
       "9Jun2004Kyl492.txt          Kyl  \n",
       "9Mar2006Kyl246.txt          Kyl  \n",
       "9Mar2006Kyl247.txt          Kyl  \n",
       "9Mar2006Kyl248.txt          Kyl  \n",
       "9May2005Kyl384.txt          Kyl  \n",
       "9May2006Kyl221.txt          Kyl  \n",
       "9May2007Kyl100.txt          Kyl  \n",
       "9May2007Kyl99.txt           Kyl  \n",
       "9Nov2004Kyl437.txt          Kyl  \n",
       "9Nov2005Kyl305.txt          Kyl  \n",
       "9Nov2005Kyl306.txt          Kyl  \n",
       "9Nov2005Kyl307.txt          Kyl  \n",
       "9Oct2007Kyl61.txt           Kyl  \n",
       "9Sep2005Kyl342.txt          Kyl  \n",
       "9Sep2005Kyl343.txt          Kyl  \n",
       "\n",
       "[3404 rows x 2 columns]"
      ]
     },
     "execution_count": 16,
     "metadata": {},
     "output_type": "execute_result"
    }
   ],
   "source": [
    "dataDir = '../data/grimmerPressReleases'\n",
    "\n",
    "senReleasesDF = pandas.DataFrame()\n",
    "\n",
    "for senatorDir in (file for file in os.scandir(dataDir) if not file.name.startswith('.') and file.is_dir()):\n",
    "    senDF = lucem_illud.loadTextDirectory(senatorDir.path)\n",
    "    senDF['category'] = senatorDir.name\n",
    "    senReleasesDF = senReleasesDF.append(senDF, ignore_index = False)\n",
    "\n",
    "senReleasesDF[500:]"
   ]
  },
  {
   "cell_type": "markdown",
   "metadata": {},
   "source": [
    "We also want to remove stop words and stem. Tokenizing requires two steps. Word2Vec needs to retain the sentence structure so as to capture a \"continuous bag of words (CBOW)\" and all of the skip-grams within a word window. The algorithm tries to preserve the distances induced by one of these two local structures. This is very different from clustering and LDA topic modeling which extract unordered words alone. As such, tokenizing is slightly more involved, but we can still use `lucem_illud`."
   ]
  },
  {
   "cell_type": "code",
   "execution_count": 17,
   "metadata": {
    "collapsed": false
   },
   "outputs": [
    {
     "data": {
      "text/html": [
       "<div>\n",
       "<style scoped>\n",
       "    .dataframe tbody tr th:only-of-type {\n",
       "        vertical-align: middle;\n",
       "    }\n",
       "\n",
       "    .dataframe tbody tr th {\n",
       "        vertical-align: top;\n",
       "    }\n",
       "\n",
       "    .dataframe thead th {\n",
       "        text-align: right;\n",
       "    }\n",
       "</style>\n",
       "<table border=\"1\" class=\"dataframe\">\n",
       "  <thead>\n",
       "    <tr style=\"text-align: right;\">\n",
       "      <th></th>\n",
       "      <th>text</th>\n",
       "      <th>category</th>\n",
       "      <th>tokenized_sents</th>\n",
       "      <th>normalized_sents</th>\n",
       "    </tr>\n",
       "  </thead>\n",
       "  <tbody>\n",
       "    <tr>\n",
       "      <th>01Apr2005Kennedy14.txt</th>\n",
       "      <td>FOR IMMEDIATE RELEASE   FOR IMMEDIATE...</td>\n",
       "      <td>Kennedy</td>\n",
       "      <td>[[FOR, IMMEDIATE, RELEASE, FOR, IMMEDIATE, REL...</td>\n",
       "      <td>[[immediate, release, immediate, release, cont...</td>\n",
       "    </tr>\n",
       "    <tr>\n",
       "      <th>01Aug2005Kennedy12.txt</th>\n",
       "      <td>FOR IMMEDIATE RELEASE   FOR IMMEDIATE...</td>\n",
       "      <td>Kennedy</td>\n",
       "      <td>[[FOR, IMMEDIATE, RELEASE, FOR, IMMEDIATE, REL...</td>\n",
       "      <td>[[immediate, release, immediate, release, cont...</td>\n",
       "    </tr>\n",
       "    <tr>\n",
       "      <th>01Aug2006Kennedy10.txt</th>\n",
       "      <td>FOR IMMEDIATE RELEASE  FOR IMMEDIATE ...</td>\n",
       "      <td>Kennedy</td>\n",
       "      <td>[[FOR, IMMEDIATE, RELEASE, FOR, IMMEDIATE, REL...</td>\n",
       "      <td>[[immediate, release, immediate, release, wash...</td>\n",
       "    </tr>\n",
       "    <tr>\n",
       "      <th>01Aug2006Kennedy11.txt</th>\n",
       "      <td>FOR IMMEDIATE RELEASE  FOR IMMEDIATE ...</td>\n",
       "      <td>Kennedy</td>\n",
       "      <td>[[FOR, IMMEDIATE, RELEASE, FOR, IMMEDIATE, REL...</td>\n",
       "      <td>[[immediate, release, immediate, release, wash...</td>\n",
       "    </tr>\n",
       "    <tr>\n",
       "      <th>01Aug2006Kennedy12.txt</th>\n",
       "      <td>FOR IMMEDIATE RELEASE  FOR IMMEDIATE ...</td>\n",
       "      <td>Kennedy</td>\n",
       "      <td>[[FOR, IMMEDIATE, RELEASE, FOR, IMMEDIATE, REL...</td>\n",
       "      <td>[[immediate, release, immediate, release, cont...</td>\n",
       "    </tr>\n",
       "  </tbody>\n",
       "</table>\n",
       "</div>"
      ],
      "text/plain": [
       "                                                                     text  \\\n",
       "01Apr2005Kennedy14.txt           FOR IMMEDIATE RELEASE   FOR IMMEDIATE...   \n",
       "01Aug2005Kennedy12.txt           FOR IMMEDIATE RELEASE   FOR IMMEDIATE...   \n",
       "01Aug2006Kennedy10.txt           FOR IMMEDIATE RELEASE  FOR IMMEDIATE ...   \n",
       "01Aug2006Kennedy11.txt           FOR IMMEDIATE RELEASE  FOR IMMEDIATE ...   \n",
       "01Aug2006Kennedy12.txt           FOR IMMEDIATE RELEASE  FOR IMMEDIATE ...   \n",
       "\n",
       "                       category  \\\n",
       "01Apr2005Kennedy14.txt  Kennedy   \n",
       "01Aug2005Kennedy12.txt  Kennedy   \n",
       "01Aug2006Kennedy10.txt  Kennedy   \n",
       "01Aug2006Kennedy11.txt  Kennedy   \n",
       "01Aug2006Kennedy12.txt  Kennedy   \n",
       "\n",
       "                                                          tokenized_sents  \\\n",
       "01Apr2005Kennedy14.txt  [[FOR, IMMEDIATE, RELEASE, FOR, IMMEDIATE, REL...   \n",
       "01Aug2005Kennedy12.txt  [[FOR, IMMEDIATE, RELEASE, FOR, IMMEDIATE, REL...   \n",
       "01Aug2006Kennedy10.txt  [[FOR, IMMEDIATE, RELEASE, FOR, IMMEDIATE, REL...   \n",
       "01Aug2006Kennedy11.txt  [[FOR, IMMEDIATE, RELEASE, FOR, IMMEDIATE, REL...   \n",
       "01Aug2006Kennedy12.txt  [[FOR, IMMEDIATE, RELEASE, FOR, IMMEDIATE, REL...   \n",
       "\n",
       "                                                         normalized_sents  \n",
       "01Apr2005Kennedy14.txt  [[immediate, release, immediate, release, cont...  \n",
       "01Aug2005Kennedy12.txt  [[immediate, release, immediate, release, cont...  \n",
       "01Aug2006Kennedy10.txt  [[immediate, release, immediate, release, wash...  \n",
       "01Aug2006Kennedy11.txt  [[immediate, release, immediate, release, wash...  \n",
       "01Aug2006Kennedy12.txt  [[immediate, release, immediate, release, cont...  "
      ]
     },
     "execution_count": 17,
     "metadata": {},
     "output_type": "execute_result"
    }
   ],
   "source": [
    "#Apply our functions, notice each row is a list of lists now\n",
    "senReleasesDF['tokenized_sents'] = senReleasesDF['text'].apply(lambda x: \n",
    "                                                               [nltk.word_tokenize(s) for s in nltk.sent_tokenize(x)])\n",
    "senReleasesDF['normalized_sents'] = senReleasesDF['tokenized_sents'].apply(lambda x: \n",
    "                                                                           [lucem_illud.normalizeTokens(s, \n",
    "                                                                                           stopwordLst = lucem_illud.stop_words_basic, \n",
    "                                                                                           stemmer = None) \n",
    "                                                                            for s in x])\n",
    "\n",
    "senReleasesDF[:5]"
   ]
  },
  {
   "cell_type": "code",
   "execution_count": 184,
   "metadata": {
    "collapsed": false
   },
   "outputs": [
    {
     "data": {
      "text/plain": [
       "['i',\n",
       " 'me',\n",
       " 'my',\n",
       " 'myself',\n",
       " 'we',\n",
       " 'our',\n",
       " 'ours',\n",
       " 'ourselves',\n",
       " 'you',\n",
       " 'your',\n",
       " 'yours',\n",
       " 'yourself',\n",
       " 'yourselves',\n",
       " 'he',\n",
       " 'him',\n",
       " 'his',\n",
       " 'himself',\n",
       " 'she',\n",
       " 'her',\n",
       " 'hers',\n",
       " 'herself',\n",
       " 'it',\n",
       " 'its',\n",
       " 'itself',\n",
       " 'they',\n",
       " 'them',\n",
       " 'their',\n",
       " 'theirs',\n",
       " 'themselves',\n",
       " 'what',\n",
       " 'which',\n",
       " 'who',\n",
       " 'whom',\n",
       " 'this',\n",
       " 'that',\n",
       " 'these',\n",
       " 'those',\n",
       " 'am',\n",
       " 'is',\n",
       " 'are',\n",
       " 'was',\n",
       " 'were',\n",
       " 'be',\n",
       " 'been',\n",
       " 'being',\n",
       " 'have',\n",
       " 'has',\n",
       " 'had',\n",
       " 'having',\n",
       " 'do',\n",
       " 'does',\n",
       " 'did',\n",
       " 'doing',\n",
       " 'a',\n",
       " 'an',\n",
       " 'the',\n",
       " 'and',\n",
       " 'but',\n",
       " 'if',\n",
       " 'or',\n",
       " 'because',\n",
       " 'as',\n",
       " 'until',\n",
       " 'while',\n",
       " 'of',\n",
       " 'at',\n",
       " 'by',\n",
       " 'for',\n",
       " 'with',\n",
       " 'about',\n",
       " 'against',\n",
       " 'between',\n",
       " 'into',\n",
       " 'through',\n",
       " 'during',\n",
       " 'before',\n",
       " 'after',\n",
       " 'above',\n",
       " 'below',\n",
       " 'to',\n",
       " 'from',\n",
       " 'up',\n",
       " 'down',\n",
       " 'in',\n",
       " 'out',\n",
       " 'on',\n",
       " 'off',\n",
       " 'over',\n",
       " 'under',\n",
       " 'again',\n",
       " 'further',\n",
       " 'then',\n",
       " 'once',\n",
       " 'here',\n",
       " 'there',\n",
       " 'when',\n",
       " 'where',\n",
       " 'why',\n",
       " 'how',\n",
       " 'all',\n",
       " 'any',\n",
       " 'both',\n",
       " 'each',\n",
       " 'few',\n",
       " 'more',\n",
       " 'most',\n",
       " 'other',\n",
       " 'some',\n",
       " 'such',\n",
       " 'no',\n",
       " 'nor',\n",
       " 'not',\n",
       " 'only',\n",
       " 'own',\n",
       " 'same',\n",
       " 'so',\n",
       " 'than',\n",
       " 'too',\n",
       " 'very',\n",
       " 's',\n",
       " 't',\n",
       " 'can',\n",
       " 'will',\n",
       " 'just',\n",
       " 'don',\n",
       " 'should',\n",
       " 'now',\n",
       " 'd',\n",
       " 'll',\n",
       " 'm',\n",
       " 'o',\n",
       " 're',\n",
       " 've',\n",
       " 'y',\n",
       " 'ain',\n",
       " 'aren',\n",
       " 'couldn',\n",
       " 'didn',\n",
       " 'doesn',\n",
       " 'hadn',\n",
       " 'hasn',\n",
       " 'haven',\n",
       " 'isn',\n",
       " 'ma',\n",
       " 'mightn',\n",
       " 'mustn',\n",
       " 'needn',\n",
       " 'shan',\n",
       " 'shouldn',\n",
       " 'wasn',\n",
       " 'weren',\n",
       " 'won',\n",
       " 'wouldn']"
      ]
     },
     "execution_count": 184,
     "metadata": {},
     "output_type": "execute_result"
    }
   ],
   "source": [
    "lucem_illud.stop_words_basic"
   ]
  },
  {
   "cell_type": "code",
   "execution_count": null,
   "metadata": {
    "collapsed": true
   },
   "outputs": [],
   "source": [
    "['i',\n",
    " 'me',\n",
    " 'my',\n",
    " 'myself',\n",
    " 'we',\n",
    " 'our',\n",
    " 'ours',\n",
    " 'ourselves',\n",
    " 'you',\n",
    " 'your',\n",
    " 'yours',\n",
    " 'yourself',\n",
    " 'yourselves',\n",
    " 'he',\n",
    " 'him',\n",
    " 'his',\n",
    " 'himself',\n",
    " 'she',\n",
    " 'her',\n",
    " 'hers',\n",
    " 'herself',\n",
    " 'it',\n",
    " 'its',\n",
    " 'itself',\n",
    " 'they',\n",
    " 'them',\n",
    " 'their',\n",
    " 'theirs',\n",
    " 'themselves',\n",
    " 'what',\n",
    " 'which',\n",
    " 'who',\n",
    " 'whom',\n",
    " 'this',\n",
    " 'that',\n",
    " 'these',\n",
    " 'those',\n",
    " 'am',\n",
    " 'is',\n",
    " 'are',\n",
    " 'was',\n",
    " 'were',\n",
    " 'be',\n",
    " 'been',\n",
    " 'being',\n",
    " 'have',\n",
    " 'has',\n",
    " 'had',\n",
    " 'having',\n",
    " 'do',\n",
    " 'does',\n",
    " 'did',\n",
    " 'doing',\n",
    " 'a',\n",
    " 'an',\n",
    " 'the',\n",
    " 'and',\n",
    " 'but',\n",
    " 'if',\n",
    " 'or',\n",
    " 'because',\n",
    " 'as',\n",
    " 'until',\n",
    " 'while',\n",
    " 'of',\n",
    " 'at',\n",
    " 'by',\n",
    " 'for',\n",
    " 'with',\n",
    " 'about',\n",
    " 'against',\n",
    " 'between',\n",
    " 'into',\n",
    " 'through',\n",
    " 'during',\n",
    " 'before',\n",
    " 'after',\n",
    " 'above',\n",
    " 'below',\n",
    " 'to',\n",
    " 'from',\n",
    " 'up',\n",
    " 'down',\n",
    " 'in',\n",
    " 'out',\n",
    " 'on',\n",
    " 'off',\n",
    " 'over',\n",
    " 'under',\n",
    " 'again',\n",
    " 'further',\n",
    " 'then',\n",
    " 'once',\n",
    " 'here',\n",
    " 'there',\n",
    " 'when',\n",
    " 'where',\n",
    " 'why',\n",
    " 'how',\n",
    " 'all',\n",
    " 'any',\n",
    " 'both',\n",
    " 'each',\n",
    " 'few',\n",
    " 'more',\n",
    " 'most',\n",
    " 'other',\n",
    " 'some',\n",
    " 'such',\n",
    " 'no',\n",
    " 'nor',\n",
    " 'not',\n",
    " 'only',\n",
    " 'own',\n",
    " 'same',\n",
    " 'so',\n",
    " 'than',\n",
    " 'too',\n",
    " 'very',\n",
    " 's',\n",
    " 't',\n",
    " 'can',\n",
    " 'will',\n",
    " 'just',\n",
    " 'don',\n",
    " 'should',\n",
    " 'now',\n",
    " 'd',\n",
    " 'll',\n",
    " 'm',\n",
    " 'o',\n",
    " 're',\n",
    " 've',\n",
    " 'y',\n",
    " 'ain',\n",
    " 'aren',\n",
    " 'couldn',\n",
    " 'didn',\n",
    " 'doesn',\n",
    " 'hadn',\n",
    " 'hasn',\n",
    " 'haven',\n",
    " 'isn',\n",
    " 'ma',\n",
    " 'mightn',\n",
    " 'mustn',\n",
    " 'needn',\n",
    " 'shan',\n",
    " 'shouldn',\n",
    " 'wasn',\n",
    " 'weren',\n",
    " 'won',\n",
    " 'wouldn']"
   ]
  },
  {
   "cell_type": "markdown",
   "metadata": {},
   "source": [
    "# Word2Vec\n",
    "\n",
    "We will be using the gensim implementation of [Word2Vec](https://radimrehurek.com/gensim/models/word2vec.html#gensim.models.word2vec.Word2Vec).\n",
    "\n",
    "To load our data, we give all the sentences to the trainer. We just need to add the words as a list of sentences:"
   ]
  },
  {
   "cell_type": "code",
   "execution_count": 18,
   "metadata": {
    "collapsed": true
   },
   "outputs": [],
   "source": [
    "senReleasesW2V = gensim.models.word2vec.Word2Vec(senReleasesDF['normalized_sents'].sum())"
   ]
  },
  {
   "cell_type": "code",
   "execution_count": 179,
   "metadata": {
    "collapsed": false
   },
   "outputs": [
    {
     "data": {
      "text/plain": [
       "array([-0.11862146,  0.33311498, -0.43220776, -0.28086147, -0.35177854,\n",
       "       -0.2535357 , -0.11268201,  0.24313824, -0.27881145, -0.20560177,\n",
       "       -0.2397739 ,  0.01237644, -0.07875748,  0.02990303,  0.2733548 ,\n",
       "        0.08545996, -0.2075332 ,  0.5649065 , -0.3545065 ,  0.12021397,\n",
       "       -0.35453206, -0.31070387,  0.4081539 , -0.06240889,  0.1011078 ,\n",
       "       -0.06594517, -0.2497051 , -0.01192583,  0.16589086,  0.02452757,\n",
       "       -0.13086164, -0.13676612,  0.06146326,  0.08647578, -0.2185428 ,\n",
       "        0.04398369,  0.05937152, -0.2141547 , -0.22627912, -0.14584751,\n",
       "       -0.13541825, -0.03599632, -0.04456887, -0.27386257,  0.11196995,\n",
       "       -0.10333508,  0.1607745 ,  0.04449883, -0.06585941,  0.20671499,\n",
       "        0.301435  ,  0.31031168, -0.19742273, -0.55925417,  0.21957219,\n",
       "       -0.19591126, -0.15103573, -0.21502545, -0.11030754, -0.07192699,\n",
       "       -0.1428107 , -0.08635134,  0.22082882, -0.2676207 , -0.18904941,\n",
       "        0.14283589, -0.0141363 , -0.20915253,  0.03687188,  0.11442632,\n",
       "       -0.11027714,  0.15437078, -0.06648564, -0.30315015, -0.03781034,\n",
       "       -0.3663543 , -0.12021433,  0.17080252,  0.02681754,  0.19440624,\n",
       "        0.18630472,  0.16317175, -0.14810984, -0.40445885,  0.12452339,\n",
       "        0.17976674, -0.21922034, -0.08349922,  0.14907433, -0.5312037 ,\n",
       "        0.03831051, -0.04091461, -0.00903077,  0.0630947 ,  0.37192264,\n",
       "        0.2724465 ,  0.23504174,  0.11909669,  0.12936643,  0.53815514],\n",
       "      dtype=float32)"
      ]
     },
     "execution_count": 179,
     "metadata": {},
     "output_type": "execute_result"
    }
   ],
   "source": [
    "#MYCODE\n",
    "yelp_reviewW2V = gensim.models.word2vec.Word2Vec(yelp_review_df['normalized_sents'].sum())\n"
   ]
  },
  {
   "cell_type": "markdown",
   "metadata": {},
   "source": [
    "Inside the word2vec object, the words each have a vector. To access the vector directly, use the square braces (`__getitem__`) method:"
   ]
  },
  {
   "cell_type": "code",
   "execution_count": 19,
   "metadata": {
    "collapsed": false
   },
   "outputs": [
    {
     "name": "stdout",
     "output_type": "stream",
     "text": [
      "A 100 dimesional vector:\n"
     ]
    },
    {
     "data": {
      "text/plain": [
       "array([ 0.21463813, -2.4928463 , -1.3382112 , -0.29357967,  2.0879612 ,\n",
       "       -0.9939671 , -0.7598374 , -4.248101  ,  0.6762936 ,  0.88042086,\n",
       "        0.18618488, -1.1595953 , -0.30573738, -1.5931863 ,  1.2178746 ,\n",
       "        1.6337193 , -3.1445951 ,  1.3695905 ,  2.7338495 , -1.8861676 ,\n",
       "       -1.5638429 , -1.4282196 , -0.07621961, -0.8994843 ,  1.6432965 ,\n",
       "        0.8211232 ,  2.4489074 , -0.9945894 , -0.5065598 ,  0.8359281 ,\n",
       "       -1.203756  ,  0.45721918,  0.02443863, -0.40609115, -1.034926  ,\n",
       "        2.6588278 ,  0.41259402,  1.4221814 ,  0.29908627,  0.33076504,\n",
       "       -0.4949316 ,  2.0071507 , -0.73610616, -0.07186694, -0.83164024,\n",
       "        3.5208094 ,  0.09666304, -1.3893684 ,  0.9527506 ,  0.29487088,\n",
       "        1.3332533 , -1.1702693 , -0.5426937 , -0.61918175, -2.0740287 ,\n",
       "        1.0176561 , -0.48862657,  0.19014102,  0.8597138 , -0.38488695,\n",
       "        0.8181953 , -1.3129003 , -0.3793373 , -0.6382107 ,  0.036537  ,\n",
       "       -0.4277667 , -1.344971  , -1.7617444 , -0.3062383 , -1.0884545 ,\n",
       "        1.2151724 , -2.841171  , -0.35237724, -0.93888384,  0.36966592,\n",
       "       -1.8961246 , -0.5469603 ,  0.22149932, -1.2693288 ,  1.7880508 ,\n",
       "        1.3032292 , -2.2437284 ,  2.1094685 , -1.009149  , -0.7897611 ,\n",
       "       -0.19081168, -0.7297743 ,  0.95407206,  0.08314027,  0.10983633,\n",
       "       -2.1391764 , -1.1201698 ,  3.1373622 , -1.9526954 ,  2.1951213 ,\n",
       "        1.3340087 ,  1.7245789 ,  1.0800492 , -1.5662311 ,  2.4011233 ],\n",
       "      dtype=float32)"
      ]
     },
     "execution_count": 19,
     "metadata": {},
     "output_type": "execute_result"
    }
   ],
   "source": [
    "print(\"A {} dimesional vector:\".format(senReleasesW2V['president'].shape[0]))\n",
    "senReleasesW2V['president']"
   ]
  },
  {
   "cell_type": "markdown",
   "metadata": {},
   "source": [
    "If you want the full matrix, `syn0` stores all the vectors:"
   ]
  },
  {
   "cell_type": "code",
   "execution_count": 22,
   "metadata": {
    "collapsed": false
   },
   "outputs": [
    {
     "data": {
      "text/plain": [
       "array([[ 2.1344881e-01, -4.1819447e-01, -1.9157059e-01, ...,\n",
       "         2.2685070e+00, -5.7846141e-01,  7.0319265e-01],\n",
       "       [ 5.8106887e-01, -5.4966486e-01,  1.8359188e+00, ...,\n",
       "         2.0568972e+00, -1.1634756e+00, -1.6431767e-01],\n",
       "       [ 3.6444685e+00,  1.9614632e-01,  5.0251341e-01, ...,\n",
       "         3.7233899e+00, -5.2450049e-01, -3.1448835e-01],\n",
       "       ...,\n",
       "       [-1.0690471e-02,  8.5790530e-03, -2.8077953e-02, ...,\n",
       "         1.6923791e-02, -6.5001316e-02,  2.3269318e-03],\n",
       "       [ 5.1551424e-02, -5.4274898e-02,  4.5313470e-02, ...,\n",
       "        -8.4270686e-03,  4.9490955e-02,  1.3881481e-01],\n",
       "       [ 4.0550131e-02,  6.8089287e-03, -2.4140751e-02, ...,\n",
       "         2.9275462e-03, -8.1088513e-02,  7.8931515e-04]], dtype=float32)"
      ]
     },
     "execution_count": 22,
     "metadata": {},
     "output_type": "execute_result"
    }
   ],
   "source": [
    "senReleasesW2V.wv.syn0"
   ]
  },
  {
   "cell_type": "markdown",
   "metadata": {},
   "source": [
    "Then, `index2word` lets you translate from the matrix to words"
   ]
  },
  {
   "cell_type": "code",
   "execution_count": 23,
   "metadata": {
    "collapsed": false
   },
   "outputs": [
    {
     "data": {
      "text/plain": [
       "'american'"
      ]
     },
     "execution_count": 23,
     "metadata": {},
     "output_type": "execute_result"
    }
   ],
   "source": [
    "senReleasesW2V.wv.index2word[10]"
   ]
  },
  {
   "cell_type": "markdown",
   "metadata": {},
   "source": [
    "Now we can look at a few things that come from the word vectors. The first is to find similar vectors (cosine similarity):"
   ]
  },
  {
   "cell_type": "code",
   "execution_count": 24,
   "metadata": {
    "collapsed": false
   },
   "outputs": [
    {
     "data": {
      "text/plain": [
       "[('administration', 0.7766852378845215),\n",
       " ('presidents', 0.7568691968917847),\n",
       " ('administrations', 0.6382181644439697),\n",
       " ('cheney', 0.5937356352806091),\n",
       " ('george', 0.5756371021270752),\n",
       " ('unchallenged', 0.5372523069381714),\n",
       " ('presidency', 0.5167504549026489),\n",
       " ('slash', 0.5121973156929016),\n",
       " ('veto', 0.510909378528595),\n",
       " ('democrats', 0.5106726288795471)]"
      ]
     },
     "execution_count": 24,
     "metadata": {},
     "output_type": "execute_result"
    }
   ],
   "source": [
    "senReleasesW2V.most_similar('president')"
   ]
  },
  {
   "cell_type": "code",
   "execution_count": 25,
   "metadata": {
    "collapsed": false
   },
   "outputs": [
    {
     "data": {
      "text/plain": [
       "[('foment', 0.6553289294242859),\n",
       " ('unresisted', 0.6493677496910095),\n",
       " ('quagmire', 0.6483136415481567),\n",
       " ('disobedience', 0.6451053619384766),\n",
       " ('afghanistan', 0.6403235197067261),\n",
       " ('descending', 0.6291087865829468),\n",
       " ('wars', 0.6260169744491577),\n",
       " ('chaos', 0.6136266589164734),\n",
       " ('battle', 0.6076245307922363),\n",
       " ('strife', 0.5911901593208313)]"
      ]
     },
     "execution_count": 25,
     "metadata": {},
     "output_type": "execute_result"
    }
   ],
   "source": [
    "senReleasesW2V.most_similar('war')"
   ]
  },
  {
   "cell_type": "markdown",
   "metadata": {},
   "source": [
    "Or we can get this directly (calculated slightly differently):"
   ]
  },
  {
   "cell_type": "code",
   "execution_count": 26,
   "metadata": {
    "collapsed": true
   },
   "outputs": [],
   "source": [
    "def cos_difference(embedding,word1,word2):\n",
    "    return sklearn.metrics.pairwise.cosine_similarity(embedding[word1].reshape(1,-1),embedding[word2].reshape(1,-1))"
   ]
  },
  {
   "cell_type": "code",
   "execution_count": 27,
   "metadata": {
    "collapsed": false
   },
   "outputs": [
    {
     "data": {
      "text/plain": [
       "array([[0.5193637]], dtype=float32)"
      ]
     },
     "execution_count": 27,
     "metadata": {},
     "output_type": "execute_result"
    }
   ],
   "source": [
    "cos_difference(senReleasesW2V, 'war', 'unwinnable')"
   ]
  },
  {
   "cell_type": "markdown",
   "metadata": {},
   "source": [
    "We can also find which word least matches the others within a word set (cosine similarity):"
   ]
  },
  {
   "cell_type": "code",
   "execution_count": 28,
   "metadata": {
    "collapsed": false
   },
   "outputs": [
    {
     "data": {
      "text/plain": [
       "'washington'"
      ]
     },
     "execution_count": 28,
     "metadata": {},
     "output_type": "execute_result"
    }
   ],
   "source": [
    "senReleasesW2V.doesnt_match(['administration', 'administrations', 'presidents', 'president', 'washington'])"
   ]
  },
  {
   "cell_type": "markdown",
   "metadata": {},
   "source": [
    "Find which word best matches the result of a semantic *equation* (here, we seek the words whose vectors best fit the missing entry from the equation: **X + Y - Z = _**."
   ]
  },
  {
   "cell_type": "code",
   "execution_count": 29,
   "metadata": {
    "collapsed": false
   },
   "outputs": [
    {
     "data": {
      "text/plain": [
       "[('bush', 0.6456661224365234),\n",
       " ('vetoed', 0.6244863271713257),\n",
       " ('signed', 0.618177056312561),\n",
       " ('signing', 0.6126625537872314),\n",
       " ('veto', 0.6106950044631958),\n",
       " ('reverse', 0.6060127019882202),\n",
       " ('bushs', 0.6019455790519714),\n",
       " ('proposing', 0.6014896631240845),\n",
       " ('blocked', 0.596039354801178),\n",
       " ('signature', 0.5929346084594727)]"
      ]
     },
     "execution_count": 29,
     "metadata": {},
     "output_type": "execute_result"
    }
   ],
   "source": [
    "senReleasesW2V.most_similar(positive=['clinton', 'republican'], negative = ['democrat'])"
   ]
  },
  {
   "cell_type": "markdown",
   "metadata": {},
   "source": [
    "Here we see that **Clinton + Republican - Democrat = Bush**. In other words, in this dataset and period, **Clinton** was to **Democrat** as **Bush** was to **Republican**. Whoah!"
   ]
  },
  {
   "cell_type": "markdown",
   "metadata": {},
   "source": [
    " But how do we argue that these are stable distances or associations?"
   ]
  },
  {
   "cell_type": "markdown",
   "metadata": {},
   "source": [
    "## Establishing Credible or Confidence Intervals"
   ]
  },
  {
   "cell_type": "markdown",
   "metadata": {},
   "source": [
    "### Boostrapping approach"
   ]
  },
  {
   "cell_type": "markdown",
   "metadata": {},
   "source": [
    "We propose well-established bootstrapping and subsampling methods to nonparametrically demonstrate the stability and significance of word associations within our embedding model. These allow us to establish conservative confidence intervals to both (a) distances between words in a model and (b) projections of words onto an induced dimension (e.g., man-woman). If we assume that the texts (e.g., newspapers, books) underlying our word embedding model are observations drawn from an independent and identically distributed (i.i.d.) population of cultural observations, then bootstrapping allows us to estimate the variance of word distances and projections by measuring those properties through sampling the empirical distribution of texts with replacement (Efron and Tibshirani 1994; Efron 2003). Operationally, if we wanted to bootstrap a 90% confidence interval of a word-word distance or word-dimension projection, we would sample a corpus the same size as the original corpus, but with replacement, 20 times, estimate word embedding models on each sample. Then we take the 2nd order (2nd smallest) statistic $s_{(2)}$--either distance or projection--as our confidence interval’s lower bound, and 19th order statistic $s_{(19)}$ as its upper bound. The distance between $s_{(2)}$ and $s_{(19)}$ across 20 bootstrap samples span the 5th to the 95th percentiles of the statistic’s variance, bounding the 90th confidence interval. A 95% confidence interval would span $s_{(2)}$ and $s_{(39)}$ in word embedding distances or projections estimated on 40 bootstrap samples of a corpus, tracing the 2.5th to 97.5th percentiles. "
   ]
  },
  {
   "cell_type": "code",
   "execution_count": 30,
   "metadata": {
    "collapsed": false
   },
   "outputs": [
    {
     "data": {
      "text/plain": [
       "[0.3045778,\n",
       " 0.31956053,\n",
       " 0.3492662,\n",
       " 0.39131412,\n",
       " 0.39257658,\n",
       " 0.39285147,\n",
       " 0.4085766,\n",
       " 0.41813347,\n",
       " 0.5054416,\n",
       " 0.5095863,\n",
       " 0.5136409,\n",
       " 0.52183914,\n",
       " 0.52511686,\n",
       " 0.52787364,\n",
       " 0.5519584,\n",
       " 0.55683625,\n",
       " 0.5632223,\n",
       " 0.5646773,\n",
       " 0.6228472,\n",
       " 0.6311857]"
      ]
     },
     "execution_count": 30,
     "metadata": {},
     "output_type": "execute_result"
    }
   ],
   "source": [
    "estimatesB=[]\n",
    "for x in range(20):\n",
    "    senReleasesW2VB = gensim.models.word2vec.Word2Vec(senReleasesDF['normalized_sents'].sample(frac=1.0, replace=True).sum())\n",
    "    try:\n",
    "        estimatesB.append(cos_difference(senReleasesW2VB, 'war', 'unwinnable')[0,0])\n",
    "    except KeyError:\n",
    "        #Missing one of the words from the vocab\n",
    "        pass\n",
    "                                                      \n",
    "estimatesB.sort()         \n",
    "estimatesB"
   ]
  },
  {
   "cell_type": "code",
   "execution_count": 31,
   "metadata": {
    "collapsed": false
   },
   "outputs": [
    {
     "name": "stdout",
     "output_type": "stream",
     "text": [
      "The 90% confidence interval for the cosine distance between war and unwinnable is:\n",
      " 0.31956053 0.6228472\n"
     ]
    }
   ],
   "source": [
    "print(\"The 90% confidence interval for the cosine distance between war and unwinnable is:\\n\",estimatesB[1], estimatesB[-2])"
   ]
  },
  {
   "cell_type": "markdown",
   "metadata": {},
   "source": [
    "### Subsampling approach"
   ]
  },
  {
   "cell_type": "markdown",
   "metadata": {},
   "source": [
    "If the corpus is large, then we may take a subsampling approach, which randomly partitions the corpus into non-overlapping samples, then estimates the word-embedding models on these subsets and calculates confidence intervals as a function of the empirical distribution of distance or projection statistics and number of texts in the subsample (Politis and Romano 1997). Subsampling requires the same i.i.d. assumption as the bootrap (Politis and Romano 1992; Politis and Romano 1994). For 90% confidence intervals, we randomly partition the corpus into 20 subcorpora, then calculate $B^k=\\sqrt{\\tau_k}\\left(s^k-\\bar{s}\\right)$ for each $k$th sample, where $k$ is the number of texts and $s^k$ is the embedding distance or projection for the $k$th sample, and $\\bar{s}$ is the average statistic for all samples. The 90% confidence interval spans the 5th to 95th percentile variances, inscribed by $\\bar{s}-\\frac{B_{(19)}^k}{\\sqrt{\\tau}}$ and $\\bar{s}-\\frac{B_{(2)}^k}{\\sqrt{\\tau}}$, where $\\tau$ the number of texts in the total corpus and $s$ is the average statistic across all subsamples. As with bootrapping, a 95% confidence interval would require 40 subsamples; a 99% confidence would require 200 (.5th to 99.5th percentiles)."
   ]
  },
  {
   "cell_type": "code",
   "execution_count": 32,
   "metadata": {
    "collapsed": false
   },
   "outputs": [
    {
     "ename": "NameError",
     "evalue": "name 'sample_indices' is not defined",
     "output_type": "error",
     "traceback": [
      "\u001b[0;31m---------------------------------------------------------------------------\u001b[0m",
      "\u001b[0;31mNameError\u001b[0m                                 Traceback (most recent call last)",
      "\u001b[0;32m<ipython-input-32-693370b629df>\u001b[0m in \u001b[0;36m<module>\u001b[0;34m()\u001b[0m\n\u001b[0;32m----> 1\u001b[0;31m \u001b[0msenReleasesDF\u001b[0m\u001b[0;34m[\u001b[0m\u001b[0msample_indices\u001b[0m \u001b[0;34m==\u001b[0m \u001b[0mi\u001b[0m\u001b[0;34m]\u001b[0m\u001b[0;34m\u001b[0m\u001b[0m\n\u001b[0m",
      "\u001b[0;31mNameError\u001b[0m: name 'sample_indices' is not defined"
     ]
    }
   ],
   "source": [
    "senReleasesDF[sample_indices == i]"
   ]
  },
  {
   "cell_type": "code",
   "execution_count": 34,
   "metadata": {
    "collapsed": false
   },
   "outputs": [
    {
     "name": "stdout",
     "output_type": "stream",
     "text": [
      "3904\n",
      "[0.95282114 0.9880504  0.94906157 0.96915871 0.98860079 0.97529066\n",
      " 0.96891761 0.9932431  0.99676079 0.93959379]\n",
      "[373. 378. 408. 387. 376. 409. 403. 387. 382. 401.]\n"
     ]
    }
   ],
   "source": [
    "n_samples = 10\n",
    "sample_indices = np.random.randint(0,n_samples,(len(senReleasesDF),))\n",
    "print(len(sample_indices))\n",
    "s_k =np.array([])\n",
    "tau_k=np.array([])\n",
    "\n",
    "for i in range(n_samples):\n",
    "    sample_w2v = gensim.models.word2vec.Word2Vec(senReleasesDF[sample_indices == i]['normalized_sents'].sum())\n",
    "    try:\n",
    "        #Need to use words present in most samples\n",
    "        s_k = np.append(s_k, cos_difference(sample_w2v, 'war', 'responsibility')[0,0])\n",
    "    except KeyError:\n",
    "        pass\n",
    "    else:\n",
    "        tau_k = np.append(tau_k, len(senReleasesDF[sample_indices == i]))\n",
    "\n",
    "print(s_k)\n",
    "print(tau_k)\n",
    "\n",
    "tau = tau_k.sum()\n",
    "s = s_k.mean()\n",
    "B_k = np.sqrt(tau_k) * s_k-s_k.mean()"
   ]
  },
  {
   "cell_type": "code",
   "execution_count": 35,
   "metadata": {
    "collapsed": false
   },
   "outputs": [
    {
     "name": "stdout",
     "output_type": "stream",
     "text": [
      "The 90% confidence interval for the cosine distance between war and responsibility is:\n",
      " 0.6759147578281886 0.6802618512572749\n"
     ]
    }
   ],
   "source": [
    "print(\"The 90% confidence interval for the cosine distance between war and responsibility is:\\n\",s-B_k[-2]/np.sqrt(tau), s-B_k[1]/np.sqrt(tau))"
   ]
  },
  {
   "cell_type": "markdown",
   "metadata": {},
   "source": [
    "We can also save the vectors for later use:"
   ]
  },
  {
   "cell_type": "code",
   "execution_count": 36,
   "metadata": {
    "collapsed": true
   },
   "outputs": [],
   "source": [
    "senReleasesW2V.save(\"senpressreleasesWORD2Vec.mm\")\n",
    "#Load with senReleasesW2V = gensim.models.word2vec.Word2Vec.load('senpressreleasesWORD2Vec.mm')"
   ]
  },
  {
   "cell_type": "markdown",
   "metadata": {},
   "source": [
    "## Visualize"
   ]
  },
  {
   "cell_type": "markdown",
   "metadata": {},
   "source": [
    "We can also use dimension reduction to visulize the vectors. We will start by selecting a subset we want to plot. Let's look at the top words from the set:"
   ]
  },
  {
   "cell_type": "code",
   "execution_count": 68,
   "metadata": {
    "collapsed": false
   },
   "outputs": [],
   "source": [
    "numWords = 150\n",
    "targetWords = senReleasesW2V.wv.index2word[:numWords]\n"
   ]
  },
  {
   "cell_type": "markdown",
   "metadata": {},
   "source": [
    "We can then extract their vectors and create our own smaller matrix that preserved the distances from the original:"
   ]
  },
  {
   "cell_type": "code",
   "execution_count": 38,
   "metadata": {
    "collapsed": false
   },
   "outputs": [
    {
     "data": {
      "text/plain": [
       "array([[ 0.21344881, -0.41819447, -0.1915706 , ...,  2.268507  ,\n",
       "        -0.5784614 ,  0.70319265],\n",
       "       [ 0.5810689 , -0.54966486,  1.8359188 , ...,  2.0568972 ,\n",
       "        -1.1634756 , -0.16431767],\n",
       "       [ 3.6444685 ,  0.19614632,  0.5025134 , ...,  3.7233899 ,\n",
       "        -0.5245005 , -0.31448835],\n",
       "       ...,\n",
       "       [ 2.9970026 ,  0.05243365,  1.2943149 , ...,  2.831482  ,\n",
       "         0.05581347,  0.9685421 ],\n",
       "       [ 1.0152698 , -0.5196835 ,  0.3119259 , ...,  0.44217932,\n",
       "        -0.46727642, -0.94286615],\n",
       "       [ 0.26481187,  0.11354718,  0.84900147, ..., -0.5389863 ,\n",
       "        -0.6135969 ,  1.0370247 ]], dtype=float32)"
      ]
     },
     "execution_count": 38,
     "metadata": {},
     "output_type": "execute_result"
    }
   ],
   "source": [
    "wordsSubMatrix = []\n",
    "for word in targetWords:\n",
    "    wordsSubMatrix.append(senReleasesW2V[word])\n",
    "wordsSubMatrix = np.array(wordsSubMatrix)\n",
    "wordsSubMatrix"
   ]
  },
  {
   "cell_type": "code",
   "execution_count": 71,
   "metadata": {
    "collapsed": false
   },
   "outputs": [
    {
     "data": {
      "text/plain": [
       "(150, 100)"
      ]
     },
     "execution_count": 71,
     "metadata": {},
     "output_type": "execute_result"
    }
   ],
   "source": []
  },
  {
   "cell_type": "markdown",
   "metadata": {},
   "source": [
    "Then we can use PCA to reduce the dimesions (e.g., to 50), and [T-SNE](https://en.wikipedia.org/wiki/T-distributed_stochastic_neighbor_embedding) to project them down to the two we will visualize. We note that this is nondeterministic process, and so you can repeat and achieve alternative projectsions/visualizations of the words:"
   ]
  },
  {
   "cell_type": "code",
   "execution_count": 39,
   "metadata": {
    "collapsed": true
   },
   "outputs": [],
   "source": [
    "pcaWords = sklearn.decomposition.PCA(n_components = 50).fit(wordsSubMatrix)\n",
    "reducedPCA_data = pcaWords.transform(wordsSubMatrix)\n",
    "#T-SNE is theoretically better, but you should experiment\n",
    "tsneWords = sklearn.manifold.TSNE(n_components = 2, early_exaggeration = 25).fit_transform(reducedPCA_data)"
   ]
  },
  {
   "cell_type": "markdown",
   "metadata": {},
   "source": [
    "We now can plot the points"
   ]
  },
  {
   "cell_type": "code",
   "execution_count": 40,
   "metadata": {
    "collapsed": false
   },
   "outputs": [
    {
     "data": {
      "image/png": "[encoded data removed]",
      "text/plain": [
       "<matplotlib.figure.Figure at 0x12876c780>"
      ]
     },
     "metadata": {},
     "output_type": "display_data"
    }
   ],
   "source": [
    "fig = plt.figure(figsize = (15,10))\n",
    "ax = fig.add_subplot(111)\n",
    "ax.set_frame_on(False)\n",
    "plt.scatter(tsneWords[:, 0], tsneWords[:, 1], alpha = 0)#Making the points invisible \n",
    "for i, word in enumerate(targetWords):\n",
    "    ax.annotate(word, \n",
    "                (tsneWords[:, 0][i],tsneWords[:, 1][i]), \n",
    "                size =  20 * (numWords - i) / numWords, \n",
    "                alpha = .8 * (numWords - i) / numWords + .2)\n",
    "plt.xticks(())\n",
    "plt.yticks(())\n",
    "plt.show()"
   ]
  },
  {
   "cell_type": "markdown",
   "metadata": {},
   "source": [
    "My visualization above puts ``iraq`` next to ``time`` and ``bill`` near ``help``. <img src='../data/examplewordcloud.svg'>"
   ]
  },
  {
   "cell_type": "markdown",
   "metadata": {},
   "source": [
    "What if a new senator come along with whose names starts with K? Could we analyse their releases too without rerunning the entire embedding? Lets try with Cardin in `../data/grimmerPressReleases_extra/Cardin`. First we need to load and proccess the releases:"
   ]
  },
  {
   "cell_type": "code",
   "execution_count": 41,
   "metadata": {
    "collapsed": false
   },
   "outputs": [
    {
     "data": {
      "text/html": [
       "<div>\n",
       "<style scoped>\n",
       "    .dataframe tbody tr th:only-of-type {\n",
       "        vertical-align: middle;\n",
       "    }\n",
       "\n",
       "    .dataframe tbody tr th {\n",
       "        vertical-align: top;\n",
       "    }\n",
       "\n",
       "    .dataframe thead th {\n",
       "        text-align: right;\n",
       "    }\n",
       "</style>\n",
       "<table border=\"1\" class=\"dataframe\">\n",
       "  <thead>\n",
       "    <tr style=\"text-align: right;\">\n",
       "      <th></th>\n",
       "      <th>text</th>\n",
       "      <th>category</th>\n",
       "      <th>tokenized_sents</th>\n",
       "      <th>normalized_sents</th>\n",
       "    </tr>\n",
       "  </thead>\n",
       "  <tbody>\n",
       "    <tr>\n",
       "      <th>01Aug2007Cardin156.txt</th>\n",
       "      <td>...</td>\n",
       "      <td>Cardin</td>\n",
       "      <td>[[CARDIN, MIKULSKI, PRAISES, PASSAGE, OF, STRO...</td>\n",
       "      <td>[[cardin, mikulski, praises, passage, strong, ...</td>\n",
       "    </tr>\n",
       "    <tr>\n",
       "      <th>01Feb2007Cardin297.txt</th>\n",
       "      <td>...</td>\n",
       "      <td>Cardin</td>\n",
       "      <td>[[CARDIN, VOTES, TO, INCREASE, MINIMUM, WAGE, ...</td>\n",
       "      <td>[[cardin, votes, increase, minimum, wage, pay,...</td>\n",
       "    </tr>\n",
       "    <tr>\n",
       "      <th>01Feb2007Cardin298.txt</th>\n",
       "      <td>...</td>\n",
       "      <td>Cardin</td>\n",
       "      <td>[[S, 453, SEN, CARDIN, CO, SPONSORS, BILL, TO,...</td>\n",
       "      <td>[[sen, cardin, co, sponsors, bill, protect, vo...</td>\n",
       "    </tr>\n",
       "    <tr>\n",
       "      <th>01Feb2007Cardin299.txt</th>\n",
       "      <td>...</td>\n",
       "      <td>Cardin</td>\n",
       "      <td>[[S, 450, CARDIN, INTRODUCES, BILL, TO, ELIMIN...</td>\n",
       "      <td>[[cardin, introduces, bill, eliminate, arbitra...</td>\n",
       "    </tr>\n",
       "    <tr>\n",
       "      <th>01Jun2007Cardin199.txt</th>\n",
       "      <td>...</td>\n",
       "      <td>Cardin</td>\n",
       "      <td>[[CARDIN, MIKULSKI, ANNOUNCE, 7, 3, MILLION, F...</td>\n",
       "      <td>[[cardin, mikulski, announce, million, hagerst...</td>\n",
       "    </tr>\n",
       "    <tr>\n",
       "      <th>01Jun2007Cardin200.txt</th>\n",
       "      <td>...</td>\n",
       "      <td>Cardin</td>\n",
       "      <td>[[CARDIN, MIKULSKI, ANNOUNCE, 4, 6, MILLION, F...</td>\n",
       "      <td>[[cardin, mikulski, announce, million, salisbu...</td>\n",
       "    </tr>\n",
       "    <tr>\n",
       "      <th>01Mar2007Cardin279.txt</th>\n",
       "      <td>...</td>\n",
       "      <td>Cardin</td>\n",
       "      <td>[[SEN, CARDIN, FIGHTS, TO, IMPROVE, SECURITY, ...</td>\n",
       "      <td>[[sen, cardin, fights, improve, security, amer...</td>\n",
       "    </tr>\n",
       "    <tr>\n",
       "      <th>01Mar2007Cardin280.txt</th>\n",
       "      <td>...</td>\n",
       "      <td>Cardin</td>\n",
       "      <td>[[CARDIN, MIKULSKI, ANNOUNCE, 35, 000, FOR, WE...</td>\n",
       "      <td>[[cardin, mikulski, announce, western, marylan...</td>\n",
       "    </tr>\n",
       "    <tr>\n",
       "      <th>01May2007Cardin228.txt</th>\n",
       "      <td>...</td>\n",
       "      <td>Cardin</td>\n",
       "      <td>[[STATEMENT, BY, U, S, SENATOR, BENJAMIN, L, C...</td>\n",
       "      <td>[[statement, u, senator, benjamin, l, cardin, ...</td>\n",
       "    </tr>\n",
       "    <tr>\n",
       "      <th>01May2007Cardin229.txt</th>\n",
       "      <td>...</td>\n",
       "      <td>Cardin</td>\n",
       "      <td>[[CARDIN, TELLS, THE, AG, COMMITTEE, THAT, THE...</td>\n",
       "      <td>[[cardin, tells, ag, committee, farm, bill, co...</td>\n",
       "    </tr>\n",
       "  </tbody>\n",
       "</table>\n",
       "</div>"
      ],
      "text/plain": [
       "                                                                     text  \\\n",
       "01Aug2007Cardin156.txt                                                ...   \n",
       "01Feb2007Cardin297.txt                                                ...   \n",
       "01Feb2007Cardin298.txt                                                ...   \n",
       "01Feb2007Cardin299.txt                                                ...   \n",
       "01Jun2007Cardin199.txt                                                ...   \n",
       "01Jun2007Cardin200.txt                                                ...   \n",
       "01Mar2007Cardin279.txt                                                ...   \n",
       "01Mar2007Cardin280.txt                                                ...   \n",
       "01May2007Cardin228.txt                                                ...   \n",
       "01May2007Cardin229.txt                                                ...   \n",
       "\n",
       "                       category  \\\n",
       "01Aug2007Cardin156.txt   Cardin   \n",
       "01Feb2007Cardin297.txt   Cardin   \n",
       "01Feb2007Cardin298.txt   Cardin   \n",
       "01Feb2007Cardin299.txt   Cardin   \n",
       "01Jun2007Cardin199.txt   Cardin   \n",
       "01Jun2007Cardin200.txt   Cardin   \n",
       "01Mar2007Cardin279.txt   Cardin   \n",
       "01Mar2007Cardin280.txt   Cardin   \n",
       "01May2007Cardin228.txt   Cardin   \n",
       "01May2007Cardin229.txt   Cardin   \n",
       "\n",
       "                                                          tokenized_sents  \\\n",
       "01Aug2007Cardin156.txt  [[CARDIN, MIKULSKI, PRAISES, PASSAGE, OF, STRO...   \n",
       "01Feb2007Cardin297.txt  [[CARDIN, VOTES, TO, INCREASE, MINIMUM, WAGE, ...   \n",
       "01Feb2007Cardin298.txt  [[S, 453, SEN, CARDIN, CO, SPONSORS, BILL, TO,...   \n",
       "01Feb2007Cardin299.txt  [[S, 450, CARDIN, INTRODUCES, BILL, TO, ELIMIN...   \n",
       "01Jun2007Cardin199.txt  [[CARDIN, MIKULSKI, ANNOUNCE, 7, 3, MILLION, F...   \n",
       "01Jun2007Cardin200.txt  [[CARDIN, MIKULSKI, ANNOUNCE, 4, 6, MILLION, F...   \n",
       "01Mar2007Cardin279.txt  [[SEN, CARDIN, FIGHTS, TO, IMPROVE, SECURITY, ...   \n",
       "01Mar2007Cardin280.txt  [[CARDIN, MIKULSKI, ANNOUNCE, 35, 000, FOR, WE...   \n",
       "01May2007Cardin228.txt  [[STATEMENT, BY, U, S, SENATOR, BENJAMIN, L, C...   \n",
       "01May2007Cardin229.txt  [[CARDIN, TELLS, THE, AG, COMMITTEE, THAT, THE...   \n",
       "\n",
       "                                                         normalized_sents  \n",
       "01Aug2007Cardin156.txt  [[cardin, mikulski, praises, passage, strong, ...  \n",
       "01Feb2007Cardin297.txt  [[cardin, votes, increase, minimum, wage, pay,...  \n",
       "01Feb2007Cardin298.txt  [[sen, cardin, co, sponsors, bill, protect, vo...  \n",
       "01Feb2007Cardin299.txt  [[cardin, introduces, bill, eliminate, arbitra...  \n",
       "01Jun2007Cardin199.txt  [[cardin, mikulski, announce, million, hagerst...  \n",
       "01Jun2007Cardin200.txt  [[cardin, mikulski, announce, million, salisbu...  \n",
       "01Mar2007Cardin279.txt  [[sen, cardin, fights, improve, security, amer...  \n",
       "01Mar2007Cardin280.txt  [[cardin, mikulski, announce, western, marylan...  \n",
       "01May2007Cardin228.txt  [[statement, u, senator, benjamin, l, cardin, ...  \n",
       "01May2007Cardin229.txt  [[cardin, tells, ag, committee, farm, bill, co...  "
      ]
     },
     "execution_count": 41,
     "metadata": {},
     "output_type": "execute_result"
    }
   ],
   "source": [
    "cardinDF = lucem_illud.loadTextDirectory('../data/grimmerPressReleases_extra/Cardin')\n",
    "cardinDF['category'] = 'Cardin'\n",
    "\n",
    "cardinDF['tokenized_sents'] = cardinDF['text'].apply(lambda x: \n",
    "                                                               [nltk.word_tokenize(s) for s in nltk.sent_tokenize(x)])\n",
    "cardinDF['normalized_sents'] = cardinDF['tokenized_sents'].apply(lambda x: \n",
    "                                                                           [lucem_illud.normalizeTokens(s, \n",
    "                                                                                           stopwordLst = lucem_illud.stop_words_basic, \n",
    "                                                                                           stemmer = None) \n",
    "                                                                            for s in x])\n",
    "\n",
    "cardinDF[:10]"
   ]
  },
  {
   "cell_type": "markdown",
   "metadata": {},
   "source": [
    "We can now merge Cardin's releases with the rest. This can update all the weights in *w2v* model, so be careful."
   ]
  },
  {
   "cell_type": "code",
   "execution_count": 42,
   "metadata": {
    "collapsed": true
   },
   "outputs": [],
   "source": [
    "#This is using a newer API so we have to tell it a little bit more for it to work right\n",
    "senReleasesW2V.build_vocab(cardinDF['normalized_sents'].sum(), update=True)\n",
    "senReleasesW2V.train(cardinDF['normalized_sents'].sum(), \n",
    "                     total_examples=senReleasesW2V.corpus_count, \n",
    "                     epochs=senReleasesW2V.iter)\n",
    "senReleasesW2V.save(\"senpressreleasesWORD2Vec_new.mm\")"
   ]
  },
  {
   "cell_type": "markdown",
   "metadata": {},
   "source": [
    "As the model is updated by this, we need to load our old copy to do a comparison."
   ]
  },
  {
   "cell_type": "code",
   "execution_count": 43,
   "metadata": {
    "collapsed": true
   },
   "outputs": [],
   "source": [
    "senReleasesW2V_old = gensim.models.word2vec.Word2Vec.load('senpressreleasesWORD2Vec.mm')"
   ]
  },
  {
   "cell_type": "code",
   "execution_count": 44,
   "metadata": {
    "collapsed": false
   },
   "outputs": [
    {
     "name": "stdout",
     "output_type": "stream",
     "text": [
      "A 100 dimesional vector:\n"
     ]
    },
    {
     "data": {
      "text/plain": [
       "array([ 0.7039404 , -2.4237747 , -1.370748  ,  0.07407843,  2.264379  ,\n",
       "       -0.73293245, -0.8072102 , -4.7497034 ,  0.95727897,  0.8400911 ],\n",
       "      dtype=float32)"
      ]
     },
     "execution_count": 44,
     "metadata": {},
     "output_type": "execute_result"
    }
   ],
   "source": [
    "print(\"A {} dimesional vector:\".format(senReleasesW2V['president'].shape[0]))\n",
    "senReleasesW2V['president'][:10]"
   ]
  },
  {
   "cell_type": "code",
   "execution_count": 45,
   "metadata": {
    "collapsed": false
   },
   "outputs": [
    {
     "name": "stdout",
     "output_type": "stream",
     "text": [
      "A 100 dimesional vector:\n"
     ]
    },
    {
     "data": {
      "text/plain": [
       "array([ 0.21463813, -2.4928463 , -1.3382112 , -0.29357967,  2.0879612 ,\n",
       "       -0.9939671 , -0.7598374 , -4.248101  ,  0.6762936 ,  0.88042086],\n",
       "      dtype=float32)"
      ]
     },
     "execution_count": 45,
     "metadata": {},
     "output_type": "execute_result"
    }
   ],
   "source": [
    "print(\"A {} dimesional vector:\".format(senReleasesW2V_old['president'].shape[0]))\n",
    "senReleasesW2V_old['president'][:10]"
   ]
  },
  {
   "cell_type": "code",
   "execution_count": 46,
   "metadata": {
    "collapsed": false
   },
   "outputs": [
    {
     "data": {
      "text/plain": [
       "array([-0.48930228, -0.06907153,  0.03253686, -0.36765808, -0.17641783,\n",
       "       -0.26103467,  0.04737282,  0.5016022 , -0.28098536,  0.04032975],\n",
       "      dtype=float32)"
      ]
     },
     "execution_count": 46,
     "metadata": {},
     "output_type": "execute_result"
    }
   ],
   "source": [
    "(senReleasesW2V_old['president'] - senReleasesW2V['president'])[:10]"
   ]
  },
  {
   "cell_type": "markdown",
   "metadata": {},
   "source": [
    "As you can see the vector for 'president' has changed a little bit and the word cloud should also be a bit different too"
   ]
  },
  {
   "cell_type": "code",
   "execution_count": 47,
   "metadata": {
    "collapsed": true
   },
   "outputs": [],
   "source": [
    "pcaWords = sklearn.decomposition.PCA(n_components = 50).fit(wordsSubMatrix)\n",
    "reducedPCA_data = pcaWords.transform(wordsSubMatrix)\n",
    "#T-SNE is theoretically better, but you should experiment\n",
    "tsneWords = sklearn.manifold.TSNE(n_components = 2, early_exaggeration = 25).fit_transform(reducedPCA_data)"
   ]
  },
  {
   "cell_type": "code",
   "execution_count": 48,
   "metadata": {
    "collapsed": false
   },
   "outputs": [
    {
     "data": {
      "image/png": "[encoded data removed]",
      "text/plain": [
       "<matplotlib.figure.Figure at 0x12c97ef98>"
      ]
     },
     "metadata": {},
     "output_type": "display_data"
    }
   ],
   "source": [
    "fig = plt.figure(figsize = (15,10))\n",
    "ax = fig.add_subplot(111)\n",
    "ax.set_frame_on(False)\n",
    "plt.scatter(tsneWords[:, 0], tsneWords[:, 1], alpha = 0)#Making the points invisible \n",
    "for i, word in enumerate(targetWords):\n",
    "    ax.annotate(word, \n",
    "                (tsneWords[:, 0][i],tsneWords[:, 1][i]), \n",
    "                size =  20 * (numWords - i) / numWords, \n",
    "                alpha = .8 * (numWords - i) / numWords + .2)\n",
    "plt.xticks(())\n",
    "plt.yticks(())\n",
    "plt.show()"
   ]
  },
  {
   "cell_type": "markdown",
   "metadata": {},
   "source": [
    "Another thing to consider in training is how we know that our parameters for the model are correct. We can do this by looking at the training loss of the model. Let's tart by training a new model, but this time we will expose most of the options and train it one epoch at a time. Look [here](https://radimrehurek.com/gensim/models/word2vec.html#gensim.models.word2vec.Word2Vec) for more detail: "
   ]
  },
  {
   "cell_type": "code",
   "execution_count": 49,
   "metadata": {
    "collapsed": false
   },
   "outputs": [
    {
     "data": {
      "text/plain": [
       "1997659.0"
      ]
     },
     "execution_count": 49,
     "metadata": {},
     "output_type": "execute_result"
    }
   ],
   "source": [
    "senReleasesW2V_loss = gensim.models.word2vec.Word2Vec(size = 100, #dimensions\n",
    "                                                      alpha=0.025,\n",
    "                                                      window=5,\n",
    "                                                      min_count=5,\n",
    "                                                      hs=0,  #hierarchical softmax toggle\n",
    "                                                      compute_loss = True,\n",
    "                                                     )\n",
    "senReleasesW2V_loss.build_vocab(senReleasesDF['normalized_sents'].sum())\n",
    "senReleasesW2V_loss.train(senReleasesDF['normalized_sents'].sum(), \n",
    "                     total_examples=senReleasesW2V.corpus_count, \n",
    "                     epochs=1, #This the running_training_loss is a total so we have to do 1 epoch at a time\n",
    "                    )\n",
    "#Using a list so we can capture every epoch\n",
    "losses = [senReleasesW2V_loss.running_training_loss]\n",
    "losses[0]"
   ]
  },
  {
   "cell_type": "markdown",
   "metadata": {},
   "source": [
    "Now we have the training loss and can optimize training to minimize it."
   ]
  },
  {
   "cell_type": "code",
   "execution_count": 51,
   "metadata": {
    "collapsed": false
   },
   "outputs": [
    {
     "name": "stdout",
     "output_type": "stream",
     "text": []
    }
   ],
   "source": [
    "for i in range(19):\n",
    "    senReleasesW2V_loss.train(senReleasesDF['normalized_sents'].sum(), \n",
    "                     total_examples=senReleasesW2V.corpus_count, \n",
    "                     epochs=1,\n",
    "                             )\n",
    "    losses.append(senReleasesW2V_loss.running_training_loss)\n",
    "    print(\"Done epoch {}\".format(i + 2), end = '\\r')"
   ]
  },
  {
   "cell_type": "markdown",
   "metadata": {},
   "source": [
    "Lets plot the loss vs epoch"
   ]
  },
  {
   "cell_type": "code",
   "execution_count": 52,
   "metadata": {
    "collapsed": false
   },
   "outputs": [
    {
     "data": {
      "image/png": "[encoded data removed]",
      "text/plain": [
       "<matplotlib.figure.Figure at 0x12c970b70>"
      ]
     },
     "metadata": {},
     "output_type": "display_data"
    }
   ],
   "source": [
    "lossesDF = pandas.DataFrame({'loss' : losses, 'epoch' : range(len(losses))})\n",
    "lossesDF.plot(y = 'loss', x = 'epoch', logy=False, figsize=(15, 7))\n",
    "plt.show()"
   ]
  },
  {
   "cell_type": "markdown",
   "metadata": {},
   "source": [
    "You should see that the loss is almost monotonic, but that the rate decreases as epoch increases. Since we are testing on our training data monotonicity is a common result and we must try to avoid over fitting. A simple way to do this is to stop training when there is significant change in the rate of decrease. In this run, that looks to be approximately 8 or 9. If we were to do another analysis, we might use an `iter=9` instead of the default 5."
   ]
  },
  {
   "cell_type": "markdown",
   "metadata": {},
   "source": [
    "Even more culturally interesting is how many dimensions are required to achieve an optimal embedding. The use of words in complex ways and contradictory contexts will require more dimensions to represent them with integrity. For example, if one word, $w_a$, is \"nearby\" $w_b$, but $w_b$ is not near the other words beside $w_a$, then a new dimension will be required for the two words to be uniquely together. "
   ]
  },
  {
   "cell_type": "code",
   "execution_count": 53,
   "metadata": {
    "collapsed": false
   },
   "outputs": [
    {
     "name": "stderr",
     "output_type": "stream",
     "text": [
      "\n",
      "KeyboardInterrupt\n",
      "\n"
     ]
    }
   ],
   "source": [
    "losses_dims=[]\n",
    "\n",
    "for d in [50,100,150,200,250,300,350,400,450,500, 550, 600, 650, 700, 750]:\n",
    "    senReleasesW2V_loss_dims = gensim.models.word2vec.Word2Vec(size = d, #dimensions\n",
    "                                                      alpha=0.025,\n",
    "                                                      window=5,\n",
    "                                                      min_count=5,\n",
    "                                                      hs=0,  #hierarchical softmax toggle\n",
    "                                                      compute_loss = True,\n",
    "                                                     )\n",
    "    senReleasesW2V_loss_dims.build_vocab(senReleasesDF['normalized_sents'].sum())\n",
    "    senReleasesW2V_loss_dims.train(senReleasesDF['normalized_sents'].sum(), \n",
    "                     total_examples=senReleasesW2V.corpus_count, \n",
    "                     epochs=7, #This the running_training_loss is a total so we have to do 1 epoch at a time\n",
    "                    )\n",
    "    senReleasesW2V_loss_dims.train(senReleasesDF['normalized_sents'].sum(), \n",
    "                     total_examples=senReleasesW2V.corpus_count, \n",
    "                     epochs=1, #This the running_training_loss is a total so we have to do 1 epoch at a time\n",
    "                    )\n",
    "    \n",
    "    losses_dims.append(senReleasesW2V_loss_dims.running_training_loss/(10+d*10))"
   ]
  },
  {
   "cell_type": "code",
   "execution_count": null,
   "metadata": {
    "collapsed": false
   },
   "outputs": [],
   "source": [
    "losses_dimsDF = pandas.DataFrame({'loss' : losses_dims, 'dimensions' : [50,100,150,200,250,300,350,400,450,500,550,600,650,700,750]})\n",
    "losses_dimsDF.plot(y = 'loss', x = 'dimensions', logy=False, figsize=(15, 7))\n",
    "plt.show()"
   ]
  },
  {
   "cell_type": "markdown",
   "metadata": {},
   "source": [
    "This is a work in progress for Gensim, but its clear that most of the word distance variation is captured by 300 dimensions."
   ]
  },
  {
   "cell_type": "markdown",
   "metadata": {},
   "source": [
    "# Chinese examples"
   ]
  },
  {
   "cell_type": "code",
   "execution_count": null,
   "metadata": {
    "collapsed": false
   },
   "outputs": [],
   "source": [
    "model=gensim.models.Word2Vec.load('../data/1992embeddings_hs_new3.sg')"
   ]
  },
  {
   "cell_type": "markdown",
   "metadata": {},
   "source": [
    "## analogy\n",
    "\n",
    "King+man-Queen? A few examples based on a corpus of Chinese news. \n",
    "\n",
    "First, location analogy: **province -> capital**"
   ]
  },
  {
   "cell_type": "code",
   "execution_count": null,
   "metadata": {
    "collapsed": false
   },
   "outputs": [],
   "source": [
    "mm = model.most_similar(positive=[u'长沙',u'陕西'], negative=[u'湖南']) # Changsha + Shaanxi - Hunan\n",
    "for m in mm:\n",
    "    print(m[0],m[1])\n",
    "    print(\"Xi'an\")\n",
    "    break"
   ]
  },
  {
   "cell_type": "code",
   "execution_count": null,
   "metadata": {
    "collapsed": false
   },
   "outputs": [],
   "source": [
    "mm = model.most_similar(positive=[u'广州',u'湖北'], negative=[u'广东']) # Guangzhou + Hubei - Guangdong\n",
    "for m in mm:\n",
    "    print(m[0],m[1])\n",
    "    print(\"Wuhan\")\n",
    "    break"
   ]
  },
  {
   "cell_type": "markdown",
   "metadata": {},
   "source": [
    "Second, location analogy: **country -> capital**"
   ]
  },
  {
   "cell_type": "code",
   "execution_count": null,
   "metadata": {
    "collapsed": false
   },
   "outputs": [],
   "source": [
    "mm = model.most_similar(positive=[u'东京',u'美国'], negative=[u'日本']) # Tokyo + US - Japan\n",
    "for m in mm:\n",
    "    print(m[0],m[1])\n",
    "    print(\"(Washington DC)\")\n",
    "    break"
   ]
  },
  {
   "cell_type": "markdown",
   "metadata": {},
   "source": [
    "## similar words"
   ]
  },
  {
   "cell_type": "code",
   "execution_count": null,
   "metadata": {
    "collapsed": false
   },
   "outputs": [],
   "source": [
    "word = u'社会主义'  #socialism\n",
    "ss = model.similar_by_word(word,topn=10)\n",
    "print(\"the most similar words to \" + word + \" is: \")\n",
    "for s in ss:\n",
    "    print(s[0])\n",
    "print(\"\")"
   ]
  },
  {
   "cell_type": "code",
   "execution_count": null,
   "metadata": {
    "collapsed": false
   },
   "outputs": [],
   "source": [
    "word = u'玉米'  # corn\n",
    "ss = model.similar_by_word(word,topn=10)\n",
    "print(\"the most similar words to \" + word + \" is: \")\n",
    "for s in ss:\n",
    "    print(s[0])\n",
    "print(\"\")"
   ]
  },
  {
   "cell_type": "markdown",
   "metadata": {},
   "source": [
    "## <span style=\"color:red\">*Exercise 1*</span>\n",
    "\n",
    "<span style=\"color:red\">Construct cells immediately below this that build a word2vec model with your corpus. Interrogate word relationships in the resulting space, including estimating 90% confidence intervals for specific word cosine distances of interest. Plot a subset of your words. What do these word relationships reveal about the *social* and *cultural game* underlying your corpus? What was surprising--what violated your prior understanding of the corpus? What was expected--what confirmed your knowledge about this domain?"
   ]
  },
  {
   "cell_type": "code",
   "execution_count": 257,
   "metadata": {
    "collapsed": false
   },
   "outputs": [
    {
     "data": {
      "text/html": [
       "<div>\n",
       "<style scoped>\n",
       "    .dataframe tbody tr th:only-of-type {\n",
       "        vertical-align: middle;\n",
       "    }\n",
       "\n",
       "    .dataframe tbody tr th {\n",
       "        vertical-align: top;\n",
       "    }\n",
       "\n",
       "    .dataframe thead th {\n",
       "        text-align: right;\n",
       "    }\n",
       "</style>\n",
       "<table border=\"1\" class=\"dataframe\">\n",
       "  <thead>\n",
       "    <tr style=\"text-align: right;\">\n",
       "      <th></th>\n",
       "      <th>text</th>\n",
       "      <th>tokenized_sents</th>\n",
       "      <th>normalized_sents</th>\n",
       "    </tr>\n",
       "  </thead>\n",
       "  <tbody>\n",
       "    <tr>\n",
       "      <th>0</th>\n",
       "      <td>My favorite steakhouse in Las Vegas, somewhere...</td>\n",
       "      <td>[[My, favorite, steakhouse, in, Las, Vegas, ,,...</td>\n",
       "      <td>[[favorite, steakhouse, las, vegas, somewhere,...</td>\n",
       "    </tr>\n",
       "    <tr>\n",
       "      <th>1</th>\n",
       "      <td>Was excited to go here since it was Emerille's...</td>\n",
       "      <td>[[Was, excited, to, go, here, since, it, was, ...</td>\n",
       "      <td>[[excited, go, since, emerille, steakhouse], [...</td>\n",
       "    </tr>\n",
       "    <tr>\n",
       "      <th>2</th>\n",
       "      <td>2012 Fall Restaurant Week Lunch #2. \\n\\nWhethe...</td>\n",
       "      <td>[[2012, Fall, Restaurant, Week, Lunch, #, 2, ....</td>\n",
       "      <td>[[fall, restaurant, week, lunch], [visiting, d...</td>\n",
       "    </tr>\n",
       "    <tr>\n",
       "      <th>3</th>\n",
       "      <td>My client took me here after the MAGIC Show an...</td>\n",
       "      <td>[[My, client, took, me, here, after, the, MAGI...</td>\n",
       "      <td>[[client, took, magic, show, phenomenal], [ste...</td>\n",
       "    </tr>\n",
       "    <tr>\n",
       "      <th>4</th>\n",
       "      <td>Man.. I'm drooling just thinking about the won...</td>\n",
       "      <td>[[Man..], [I, 'm, drooling, just, thinking, ab...</td>\n",
       "      <td>[[], [drooling, thinking, wonderful, birthday,...</td>\n",
       "    </tr>\n",
       "  </tbody>\n",
       "</table>\n",
       "</div>"
      ],
      "text/plain": [
       "                                                text  \\\n",
       "0  My favorite steakhouse in Las Vegas, somewhere...   \n",
       "1  Was excited to go here since it was Emerille's...   \n",
       "2  2012 Fall Restaurant Week Lunch #2. \\n\\nWhethe...   \n",
       "3  My client took me here after the MAGIC Show an...   \n",
       "4  Man.. I'm drooling just thinking about the won...   \n",
       "\n",
       "                                     tokenized_sents  \\\n",
       "0  [[My, favorite, steakhouse, in, Las, Vegas, ,,...   \n",
       "1  [[Was, excited, to, go, here, since, it, was, ...   \n",
       "2  [[2012, Fall, Restaurant, Week, Lunch, #, 2, ....   \n",
       "3  [[My, client, took, me, here, after, the, MAGI...   \n",
       "4  [[Man..], [I, 'm, drooling, just, thinking, ab...   \n",
       "\n",
       "                                    normalized_sents  \n",
       "0  [[favorite, steakhouse, las, vegas, somewhere,...  \n",
       "1  [[excited, go, since, emerille, steakhouse], [...  \n",
       "2  [[fall, restaurant, week, lunch], [visiting, d...  \n",
       "3  [[client, took, magic, show, phenomenal], [ste...  \n",
       "4  [[], [drooling, thinking, wonderful, birthday,...  "
      ]
     },
     "execution_count": 257,
     "metadata": {},
     "output_type": "execute_result"
    }
   ],
   "source": [
    "#MYCODE\n",
    "import pandas\n",
    "yelp_review_df = pandas.read_csv('~/Desktop/reviews_test.csv', sep='\\t')\n",
    "yelp_review_df = yelp_review_df.dropna(axis=0, how='any')\n",
    "yelp_review_df = yelp_review_df.drop(columns=['id','stars','date','useful','funny','cool','business_id','user_id','count','business_id.1'])\n",
    "\n",
    "#Apply our functions, notice each row is a list of lists now\n",
    "yelp_review_df['tokenized_sents'] = yelp_review_df['text'].apply(lambda x: \n",
    "                                                               [nltk.word_tokenize(s) for s in nltk.sent_tokenize(x)])\n",
    "yelp_review_df['normalized_sents'] = yelp_review_df['tokenized_sents'].apply(lambda x: \n",
    "                                                                           [lucem_illud.normalizeTokens(s, \n",
    "                                                                                           stopwordLst = lucem_illud.stop_words_basic, \n",
    "                                                                                           stemmer = None) \n",
    "                                                                            for s in x])\n",
    "\n",
    "yelp_review_df[:5]"
   ]
  },
  {
   "cell_type": "code",
   "execution_count": 258,
   "metadata": {
    "collapsed": false
   },
   "outputs": [
    {
     "name": "stdout",
     "output_type": "stream",
     "text": [
      "A 100 dimesional vector:\n"
     ]
    },
    {
     "data": {
      "text/plain": [
       "array([-0.91921043,  0.19762449,  0.29196003, -0.18385409, -0.88740176,\n",
       "        0.16285887, -0.01377422,  0.6034371 , -0.16297743, -0.54381734,\n",
       "       -0.11517046,  0.19454272,  0.12345145,  0.10797631,  0.10069968,\n",
       "       -0.00637935,  0.24259466,  0.91085804, -0.04876369, -0.0692218 ,\n",
       "       -0.01158428, -0.33212045,  0.16828322,  0.03792886,  0.14265832,\n",
       "       -0.07145777, -0.5563186 , -0.15335599,  0.17464714, -0.58363336,\n",
       "       -0.5834192 , -0.03116621,  0.7911954 ,  0.49072328, -0.15974241,\n",
       "       -0.60292363,  0.04504143, -0.14852326, -0.58651054, -0.3569277 ,\n",
       "       -1.0669208 ,  0.11426397,  0.7895929 , -0.2789297 , -0.57736504,\n",
       "       -0.6161326 ,  0.25583678,  0.00152427,  0.48105282, -0.0615464 ,\n",
       "        0.2863452 ,  0.8840992 , -0.631543  , -0.81520516,  0.31174165,\n",
       "       -0.13440175, -0.15868962, -0.4997187 , -0.01168316, -0.6479295 ,\n",
       "       -0.1647868 , -0.7772418 ,  0.25738522, -0.44344458, -0.15399599,\n",
       "       -0.05756202,  0.31716204, -0.5875488 ,  0.42612275,  0.39540446,\n",
       "       -0.3730576 , -0.08020596,  0.26793423,  0.15618561, -0.25729963,\n",
       "       -0.38071766, -0.03804163,  0.07457753,  0.42746183,  0.5040513 ,\n",
       "        0.11567733,  0.5186194 , -0.31365818, -0.82909966,  0.25364885,\n",
       "       -0.48591116, -0.5872863 ,  0.18403722, -0.0904241 , -0.6268778 ,\n",
       "       -0.22383939, -0.14191917, -0.02532912,  0.6693687 ,  0.84452176,\n",
       "        0.1955313 ,  0.22871295,  0.3197544 ,  0.00661445,  0.9277079 ],\n",
       "      dtype=float32)"
      ]
     },
     "execution_count": 258,
     "metadata": {},
     "output_type": "execute_result"
    }
   ],
   "source": [
    "print(\"A {} dimesional vector:\".format(yelp_reviewW2V['food'].shape[0]))\n",
    "yelp_reviewW2V['food']"
   ]
  },
  {
   "cell_type": "code",
   "execution_count": 261,
   "metadata": {
    "collapsed": false
   },
   "outputs": [
    {
     "data": {
      "text/plain": [
       "[('ok', 0.8488578200340271),\n",
       " ('nothing', 0.8435839414596558),\n",
       " ('absolutely', 0.8372264504432678),\n",
       " ('quality', 0.8346982002258301),\n",
       " ('decent', 0.8346021771430969),\n",
       " ('better', 0.8321236968040466),\n",
       " ('much', 0.8308576941490173),\n",
       " ('mexican', 0.8214797377586365),\n",
       " ('liked', 0.820330798625946),\n",
       " ('authentic', 0.8199489116668701)]"
      ]
     },
     "execution_count": 261,
     "metadata": {},
     "output_type": "execute_result"
    }
   ],
   "source": [
    "yelp_reviewW2V.most_similar('food')\n",
    "\n",
    "yelp_reviewW2V.most_similar(positive=['good', 'food'], negative = ['service'])"
   ]
  },
  {
   "cell_type": "markdown",
   "metadata": {},
   "source": [
    "Food to good is as service to ok? Haha this is interesting. I guess a good quality of mean can compensate for the just-so-so service!"
   ]
  },
  {
   "cell_type": "code",
   "execution_count": 259,
   "metadata": {
    "collapsed": false
   },
   "outputs": [
    {
     "data": {
      "text/plain": [
       "[0.43990928,\n",
       " 0.4483897,\n",
       " 0.4666776,\n",
       " 0.4779605,\n",
       " 0.48316297,\n",
       " 0.4904956,\n",
       " 0.504279,\n",
       " 0.5044637,\n",
       " 0.50479084,\n",
       " 0.51267654,\n",
       " 0.51576394,\n",
       " 0.5192486,\n",
       " 0.5201976,\n",
       " 0.5250119,\n",
       " 0.53436565,\n",
       " 0.53745997,\n",
       " 0.5432213,\n",
       " 0.54480445,\n",
       " 0.546463,\n",
       " 0.5478148]"
      ]
     },
     "execution_count": 259,
     "metadata": {},
     "output_type": "execute_result"
    }
   ],
   "source": [
    "#MYCODE\n",
    "estimates_C=[]\n",
    "for x in range(20):\n",
    "    yelp_review_W2VB = gensim.models.word2vec.Word2Vec(yelp_review_df['normalized_sents'].sample(frac=1.0, replace=True).sum())\n",
    "    try:\n",
    "        estimates_C.append(cos_difference(yelp_review_W2VB, 'good', 'food')[0,0])\n",
    "    except KeyError:\n",
    "        #Missing one of the words from the vocab\n",
    "        pass\n",
    "                                                      \n",
    "estimates_C.sort()         \n",
    "estimates_C"
   ]
  },
  {
   "cell_type": "code",
   "execution_count": 260,
   "metadata": {
    "collapsed": false
   },
   "outputs": [
    {
     "name": "stdout",
     "output_type": "stream",
     "text": [
      "The 90% confidence interval for the cosine distance between good and food is:\n",
      " 0.4483897 0.546463\n"
     ]
    }
   ],
   "source": [
    "\n",
    "print(\"The 90% confidence interval for the cosine distance between good and food is:\\n\",estimates_C[1], estimates_C[-2])"
   ]
  },
  {
   "cell_type": "code",
   "execution_count": 262,
   "metadata": {
    "collapsed": false
   },
   "outputs": [
    {
     "data": {
      "text/plain": [
       "['food',\n",
       " 'good',\n",
       " 'place',\n",
       " 'great',\n",
       " 'thai',\n",
       " 'service',\n",
       " 'like',\n",
       " 'would',\n",
       " 'time',\n",
       " 'one',\n",
       " 'go',\n",
       " 'get',\n",
       " 'really',\n",
       " 'wait',\n",
       " 'back',\n",
       " 'ordered',\n",
       " 'steak',\n",
       " 'best',\n",
       " 'restaurant',\n",
       " 'us',\n",
       " 'also',\n",
       " 'got',\n",
       " 'delicious',\n",
       " 'well',\n",
       " 'table',\n",
       " 'salad',\n",
       " 'could',\n",
       " 'vegas',\n",
       " 'little',\n",
       " 'try',\n",
       " 'nice',\n",
       " 'came',\n",
       " 'even',\n",
       " 'order',\n",
       " 'love',\n",
       " 'amazing',\n",
       " 'always',\n",
       " 'menu',\n",
       " 'chicken',\n",
       " 'meal',\n",
       " 'rice',\n",
       " 'definitely',\n",
       " 'curry',\n",
       " 'tacos',\n",
       " 'breakfast',\n",
       " 'ever',\n",
       " 'eat',\n",
       " 'first',\n",
       " 'much',\n",
       " 'pretty',\n",
       " 'people',\n",
       " 'went',\n",
       " 'better',\n",
       " 'experience',\n",
       " 'come',\n",
       " 'dinner',\n",
       " 'make',\n",
       " 'made',\n",
       " 'side',\n",
       " 'small',\n",
       " 'right',\n",
       " 'pad',\n",
       " 'staff',\n",
       " 'never',\n",
       " 'spicy',\n",
       " 'noodles',\n",
       " 'worth',\n",
       " 'think',\n",
       " 'way',\n",
       " 'bit',\n",
       " 'big',\n",
       " 'two',\n",
       " 'cooked',\n",
       " 'awesome',\n",
       " 'say',\n",
       " 'dish',\n",
       " 'sauce',\n",
       " 'still',\n",
       " 'next',\n",
       " 'lunch',\n",
       " 'sure',\n",
       " 'delmonico',\n",
       " 'everything',\n",
       " 'fried',\n",
       " 'friendly',\n",
       " 'know',\n",
       " 'night',\n",
       " 'want',\n",
       " 'flavor',\n",
       " 'though',\n",
       " 'long',\n",
       " 'matt',\n",
       " 'server',\n",
       " 'excellent',\n",
       " 'fresh',\n",
       " 'recommend',\n",
       " 'said',\n",
       " 'times',\n",
       " 'shrimp',\n",
       " 'taste',\n",
       " 'going',\n",
       " 'special',\n",
       " 'downtown',\n",
       " 'minutes',\n",
       " 'around',\n",
       " 'rib',\n",
       " 'atmosphere',\n",
       " 'every',\n",
       " 'tasty',\n",
       " 'drinks',\n",
       " 'seated',\n",
       " 'dishes',\n",
       " 'since',\n",
       " 'favorite',\n",
       " 'ca',\n",
       " 'outside',\n",
       " 'perfect',\n",
       " 'tried',\n",
       " 'take',\n",
       " 'hour',\n",
       " 'bar',\n",
       " 'friends',\n",
       " 'new',\n",
       " 'friend',\n",
       " 'le',\n",
       " 'bacon',\n",
       " 'wine',\n",
       " 'ribeye',\n",
       " 'taco',\n",
       " 'give',\n",
       " 'king',\n",
       " 'many',\n",
       " 'beef',\n",
       " 'meat',\n",
       " 'day',\n",
       " 'area',\n",
       " 'hot',\n",
       " 'see',\n",
       " 'price',\n",
       " 'bad',\n",
       " 'took',\n",
       " 'something',\n",
       " 'top',\n",
       " 'asked',\n",
       " 'thing',\n",
       " 'busy',\n",
       " 'chips',\n",
       " 'enough',\n",
       " 'nothing',\n",
       " 'fish']"
      ]
     },
     "execution_count": 262,
     "metadata": {},
     "output_type": "execute_result"
    }
   ],
   "source": [
    "#MYCODE\n",
    "targetWords_review = yelp_reviewW2V.wv.index2word[:numWords]\n",
    "targetWords_review"
   ]
  },
  {
   "cell_type": "markdown",
   "metadata": {},
   "source": [
    "Let's visualize the top words from the reviews. As we can see from the plot, the reviews that I selected seem to come from restaurants with good reputaions. Words like great, food and service are close to each other. And also definately go back, instead of never go back. "
   ]
  },
  {
   "cell_type": "code",
   "execution_count": 263,
   "metadata": {
    "collapsed": false
   },
   "outputs": [
    {
     "data": {
      "image/png": "[encoded data removed]",
      "text/plain": [
       "<matplotlib.figure.Figure at 0x16c109320>"
      ]
     },
     "metadata": {},
     "output_type": "display_data"
    }
   ],
   "source": [
    "#MYCODE\n",
    "wordsSubMatrix_review = []\n",
    "for word in targetWords_review:\n",
    "    wordsSubMatrix_review.append(yelp_reviewW2V[word])\n",
    "wordsSubMatrix_review = np.array(wordsSubMatrix_review)\n",
    "wordsSubMatrix_review\n",
    "#MYCODE\n",
    "pcaWords_review = sklearn.decomposition.PCA(n_components = 50).fit(wordsSubMatrix_review)\n",
    "reducedPCA_data_review = pcaWords.transform(wordsSubMatrix_review)\n",
    "#T-SNE is theoretically better, but you should experiment\n",
    "tsneWords_review = sklearn.manifold.TSNE(n_components = 2, early_exaggeration = 25).fit_transform(reducedPCA_data_review)\n",
    "\n",
    "#MYCODE\n",
    "fig = plt.figure(figsize = (15,10))\n",
    "ax = fig.add_subplot(111)\n",
    "ax.set_frame_on(False)\n",
    "plt.scatter(tsneWords_review[:, 0], tsneWords_review[:, 1], alpha = 0)#Making the points invisible \n",
    "for i, word in enumerate(targetWords_review):\n",
    "    ax.annotate(word, \n",
    "                (tsneWords_review[:, 0][i],tsneWords_review[:, 1][i]), \n",
    "                size =  20 * (numWords - i) / numWords, \n",
    "                alpha = .8 * (numWords - i) / numWords + .2)\n",
    "plt.xticks(())\n",
    "plt.yticks(())\n",
    "plt.show()"
   ]
  },
  {
   "cell_type": "markdown",
   "metadata": {},
   "source": [
    "# Doc2Vec"
   ]
  },
  {
   "cell_type": "markdown",
   "metadata": {
    "collapsed": true
   },
   "source": [
    "Instead of just looking at just how words embed within in the space, we can look at how the different documents relate to each other within the space. First lets load our data--abstracts of most U.S. physics papers from the 1950s."
   ]
  },
  {
   "cell_type": "code",
   "execution_count": 74,
   "metadata": {
    "collapsed": false
   },
   "outputs": [
    {
     "data": {
      "text/html": [
       "<div>\n",
       "<style scoped>\n",
       "    .dataframe tbody tr th:only-of-type {\n",
       "        vertical-align: middle;\n",
       "    }\n",
       "\n",
       "    .dataframe tbody tr th {\n",
       "        vertical-align: top;\n",
       "    }\n",
       "\n",
       "    .dataframe thead th {\n",
       "        text-align: right;\n",
       "    }\n",
       "</style>\n",
       "<table border=\"1\" class=\"dataframe\">\n",
       "  <thead>\n",
       "    <tr style=\"text-align: right;\">\n",
       "      <th></th>\n",
       "      <th>copyrightYear</th>\n",
       "      <th>doi</th>\n",
       "      <th>abstract</th>\n",
       "    </tr>\n",
       "  </thead>\n",
       "  <tbody>\n",
       "    <tr>\n",
       "      <th>0</th>\n",
       "      <td>1950</td>\n",
       "      <td>10.1103/RevModPhys.22.221</td>\n",
       "      <td>A summarizing account is given of the research...</td>\n",
       "    </tr>\n",
       "    <tr>\n",
       "      <th>1</th>\n",
       "      <td>1951</td>\n",
       "      <td>10.1103/RevModPhys.23.147</td>\n",
       "      <td>New tables of coulomb functions are presented ...</td>\n",
       "    </tr>\n",
       "    <tr>\n",
       "      <th>2</th>\n",
       "      <td>1951</td>\n",
       "      <td>10.1103/RevModPhys.23.185</td>\n",
       "      <td>Ionization by electron impact in diatomic gase...</td>\n",
       "    </tr>\n",
       "    <tr>\n",
       "      <th>3</th>\n",
       "      <td>1951</td>\n",
       "      <td>10.1103/RevModPhys.23.203</td>\n",
       "      <td>It is shown that the conductivity in the ohmic...</td>\n",
       "    </tr>\n",
       "    <tr>\n",
       "      <th>4</th>\n",
       "      <td>1951</td>\n",
       "      <td>10.1103/RevModPhys.23.21</td>\n",
       "      <td>The factorization method is an operational pro...</td>\n",
       "    </tr>\n",
       "    <tr>\n",
       "      <th>5</th>\n",
       "      <td>1951</td>\n",
       "      <td>10.1103/RevModPhys.23.311</td>\n",
       "      <td>A brief account is given of Dyson's proof of t...</td>\n",
       "    </tr>\n",
       "    <tr>\n",
       "      <th>6</th>\n",
       "      <td>1951</td>\n",
       "      <td>10.1103/RevModPhys.23.315</td>\n",
       "      <td>A systematics is given of all transitions for ...</td>\n",
       "    </tr>\n",
       "    <tr>\n",
       "      <th>7</th>\n",
       "      <td>1951</td>\n",
       "      <td>10.1103/RevModPhys.23.322</td>\n",
       "      <td>A systematics of the -transitions of even A nu...</td>\n",
       "    </tr>\n",
       "    <tr>\n",
       "      <th>8</th>\n",
       "      <td>1951</td>\n",
       "      <td>10.1103/RevModPhys.23.328</td>\n",
       "      <td>The available experiments on the absorption sp...</td>\n",
       "    </tr>\n",
       "    <tr>\n",
       "      <th>9</th>\n",
       "      <td>1952</td>\n",
       "      <td>10.1103/RevModPhys.24.108</td>\n",
       "      <td>The classical theory of the dynamics of viscou...</td>\n",
       "    </tr>\n",
       "  </tbody>\n",
       "</table>\n",
       "</div>"
      ],
      "text/plain": [
       "   copyrightYear                        doi  \\\n",
       "0           1950  10.1103/RevModPhys.22.221   \n",
       "1           1951  10.1103/RevModPhys.23.147   \n",
       "2           1951  10.1103/RevModPhys.23.185   \n",
       "3           1951  10.1103/RevModPhys.23.203   \n",
       "4           1951   10.1103/RevModPhys.23.21   \n",
       "5           1951  10.1103/RevModPhys.23.311   \n",
       "6           1951  10.1103/RevModPhys.23.315   \n",
       "7           1951  10.1103/RevModPhys.23.322   \n",
       "8           1951  10.1103/RevModPhys.23.328   \n",
       "9           1952  10.1103/RevModPhys.24.108   \n",
       "\n",
       "                                            abstract  \n",
       "0  A summarizing account is given of the research...  \n",
       "1  New tables of coulomb functions are presented ...  \n",
       "2  Ionization by electron impact in diatomic gase...  \n",
       "3  It is shown that the conductivity in the ohmic...  \n",
       "4  The factorization method is an operational pro...  \n",
       "5  A brief account is given of Dyson's proof of t...  \n",
       "6  A systematics is given of all transitions for ...  \n",
       "7  A systematics of the -transitions of even A nu...  \n",
       "8  The available experiments on the absorption sp...  \n",
       "9  The classical theory of the dynamics of viscou...  "
      ]
     },
     "execution_count": 74,
     "metadata": {},
     "output_type": "execute_result"
    }
   ],
   "source": [
    "apsDF = pandas.read_csv('../data/APSabstracts1950s.csv', index_col = 0)\n",
    "apsDF[:10]"
   ]
  },
  {
   "cell_type": "markdown",
   "metadata": {},
   "source": [
    "We will load these as documents into Word2Vec, but first we need to normalize and pick some tags"
   ]
  },
  {
   "cell_type": "code",
   "execution_count": 76,
   "metadata": {
    "collapsed": true
   },
   "outputs": [],
   "source": [
    "keywords = ['photomagnetoelectric', 'quantum', 'boltzmann', 'proton', 'positron', 'feynman', 'classical', 'relativity']"
   ]
  },
  {
   "cell_type": "code",
   "execution_count": 132,
   "metadata": {
    "collapsed": false
   },
   "outputs": [
    {
     "data": {
      "text/html": [
       "<div>\n",
       "<style scoped>\n",
       "    .dataframe tbody tr th:only-of-type {\n",
       "        vertical-align: middle;\n",
       "    }\n",
       "\n",
       "    .dataframe tbody tr th {\n",
       "        vertical-align: top;\n",
       "    }\n",
       "\n",
       "    .dataframe thead th {\n",
       "        text-align: right;\n",
       "    }\n",
       "</style>\n",
       "<table border=\"1\" class=\"dataframe\">\n",
       "  <thead>\n",
       "    <tr style=\"text-align: right;\">\n",
       "      <th></th>\n",
       "      <th>copyrightYear</th>\n",
       "      <th>doi</th>\n",
       "      <th>abstract</th>\n",
       "      <th>tokenized_words</th>\n",
       "      <th>normalized_words</th>\n",
       "      <th>TaggedAbstracts</th>\n",
       "    </tr>\n",
       "  </thead>\n",
       "  <tbody>\n",
       "    <tr>\n",
       "      <th>0</th>\n",
       "      <td>1950</td>\n",
       "      <td>10.1103/RevModPhys.22.221</td>\n",
       "      <td>A summarizing account is given of the research...</td>\n",
       "      <td>[A, summarizing, account, is, given, of, the, ...</td>\n",
       "      <td>[summarizing, account, given, research, barium...</td>\n",
       "      <td>([summarizing, account, given, research, bariu...</td>\n",
       "    </tr>\n",
       "    <tr>\n",
       "      <th>1</th>\n",
       "      <td>1951</td>\n",
       "      <td>10.1103/RevModPhys.23.147</td>\n",
       "      <td>New tables of coulomb functions are presented ...</td>\n",
       "      <td>[New, tables, of, coulomb, functions, are, pre...</td>\n",
       "      <td>[new, tables, coulomb, functions, presented, a...</td>\n",
       "      <td>([new, tables, coulomb, functions, presented, ...</td>\n",
       "    </tr>\n",
       "    <tr>\n",
       "      <th>2</th>\n",
       "      <td>1951</td>\n",
       "      <td>10.1103/RevModPhys.23.185</td>\n",
       "      <td>Ionization by electron impact in diatomic gase...</td>\n",
       "      <td>[Ionization, by, electron, impact, in, diatomi...</td>\n",
       "      <td>[ionization, electron, impact, diatomic, gases...</td>\n",
       "      <td>([ionization, electron, impact, diatomic, gase...</td>\n",
       "    </tr>\n",
       "    <tr>\n",
       "      <th>3</th>\n",
       "      <td>1951</td>\n",
       "      <td>10.1103/RevModPhys.23.203</td>\n",
       "      <td>It is shown that the conductivity in the ohmic...</td>\n",
       "      <td>[It, is, shown, that, the, conductivity, in, t...</td>\n",
       "      <td>[shown, conductivity, ohmic, part, cuprous, ox...</td>\n",
       "      <td>([shown, conductivity, ohmic, part, cuprous, o...</td>\n",
       "    </tr>\n",
       "    <tr>\n",
       "      <th>4</th>\n",
       "      <td>1951</td>\n",
       "      <td>10.1103/RevModPhys.23.21</td>\n",
       "      <td>The factorization method is an operational pro...</td>\n",
       "      <td>[The, factorization, method, is, an, operation...</td>\n",
       "      <td>[factorization, method, operational, procedure...</td>\n",
       "      <td>([factorization, method, operational, procedur...</td>\n",
       "    </tr>\n",
       "    <tr>\n",
       "      <th>5</th>\n",
       "      <td>1951</td>\n",
       "      <td>10.1103/RevModPhys.23.311</td>\n",
       "      <td>A brief account is given of Dyson's proof of t...</td>\n",
       "      <td>[A, brief, account, is, given, of, Dyson, 's, ...</td>\n",
       "      <td>[brief, account, given, dyson, proof, finitene...</td>\n",
       "      <td>([brief, account, given, dyson, proof, finiten...</td>\n",
       "    </tr>\n",
       "    <tr>\n",
       "      <th>6</th>\n",
       "      <td>1951</td>\n",
       "      <td>10.1103/RevModPhys.23.315</td>\n",
       "      <td>A systematics is given of all transitions for ...</td>\n",
       "      <td>[A, systematics, is, given, of, all, transitio...</td>\n",
       "      <td>[systematics, given, transitions, odd, nuclei,...</td>\n",
       "      <td>([systematics, given, transitions, odd, nuclei...</td>\n",
       "    </tr>\n",
       "    <tr>\n",
       "      <th>7</th>\n",
       "      <td>1951</td>\n",
       "      <td>10.1103/RevModPhys.23.322</td>\n",
       "      <td>A systematics of the -transitions of even A nu...</td>\n",
       "      <td>[A, systematics, of, the, -transitions, of, ev...</td>\n",
       "      <td>[systematics, even, nuclei, given, interpretat...</td>\n",
       "      <td>([systematics, even, nuclei, given, interpreta...</td>\n",
       "    </tr>\n",
       "    <tr>\n",
       "      <th>8</th>\n",
       "      <td>1951</td>\n",
       "      <td>10.1103/RevModPhys.23.328</td>\n",
       "      <td>The available experiments on the absorption sp...</td>\n",
       "      <td>[The, available, experiments, on, the, absorpt...</td>\n",
       "      <td>[available, experiments, absorption, spectra, ...</td>\n",
       "      <td>([available, experiments, absorption, spectra,...</td>\n",
       "    </tr>\n",
       "    <tr>\n",
       "      <th>9</th>\n",
       "      <td>1952</td>\n",
       "      <td>10.1103/RevModPhys.24.108</td>\n",
       "      <td>The classical theory of the dynamics of viscou...</td>\n",
       "      <td>[The, classical, theory, of, the, dynamics, of...</td>\n",
       "      <td>[classical, theory, dynamics, viscous, fluids,...</td>\n",
       "      <td>([classical, theory, dynamics, viscous, fluids...</td>\n",
       "    </tr>\n",
       "  </tbody>\n",
       "</table>\n",
       "</div>"
      ],
      "text/plain": [
       "   copyrightYear                        doi  \\\n",
       "0           1950  10.1103/RevModPhys.22.221   \n",
       "1           1951  10.1103/RevModPhys.23.147   \n",
       "2           1951  10.1103/RevModPhys.23.185   \n",
       "3           1951  10.1103/RevModPhys.23.203   \n",
       "4           1951   10.1103/RevModPhys.23.21   \n",
       "5           1951  10.1103/RevModPhys.23.311   \n",
       "6           1951  10.1103/RevModPhys.23.315   \n",
       "7           1951  10.1103/RevModPhys.23.322   \n",
       "8           1951  10.1103/RevModPhys.23.328   \n",
       "9           1952  10.1103/RevModPhys.24.108   \n",
       "\n",
       "                                            abstract  \\\n",
       "0  A summarizing account is given of the research...   \n",
       "1  New tables of coulomb functions are presented ...   \n",
       "2  Ionization by electron impact in diatomic gase...   \n",
       "3  It is shown that the conductivity in the ohmic...   \n",
       "4  The factorization method is an operational pro...   \n",
       "5  A brief account is given of Dyson's proof of t...   \n",
       "6  A systematics is given of all transitions for ...   \n",
       "7  A systematics of the -transitions of even A nu...   \n",
       "8  The available experiments on the absorption sp...   \n",
       "9  The classical theory of the dynamics of viscou...   \n",
       "\n",
       "                                     tokenized_words  \\\n",
       "0  [A, summarizing, account, is, given, of, the, ...   \n",
       "1  [New, tables, of, coulomb, functions, are, pre...   \n",
       "2  [Ionization, by, electron, impact, in, diatomi...   \n",
       "3  [It, is, shown, that, the, conductivity, in, t...   \n",
       "4  [The, factorization, method, is, an, operation...   \n",
       "5  [A, brief, account, is, given, of, Dyson, 's, ...   \n",
       "6  [A, systematics, is, given, of, all, transitio...   \n",
       "7  [A, systematics, of, the, -transitions, of, ev...   \n",
       "8  [The, available, experiments, on, the, absorpt...   \n",
       "9  [The, classical, theory, of, the, dynamics, of...   \n",
       "\n",
       "                                    normalized_words  \\\n",
       "0  [summarizing, account, given, research, barium...   \n",
       "1  [new, tables, coulomb, functions, presented, a...   \n",
       "2  [ionization, electron, impact, diatomic, gases...   \n",
       "3  [shown, conductivity, ohmic, part, cuprous, ox...   \n",
       "4  [factorization, method, operational, procedure...   \n",
       "5  [brief, account, given, dyson, proof, finitene...   \n",
       "6  [systematics, given, transitions, odd, nuclei,...   \n",
       "7  [systematics, even, nuclei, given, interpretat...   \n",
       "8  [available, experiments, absorption, spectra, ...   \n",
       "9  [classical, theory, dynamics, viscous, fluids,...   \n",
       "\n",
       "                                     TaggedAbstracts  \n",
       "0  ([summarizing, account, given, research, bariu...  \n",
       "1  ([new, tables, coulomb, functions, presented, ...  \n",
       "2  ([ionization, electron, impact, diatomic, gase...  \n",
       "3  ([shown, conductivity, ohmic, part, cuprous, o...  \n",
       "4  ([factorization, method, operational, procedur...  \n",
       "5  ([brief, account, given, dyson, proof, finiten...  \n",
       "6  ([systematics, given, transitions, odd, nuclei...  \n",
       "7  ([systematics, even, nuclei, given, interpreta...  \n",
       "8  ([available, experiments, absorption, spectra,...  \n",
       "9  ([classical, theory, dynamics, viscous, fluids...  "
      ]
     },
     "execution_count": 132,
     "metadata": {},
     "output_type": "execute_result"
    }
   ],
   "source": [
    "apsDF['tokenized_words'] = apsDF['abstract'].apply(lambda x: nltk.word_tokenize(x))\n",
    "apsDF['normalized_words'] = apsDF['tokenized_words'].apply(lambda x: lucem_illud.normalizeTokens(x, stopwordLst = lucem_illud.stop_words_basic, stemmer = None))\n",
    "apsDF[:10]"
   ]
  },
  {
   "cell_type": "code",
   "execution_count": 77,
   "metadata": {
    "collapsed": true
   },
   "outputs": [],
   "source": [
    "taggedDocs = []\n",
    "for index, row in apsDF.iterrows():\n",
    "    #Just doing a simple keyword assignment\n",
    "    docKeywords = [s for s in keywords if s in row['normalized_words']]\n",
    "    docKeywords.append(row['copyrightYear'])\n",
    "    docKeywords.append(row['doi']) #This lets us extract individual documnets since doi's are unique\n",
    "    taggedDocs.append(gensim.models.doc2vec.LabeledSentence(words = row['normalized_words'], tags = docKeywords))\n",
    "apsDF['TaggedAbstracts'] = taggedDocs"
   ]
  },
  {
   "cell_type": "markdown",
   "metadata": {},
   "source": [
    "Now we can train a Doc2Vec model:"
   ]
  },
  {
   "cell_type": "code",
   "execution_count": 106,
   "metadata": {
    "collapsed": true
   },
   "outputs": [],
   "source": [
    "apsD2V = gensim.models.doc2vec.Doc2Vec(apsDF['TaggedAbstracts'], size = 100) #Limiting to 100 dimensions"
   ]
  },
  {
   "cell_type": "markdown",
   "metadata": {},
   "source": [
    "We can get vectors for the tags/documents, just as we did with words. Documents are actually the centroids (high dimensional average points) of their words. "
   ]
  },
  {
   "cell_type": "code",
   "execution_count": 79,
   "metadata": {
    "collapsed": false,
    "scrolled": true
   },
   "outputs": [
    {
     "data": {
      "text/plain": [
       "array([ 1.1811744 ,  1.5147003 , -0.73831177,  1.5701269 , -0.9774414 ,\n",
       "        0.0477    ,  1.161216  ,  0.35431048,  0.41138884,  2.242039  ,\n",
       "       -0.91834915, -1.1019025 , -0.60383505,  0.73166007, -1.0051209 ,\n",
       "       -0.3605346 ,  0.14477801,  0.59834605,  0.47805145, -2.007724  ,\n",
       "       -1.9772297 , -0.6744852 ,  0.6405004 ,  1.5111965 , -0.2935183 ,\n",
       "       -0.903807  ,  0.9401995 ,  1.0291687 , -0.01867682,  0.4405708 ,\n",
       "        0.4895386 ,  0.95484716, -0.21926998,  0.80853677, -0.3797004 ,\n",
       "        0.30740857, -1.2028925 , -0.53314376,  0.6070704 , -1.0599887 ,\n",
       "       -0.5980537 , -0.2935382 ,  0.70740813,  0.32581466,  1.22979   ,\n",
       "       -0.6651801 , -0.43381855, -0.4656629 , -0.3084458 , -1.7783778 ,\n",
       "       -0.95903355, -1.144708  ,  1.3575008 ,  0.54297847,  0.3474774 ,\n",
       "       -0.14312659, -0.38278505,  0.25179312,  1.1200297 ,  0.1648694 ,\n",
       "        1.5896859 , -0.5692504 ,  1.4563026 ,  0.4949111 , -0.86840266,\n",
       "       -0.09658062,  0.07783957,  0.07796215, -0.88435346,  0.4959789 ,\n",
       "       -0.27710587, -0.5459555 , -0.8676776 , -0.33217382, -0.45081016,\n",
       "       -1.2354411 , -0.01819983,  0.14280124,  0.74992806,  0.99509466,\n",
       "       -1.6159197 ,  0.44185972,  0.13705914, -1.5828236 ,  0.4863623 ,\n",
       "        0.36000136,  0.70726043,  1.0675507 ,  1.3623157 ,  0.34602296,\n",
       "       -1.0275549 , -1.2534043 ,  0.16753988,  0.7321367 ,  1.102376  ,\n",
       "       -1.4004409 ,  0.79573596, -0.5723913 ,  1.4598707 , -1.2117056 ],\n",
       "      dtype=float32)"
      ]
     },
     "execution_count": 79,
     "metadata": {},
     "output_type": "execute_result"
    }
   ],
   "source": [
    "apsD2V.docvecs[1952]"
   ]
  },
  {
   "cell_type": "code",
   "execution_count": 136,
   "metadata": {
    "collapsed": false
   },
   "outputs": [
    {
     "data": {
      "text/plain": [
       "array([-0.13386719, -0.0623291 , -0.07826704, -0.08757809, -0.31094098,\n",
       "       -0.12650599, -0.0313739 , -0.20573948, -0.11819073, -0.05480602,\n",
       "       -0.09379695, -0.20802607,  0.02552272,  0.1618931 , -0.0227451 ,\n",
       "       -0.3374113 ,  0.0937778 ,  0.03152569,  0.13468578, -0.34291586,\n",
       "        0.02326105, -0.15775149, -0.11807013,  0.02308539,  0.07980521,\n",
       "       -0.01549372, -0.14871678,  0.03798537, -0.10455945, -0.13892956,\n",
       "        0.06662671,  0.0744931 ,  0.18591978, -0.06107371, -0.06417345,\n",
       "       -0.11012553,  0.28807285, -0.03372443,  0.05340648,  0.0435415 ,\n",
       "        0.03759931, -0.12294134,  0.14161944,  0.2103655 ,  0.14971443,\n",
       "        0.03868964,  0.08544847,  0.37047878, -0.141049  ,  0.17816919,\n",
       "        0.01931951,  0.05719256,  0.0195953 ,  0.17275676,  0.08449089,\n",
       "        0.07443994, -0.04172629, -0.18714502, -0.07503655,  0.0253763 ,\n",
       "       -0.09972545, -0.05316894,  0.10999507,  0.04462953,  0.03034063,\n",
       "        0.12712549,  0.27403563, -0.00679368, -0.17778172,  0.08659819,\n",
       "        0.12175783, -0.08888482,  0.01445762,  0.03985016,  0.17455038,\n",
       "        0.07902119,  0.20679285,  0.01558082, -0.14979617,  0.01284982,\n",
       "        0.16049878, -0.02146807,  0.08266199, -0.05096231,  0.22979686,\n",
       "       -0.14193551,  0.1535958 ,  0.02746345,  0.16660085,  0.1715892 ,\n",
       "       -0.05785032,  0.28905   ,  0.04514347, -0.02610824, -0.19250844,\n",
       "       -0.17415623,  0.02736137,  0.02975369, -0.0249776 , -0.05544503],\n",
       "      dtype=float32)"
      ]
     },
     "execution_count": 136,
     "metadata": {},
     "output_type": "execute_result"
    }
   ],
   "source": [
    "yelp_bigD2V.docvecs[10]"
   ]
  },
  {
   "cell_type": "markdown",
   "metadata": {},
   "source": [
    "The words can still be accessed in the same way:"
   ]
  },
  {
   "cell_type": "code",
   "execution_count": 80,
   "metadata": {
    "collapsed": false
   },
   "outputs": [
    {
     "data": {
      "text/plain": [
       "array([-4.62687254e-01, -1.53168440e-01,  3.76467034e-02,  2.39879265e-01,\n",
       "       -5.10346949e-01,  3.05002928e-01, -3.81126195e-01, -3.99054497e-01,\n",
       "       -2.44915143e-01,  3.39236915e-01,  8.30679297e-01, -7.58643806e-01,\n",
       "       -4.43892509e-01,  1.31840006e-01, -3.59742224e-01,  1.75914526e-01,\n",
       "        2.85384387e-01, -4.31541920e-01, -8.84490907e-01, -3.39635611e-01,\n",
       "       -3.08346510e-01,  4.17373300e-01,  6.74590142e-03,  8.32128823e-01,\n",
       "       -1.78794429e-01,  4.08241004e-02, -3.68487090e-01,  8.51828277e-01,\n",
       "       -1.06316984e+00,  1.08597398e+00,  1.10641420e+00,  3.03526372e-01,\n",
       "        1.42820448e-01,  7.03115582e-01, -2.54029930e-01,  9.40466344e-01,\n",
       "       -1.25892377e+00,  1.26275909e-03, -3.67863506e-01, -7.75288105e-01,\n",
       "       -9.60000679e-02,  2.21391246e-01,  3.83830667e-01,  2.03671277e-01,\n",
       "       -1.94471180e-02, -3.97820383e-01, -1.14941442e+00,  1.06146783e-01,\n",
       "       -2.48552233e-01, -1.32896173e+00, -1.13473525e-02,  9.27808732e-02,\n",
       "        5.32575130e-01, -5.10359704e-01,  3.89942139e-01,  3.06361020e-01,\n",
       "        4.76681679e-01,  3.39450300e-01, -2.02437192e-01,  1.00082994e-01,\n",
       "       -3.49657565e-01, -3.34599167e-01,  8.38902831e-01,  7.68198848e-01,\n",
       "       -2.54535794e-01,  4.21930522e-01, -1.17158674e-01, -2.64109313e-01,\n",
       "       -1.50225842e-02,  7.19563782e-01, -2.81588107e-01, -2.89004862e-01,\n",
       "        1.07629858e-01, -7.10144222e-01, -6.89981639e-01, -9.09230411e-01,\n",
       "        7.62384534e-01,  2.71303747e-02, -2.16313899e-01,  3.14371109e-01,\n",
       "       -8.44215751e-01,  5.99673688e-01, -1.98511556e-01, -2.46430755e-01,\n",
       "       -5.93862608e-02,  8.18666816e-01,  3.07391316e-01,  3.69725794e-01,\n",
       "        2.37492651e-01, -5.48943937e-01, -5.78876376e-01, -4.55799341e-01,\n",
       "        2.34334454e-01, -1.99072003e-01, -6.10113084e-01, -1.05536473e+00,\n",
       "        2.17021137e-01,  6.78519011e-01,  4.50018287e-01, -4.11071986e-01],\n",
       "      dtype=float32)"
      ]
     },
     "execution_count": 80,
     "metadata": {},
     "output_type": "execute_result"
    }
   ],
   "source": [
    "apsD2V['atom']"
   ]
  },
  {
   "cell_type": "markdown",
   "metadata": {},
   "source": [
    "We can still use the ``most_similar`` command to perform simple semantic equations:"
   ]
  },
  {
   "cell_type": "code",
   "execution_count": 81,
   "metadata": {
    "collapsed": false
   },
   "outputs": [
    {
     "data": {
      "text/plain": [
       "[('atoms', 0.7928996086120605)]"
      ]
     },
     "execution_count": 81,
     "metadata": {},
     "output_type": "execute_result"
    }
   ],
   "source": [
    "apsD2V.most_similar(positive = ['atom','electrons'], negative = ['electron'], topn = 1)"
   ]
  },
  {
   "cell_type": "markdown",
   "metadata": {},
   "source": [
    "This is interesting. **Electron** is to **electrons** as **atom** is to **atoms**. Another way to understand this, developed below is: **electrons - electron** induces a singular to plural dimension, so when we subtract **electron** from **atom** and add **electrons**, we get **atoms**! "
   ]
  },
  {
   "cell_type": "code",
   "execution_count": 83,
   "metadata": {
    "collapsed": false
   },
   "outputs": [
    {
     "data": {
      "text/plain": [
       "[('distortions', 0.9389391541481018)]"
      ]
     },
     "execution_count": 83,
     "metadata": {},
     "output_type": "execute_result"
    }
   ],
   "source": [
    "apsD2V.most_similar(positive = ['einstein','law'], negative = ['equation'], topn = 1)"
   ]
  },
  {
   "cell_type": "markdown",
   "metadata": {},
   "source": [
    "In other words **Einstein** minus **equation** plus **law** equals **Meissner**--Walthur Meissner studied mechanical engineering and physics ... and was more likely to produce a \"law\" than a \"equation\", like the Meissner effect, the damping of the magnetic field in superconductors. If we built our word-embedding with a bigger corpus like the entire arXiv, a massive repository of physics preprints, we would see many more such relationships like **gravity - Newton + Einstein = relativity**."
   ]
  },
  {
   "cell_type": "markdown",
   "metadata": {},
   "source": [
    "We can also compute all of these *by hand*--explicitly wth vector algebra: "
   ]
  },
  {
   "cell_type": "code",
   "execution_count": 84,
   "metadata": {
    "collapsed": false
   },
   "outputs": [
    {
     "data": {
      "text/plain": [
       "array([[0.5888763]], dtype=float32)"
      ]
     },
     "execution_count": 84,
     "metadata": {},
     "output_type": "execute_result"
    }
   ],
   "source": [
    "sklearn.metrics.pairwise.cosine_similarity(apsD2V['electron'].reshape(1,-1), apsD2V['positron'].reshape(1,-1))\n",
    "#We reorient the vectors with .reshape(1, -1) so that they can be computed without a warning in sklearn"
   ]
  },
  {
   "cell_type": "markdown",
   "metadata": {},
   "source": [
    "In the doc2vec model, the documents have vectors just as the words do, so that we can compare documents with each other and also with words (similar to how a search engine locates a webpage with a query). First, we will calculate the distance between a word and documents in the dataset:"
   ]
  },
  {
   "cell_type": "code",
   "execution_count": 85,
   "metadata": {
    "collapsed": false
   },
   "outputs": [
    {
     "data": {
      "text/plain": [
       "[('10.1103/PhysRev.112.334', 0.6667982339859009),\n",
       " ('10.1103/PhysRev.112.1429', 0.6589260697364807),\n",
       " ('10.1103/PhysRev.110.857', 0.6580296754837036),\n",
       " ('10.1103/PhysRev.112.812', 0.6450074911117554),\n",
       " ('10.1103/PhysRev.100.1646', 0.6230279207229614)]"
      ]
     },
     "execution_count": 85,
     "metadata": {},
     "output_type": "execute_result"
    }
   ],
   "source": [
    "apsD2V.docvecs.most_similar([ apsD2V['electron'] ], topn=5 )"
   ]
  },
  {
   "cell_type": "markdown",
   "metadata": {},
   "source": [
    "If we search for the first of these on the web (these are doi codes), we find the following...a pretty good match:\n",
    "<img src='../data/PhysRev.98.875.jpg'>"
   ]
  },
  {
   "cell_type": "markdown",
   "metadata": {},
   "source": [
    "Now let's go the other way around and find words most similar to this document:"
   ]
  },
  {
   "cell_type": "code",
   "execution_count": 86,
   "metadata": {
    "collapsed": false
   },
   "outputs": [
    {
     "data": {
      "text/plain": [
       "[('gauss', 0.6708639860153198),\n",
       " ('ratio', 0.6681116819381714),\n",
       " ('gyromagnetic', 0.6658351421356201),\n",
       " ('electric', 0.6633366346359253),\n",
       " ('oersteds', 0.6308271884918213)]"
      ]
     },
     "execution_count": 86,
     "metadata": {},
     "output_type": "execute_result"
    }
   ],
   "source": [
    "apsD2V.most_similar( [ apsD2V.docvecs['10.1103/PhysRev.98.875'] ], topn=5) "
   ]
  },
  {
   "cell_type": "markdown",
   "metadata": {},
   "source": [
    "We can even look for documents most like a query composed of multiple words:"
   ]
  },
  {
   "cell_type": "code",
   "execution_count": 87,
   "metadata": {
    "collapsed": false
   },
   "outputs": [
    {
     "data": {
      "text/plain": [
       "[('10.1103/PhysRev.85.461', 0.7676515579223633),\n",
       " ('10.1103/PhysRev.113.156', 0.7668721675872803),\n",
       " ('10.1103/PhysRev.101.388', 0.7646487951278687),\n",
       " ('10.1103/PhysRev.77.165', 0.7519852519035339),\n",
       " ('10.1103/PhysRev.89.1053', 0.749043881893158)]"
      ]
     },
     "execution_count": 87,
     "metadata": {},
     "output_type": "execute_result"
    }
   ],
   "source": [
    "apsD2V.docvecs.most_similar([ apsD2V['electron']+apsD2V['positron']+apsD2V['neutron']], topn=5 )"
   ]
  },
  {
   "cell_type": "markdown",
   "metadata": {},
   "source": [
    "Now let's plot some words and documents against one another with a heatmap:"
   ]
  },
  {
   "cell_type": "code",
   "execution_count": 88,
   "metadata": {
    "collapsed": true
   },
   "outputs": [],
   "source": [
    "heatmapMatrix = []\n",
    "for tagOuter in keywords:\n",
    "    column = []\n",
    "    tagVec = apsD2V.docvecs[tagOuter].reshape(1, -1)\n",
    "    for tagInner in keywords:\n",
    "        column.append(sklearn.metrics.pairwise.cosine_similarity(tagVec, apsD2V.docvecs[tagInner].reshape(1, -1))[0][0])\n",
    "    heatmapMatrix.append(column)\n",
    "heatmapMatrix = np.array(heatmapMatrix)"
   ]
  },
  {
   "cell_type": "code",
   "execution_count": 138,
   "metadata": {
    "collapsed": false
   },
   "outputs": [
    {
     "data": {
      "image/png": "[encoded data removed]",
      "text/plain": [
       "<matplotlib.figure.Figure at 0x16c5b9588>"
      ]
     },
     "metadata": {},
     "output_type": "display_data"
    }
   ],
   "source": [
    "fig, ax = plt.subplots()\n",
    "hmap = ax.pcolor(heatmapMatrix, cmap='terrain')\n",
    "cbar = plt.colorbar(hmap)\n",
    "\n",
    "cbar.set_label('cosine similarity', rotation=270)\n",
    "a = ax.set_xticks(np.arange(heatmapMatrix.shape[1]) + 0.5, minor=False)\n",
    "a = ax.set_yticks(np.arange(heatmapMatrix.shape[0]) + 0.5, minor=False)\n",
    "\n",
    "a = ax.set_xticklabels(keywords, minor=False, rotation=270)\n",
    "a = ax.set_yticklabels(keywords, minor=False)"
   ]
  },
  {
   "cell_type": "markdown",
   "metadata": {},
   "source": [
    "Now let's look at a heatmap of similarities between the first ten documents in the corpus:"
   ]
  },
  {
   "cell_type": "code",
   "execution_count": 90,
   "metadata": {
    "collapsed": true
   },
   "outputs": [],
   "source": [
    "targetDocs = apsDF['doi'][:10]\n",
    "\n",
    "heatmapMatrixD = []\n",
    "\n",
    "for tagOuter in targetDocs:\n",
    "    column = []\n",
    "    tagVec = apsD2V.docvecs[tagOuter].reshape(1, -1)\n",
    "    for tagInner in targetDocs:\n",
    "        column.append(sklearn.metrics.pairwise.cosine_similarity(tagVec, apsD2V.docvecs[tagInner].reshape(1, -1))[0][0])\n",
    "    heatmapMatrixD.append(column)\n",
    "heatmapMatrixD = np.array(heatmapMatrixD)"
   ]
  },
  {
   "cell_type": "code",
   "execution_count": 91,
   "metadata": {
    "collapsed": false
   },
   "outputs": [
    {
     "data": {
      "image/png": "[encoded data removed]",
      "text/plain": [
       "<matplotlib.figure.Figure at 0x14069c5f8>"
      ]
     },
     "metadata": {},
     "output_type": "display_data"
    }
   ],
   "source": [
    "fig, ax = plt.subplots()\n",
    "hmap = ax.pcolor(heatmapMatrixD, cmap='terrain')\n",
    "cbar = plt.colorbar(hmap)\n",
    "\n",
    "cbar.set_label('cosine similarity', rotation=270)\n",
    "a = ax.set_xticks(np.arange(heatmapMatrixD.shape[1]) + 0.5, minor=False)\n",
    "a = ax.set_yticks(np.arange(heatmapMatrixD.shape[0]) + 0.5, minor=False)\n",
    "\n",
    "a = ax.set_xticklabels(targetDocs, minor=False, rotation=270)\n",
    "a = ax.set_yticklabels(targetDocs, minor=False)"
   ]
  },
  {
   "cell_type": "markdown",
   "metadata": {},
   "source": [
    "Now let's look at a heatmap of similarities between the first ten documents and our keywords:"
   ]
  },
  {
   "cell_type": "code",
   "execution_count": 92,
   "metadata": {
    "collapsed": true
   },
   "outputs": [],
   "source": [
    "heatmapMatrixC = []\n",
    "\n",
    "for tagOuter in targetDocs:\n",
    "    column = []\n",
    "    tagVec = apsD2V.docvecs[tagOuter].reshape(1, -1)\n",
    "    for tagInner in keywords:\n",
    "        column.append(sklearn.metrics.pairwise.cosine_similarity(tagVec, apsD2V.docvecs[tagInner].reshape(1, -1))[0][0])\n",
    "    heatmapMatrixC.append(column)\n",
    "heatmapMatrixC = np.array(heatmapMatrixC)"
   ]
  },
  {
   "cell_type": "code",
   "execution_count": 93,
   "metadata": {
    "collapsed": false
   },
   "outputs": [
    {
     "data": {
      "image/png": "[encoded data removed]",
      "text/plain": [
       "<matplotlib.figure.Figure at 0x1404dccc0>"
      ]
     },
     "metadata": {},
     "output_type": "display_data"
    }
   ],
   "source": [
    "fig, ax = plt.subplots()\n",
    "hmap = ax.pcolor(heatmapMatrixC, cmap='terrain')\n",
    "cbar = plt.colorbar(hmap)\n",
    "\n",
    "cbar.set_label('cosine similarity', rotation=270)\n",
    "a = ax.set_xticks(np.arange(heatmapMatrixC.shape[1]) + 0.5, minor=False)\n",
    "a = ax.set_yticks(np.arange(heatmapMatrixC.shape[0]) + 0.5, minor=False)\n",
    "\n",
    "a = ax.set_xticklabels(keywords, minor=False, rotation=270)\n",
    "a = ax.set_yticklabels(targetDocs, minor=False)"
   ]
  },
  {
   "cell_type": "markdown",
   "metadata": {},
   "source": [
    "We will save the model in case we would like to use it again."
   ]
  },
  {
   "cell_type": "code",
   "execution_count": 94,
   "metadata": {
    "collapsed": true
   },
   "outputs": [],
   "source": [
    "apsD2V.save('apsW2V')"
   ]
  },
  {
   "cell_type": "markdown",
   "metadata": {},
   "source": [
    "We can later load it:"
   ]
  },
  {
   "cell_type": "code",
   "execution_count": null,
   "metadata": {
    "collapsed": true
   },
   "outputs": [],
   "source": [
    "#apsD2V = gensim.models.word2vec.Word2Vec.load('data/apsW2V')"
   ]
  },
  {
   "cell_type": "markdown",
   "metadata": {},
   "source": [
    "## <span style=\"color:red\">*Exercise 2*</span>\n",
    "\n",
    "<span style=\"color:red\">Construct cells immediately below this that build a doc2vec model with your corpus. Interrogate document and word relationships in the resulting space. Construct a heatmap that plots the distances between a subset of your documents against each other, and against a set of informative words. Find distances between *every* document in your corpus and a word or query of interest. What do these doc-doc proximities reveal about your corpus? What do these word-doc proximities highlight? Demonstrate and document one reasonable way to select a defensible subset of query-relevant documents for subsequent analysis."
   ]
  },
  {
   "cell_type": "markdown",
   "metadata": {},
   "source": [
    "Each row is for one bsuiness, so the text is a combination of all reviews from one business."
   ]
  },
  {
   "cell_type": "code",
   "execution_count": 248,
   "metadata": {
    "collapsed": false
   },
   "outputs": [
    {
     "data": {
      "text/html": [
       "<div>\n",
       "<style scoped>\n",
       "    .dataframe tbody tr th:only-of-type {\n",
       "        vertical-align: middle;\n",
       "    }\n",
       "\n",
       "    .dataframe tbody tr th {\n",
       "        vertical-align: top;\n",
       "    }\n",
       "\n",
       "    .dataframe thead th {\n",
       "        text-align: right;\n",
       "    }\n",
       "</style>\n",
       "<table border=\"1\" class=\"dataframe\">\n",
       "  <thead>\n",
       "    <tr style=\"text-align: right;\">\n",
       "      <th></th>\n",
       "      <th>text</th>\n",
       "      <th>business_id</th>\n",
       "    </tr>\n",
       "    <tr>\n",
       "      <th>business_id</th>\n",
       "      <th></th>\n",
       "      <th></th>\n",
       "    </tr>\n",
       "  </thead>\n",
       "  <tbody>\n",
       "    <tr>\n",
       "      <th>--6MefnULPED_I942VcFNA</th>\n",
       "      <td>Good quality Chinese food.  Decor is nice for ...</td>\n",
       "      <td>--6MefnULPED_I942VcFNA--6MefnULPED_I942VcFNA--...</td>\n",
       "    </tr>\n",
       "    <tr>\n",
       "      <th>--7zmmkVg-IMGaXbuVd0SQ</th>\n",
       "      <td>Last week, I attended an event that I'll never...</td>\n",
       "      <td>--7zmmkVg-IMGaXbuVd0SQ--7zmmkVg-IMGaXbuVd0SQ--...</td>\n",
       "    </tr>\n",
       "    <tr>\n",
       "      <th>--8LPVSo5i0Oo61X01sV9A</th>\n",
       "      <td>Dr.LaCognata did my knee replacement surgery a...</td>\n",
       "      <td>--8LPVSo5i0Oo61X01sV9A--8LPVSo5i0Oo61X01sV9A--...</td>\n",
       "    </tr>\n",
       "    <tr>\n",
       "      <th>--9QQLMTbFzLJ_oT-ON3Xw</th>\n",
       "      <td>Don't ever believe the check in time. You'll a...</td>\n",
       "      <td>--9QQLMTbFzLJ_oT-ON3Xw--9QQLMTbFzLJ_oT-ON3Xw--...</td>\n",
       "    </tr>\n",
       "    <tr>\n",
       "      <th>--DaPTJW3-tB1vP-PfdTEg</th>\n",
       "      <td>Just tried this breakfast joint, didn't want t...</td>\n",
       "      <td>--DaPTJW3-tB1vP-PfdTEg--DaPTJW3-tB1vP-PfdTEg--...</td>\n",
       "    </tr>\n",
       "    <tr>\n",
       "      <th>--DdmeR16TRb3LsjG0ejrQ</th>\n",
       "      <td>Disclaimer: I attended the World Food Champion...</td>\n",
       "      <td>--DdmeR16TRb3LsjG0ejrQ--DdmeR16TRb3LsjG0ejrQ--...</td>\n",
       "    </tr>\n",
       "    <tr>\n",
       "      <th>--ab39IjZR_xUf81WyTyHg</th>\n",
       "      <td>We were Very pleased with our service we had g...</td>\n",
       "      <td>--ab39IjZR_xUf81WyTyHg--ab39IjZR_xUf81WyTyHg--...</td>\n",
       "    </tr>\n",
       "    <tr>\n",
       "      <th>--cgVkbWTiga3OYTkymKqA</th>\n",
       "      <td>I was a new person in the city, and I had an a...</td>\n",
       "      <td>--cgVkbWTiga3OYTkymKqA--cgVkbWTiga3OYTkymKqA--...</td>\n",
       "    </tr>\n",
       "    <tr>\n",
       "      <th>--cjBEbXMI2obtaRHNSFrA</th>\n",
       "      <td>This spot is pretty to new the Pittsburgh scen...</td>\n",
       "      <td>--cjBEbXMI2obtaRHNSFrA--cjBEbXMI2obtaRHNSFrA--...</td>\n",
       "    </tr>\n",
       "    <tr>\n",
       "      <th>--e8PjCNhEz32pprnPhCwQ</th>\n",
       "      <td>I took my Maltese/poodle, she was extremely ma...</td>\n",
       "      <td>--e8PjCNhEz32pprnPhCwQ--e8PjCNhEz32pprnPhCwQ--...</td>\n",
       "    </tr>\n",
       "  </tbody>\n",
       "</table>\n",
       "</div>"
      ],
      "text/plain": [
       "                                                                     text  \\\n",
       "business_id                                                                 \n",
       "--6MefnULPED_I942VcFNA  Good quality Chinese food.  Decor is nice for ...   \n",
       "--7zmmkVg-IMGaXbuVd0SQ  Last week, I attended an event that I'll never...   \n",
       "--8LPVSo5i0Oo61X01sV9A  Dr.LaCognata did my knee replacement surgery a...   \n",
       "--9QQLMTbFzLJ_oT-ON3Xw  Don't ever believe the check in time. You'll a...   \n",
       "--DaPTJW3-tB1vP-PfdTEg  Just tried this breakfast joint, didn't want t...   \n",
       "--DdmeR16TRb3LsjG0ejrQ  Disclaimer: I attended the World Food Champion...   \n",
       "--ab39IjZR_xUf81WyTyHg  We were Very pleased with our service we had g...   \n",
       "--cgVkbWTiga3OYTkymKqA  I was a new person in the city, and I had an a...   \n",
       "--cjBEbXMI2obtaRHNSFrA  This spot is pretty to new the Pittsburgh scen...   \n",
       "--e8PjCNhEz32pprnPhCwQ  I took my Maltese/poodle, she was extremely ma...   \n",
       "\n",
       "                                                              business_id  \n",
       "business_id                                                                \n",
       "--6MefnULPED_I942VcFNA  --6MefnULPED_I942VcFNA--6MefnULPED_I942VcFNA--...  \n",
       "--7zmmkVg-IMGaXbuVd0SQ  --7zmmkVg-IMGaXbuVd0SQ--7zmmkVg-IMGaXbuVd0SQ--...  \n",
       "--8LPVSo5i0Oo61X01sV9A  --8LPVSo5i0Oo61X01sV9A--8LPVSo5i0Oo61X01sV9A--...  \n",
       "--9QQLMTbFzLJ_oT-ON3Xw  --9QQLMTbFzLJ_oT-ON3Xw--9QQLMTbFzLJ_oT-ON3Xw--...  \n",
       "--DaPTJW3-tB1vP-PfdTEg  --DaPTJW3-tB1vP-PfdTEg--DaPTJW3-tB1vP-PfdTEg--...  \n",
       "--DdmeR16TRb3LsjG0ejrQ  --DdmeR16TRb3LsjG0ejrQ--DdmeR16TRb3LsjG0ejrQ--...  \n",
       "--ab39IjZR_xUf81WyTyHg  --ab39IjZR_xUf81WyTyHg--ab39IjZR_xUf81WyTyHg--...  \n",
       "--cgVkbWTiga3OYTkymKqA  --cgVkbWTiga3OYTkymKqA--cgVkbWTiga3OYTkymKqA--...  \n",
       "--cjBEbXMI2obtaRHNSFrA  --cjBEbXMI2obtaRHNSFrA--cjBEbXMI2obtaRHNSFrA--...  \n",
       "--e8PjCNhEz32pprnPhCwQ  --e8PjCNhEz32pprnPhCwQ--e8PjCNhEz32pprnPhCwQ--...  "
      ]
     },
     "execution_count": 248,
     "metadata": {},
     "output_type": "execute_result"
    }
   ],
   "source": [
    "yelp_review_bigdf = pandas.read_csv('~/review_small.csv', sep='\\t')\n",
    "yelp_review_bigdf = yelp_review_bigdf.dropna(axis=0, how='any')\n",
    "yelp_review_bigdf = yelp_review_bigdf.drop(columns=['id','stars','date','useful','funny','cool','business_id.1','user_id','count'])\n",
    "yelp_review_bigdf = yelp_review_bigdf.groupby('business_id').apply(lambda x: x.sum())\n",
    "yelp_review_bigdf"
   ]
  },
  {
   "cell_type": "markdown",
   "metadata": {},
   "source": [
    "Now we define some keywords and preprossessing the text reviews."
   ]
  },
  {
   "cell_type": "code",
   "execution_count": 249,
   "metadata": {
    "collapsed": false
   },
   "outputs": [
    {
     "data": {
      "text/html": [
       "<div>\n",
       "<style scoped>\n",
       "    .dataframe tbody tr th:only-of-type {\n",
       "        vertical-align: middle;\n",
       "    }\n",
       "\n",
       "    .dataframe tbody tr th {\n",
       "        vertical-align: top;\n",
       "    }\n",
       "\n",
       "    .dataframe thead th {\n",
       "        text-align: right;\n",
       "    }\n",
       "</style>\n",
       "<table border=\"1\" class=\"dataframe\">\n",
       "  <thead>\n",
       "    <tr style=\"text-align: right;\">\n",
       "      <th></th>\n",
       "      <th>text</th>\n",
       "      <th>business_id</th>\n",
       "      <th>tokenized_texts</th>\n",
       "      <th>normalized_tokens</th>\n",
       "    </tr>\n",
       "    <tr>\n",
       "      <th>business_id</th>\n",
       "      <th></th>\n",
       "      <th></th>\n",
       "      <th></th>\n",
       "      <th></th>\n",
       "    </tr>\n",
       "  </thead>\n",
       "  <tbody>\n",
       "    <tr>\n",
       "      <th>--6MefnULPED_I942VcFNA</th>\n",
       "      <td>Good quality Chinese food.  Decor is nice for ...</td>\n",
       "      <td>--6MefnULPED_I942VcFNA--6MefnULPED_I942VcFNA--...</td>\n",
       "      <td>[Good, quality, Chinese, food, ., Decor, is, n...</td>\n",
       "      <td>[good, quality, chinese, food, decor, nice, ch...</td>\n",
       "    </tr>\n",
       "    <tr>\n",
       "      <th>--7zmmkVg-IMGaXbuVd0SQ</th>\n",
       "      <td>Last week, I attended an event that I'll never...</td>\n",
       "      <td>--7zmmkVg-IMGaXbuVd0SQ--7zmmkVg-IMGaXbuVd0SQ--...</td>\n",
       "      <td>[Last, week, ,, I, attended, an, event, that, ...</td>\n",
       "      <td>[last, week, attended, event, never, forget, p...</td>\n",
       "    </tr>\n",
       "    <tr>\n",
       "      <th>--8LPVSo5i0Oo61X01sV9A</th>\n",
       "      <td>Dr.LaCognata did my knee replacement surgery a...</td>\n",
       "      <td>--8LPVSo5i0Oo61X01sV9A--8LPVSo5i0Oo61X01sV9A--...</td>\n",
       "      <td>[Dr.LaCognata, did, my, knee, replacement, sur...</td>\n",
       "      <td>[knee, replacement, surgery, wonderful, job, w...</td>\n",
       "    </tr>\n",
       "    <tr>\n",
       "      <th>--9QQLMTbFzLJ_oT-ON3Xw</th>\n",
       "      <td>Don't ever believe the check in time. You'll a...</td>\n",
       "      <td>--9QQLMTbFzLJ_oT-ON3Xw--9QQLMTbFzLJ_oT-ON3Xw--...</td>\n",
       "      <td>[Do, n't, ever, believe, the, check, in, time,...</td>\n",
       "      <td>[ever, believe, check, time, always, min, wait...</td>\n",
       "    </tr>\n",
       "    <tr>\n",
       "      <th>--DaPTJW3-tB1vP-PfdTEg</th>\n",
       "      <td>Just tried this breakfast joint, didn't want t...</td>\n",
       "      <td>--DaPTJW3-tB1vP-PfdTEg--DaPTJW3-tB1vP-PfdTEg--...</td>\n",
       "      <td>[Just, tried, this, breakfast, joint, ,, did, ...</td>\n",
       "      <td>[tried, breakfast, joint, want, old, boom, way...</td>\n",
       "    </tr>\n",
       "  </tbody>\n",
       "</table>\n",
       "</div>"
      ],
      "text/plain": [
       "                                                                     text  \\\n",
       "business_id                                                                 \n",
       "--6MefnULPED_I942VcFNA  Good quality Chinese food.  Decor is nice for ...   \n",
       "--7zmmkVg-IMGaXbuVd0SQ  Last week, I attended an event that I'll never...   \n",
       "--8LPVSo5i0Oo61X01sV9A  Dr.LaCognata did my knee replacement surgery a...   \n",
       "--9QQLMTbFzLJ_oT-ON3Xw  Don't ever believe the check in time. You'll a...   \n",
       "--DaPTJW3-tB1vP-PfdTEg  Just tried this breakfast joint, didn't want t...   \n",
       "\n",
       "                                                              business_id  \\\n",
       "business_id                                                                 \n",
       "--6MefnULPED_I942VcFNA  --6MefnULPED_I942VcFNA--6MefnULPED_I942VcFNA--...   \n",
       "--7zmmkVg-IMGaXbuVd0SQ  --7zmmkVg-IMGaXbuVd0SQ--7zmmkVg-IMGaXbuVd0SQ--...   \n",
       "--8LPVSo5i0Oo61X01sV9A  --8LPVSo5i0Oo61X01sV9A--8LPVSo5i0Oo61X01sV9A--...   \n",
       "--9QQLMTbFzLJ_oT-ON3Xw  --9QQLMTbFzLJ_oT-ON3Xw--9QQLMTbFzLJ_oT-ON3Xw--...   \n",
       "--DaPTJW3-tB1vP-PfdTEg  --DaPTJW3-tB1vP-PfdTEg--DaPTJW3-tB1vP-PfdTEg--...   \n",
       "\n",
       "                                                          tokenized_texts  \\\n",
       "business_id                                                                 \n",
       "--6MefnULPED_I942VcFNA  [Good, quality, Chinese, food, ., Decor, is, n...   \n",
       "--7zmmkVg-IMGaXbuVd0SQ  [Last, week, ,, I, attended, an, event, that, ...   \n",
       "--8LPVSo5i0Oo61X01sV9A  [Dr.LaCognata, did, my, knee, replacement, sur...   \n",
       "--9QQLMTbFzLJ_oT-ON3Xw  [Do, n't, ever, believe, the, check, in, time,...   \n",
       "--DaPTJW3-tB1vP-PfdTEg  [Just, tried, this, breakfast, joint, ,, did, ...   \n",
       "\n",
       "                                                        normalized_tokens  \n",
       "business_id                                                                \n",
       "--6MefnULPED_I942VcFNA  [good, quality, chinese, food, decor, nice, ch...  \n",
       "--7zmmkVg-IMGaXbuVd0SQ  [last, week, attended, event, never, forget, p...  \n",
       "--8LPVSo5i0Oo61X01sV9A  [knee, replacement, surgery, wonderful, job, w...  \n",
       "--9QQLMTbFzLJ_oT-ON3Xw  [ever, believe, check, time, always, min, wait...  \n",
       "--DaPTJW3-tB1vP-PfdTEg  [tried, breakfast, joint, want, old, boom, way...  "
      ]
     },
     "execution_count": 249,
     "metadata": {},
     "output_type": "execute_result"
    }
   ],
   "source": [
    "review_keywords = ['food','location','ambiance','decor']\n",
    "\n",
    "yelp_review_bigdf['tokenized_texts'] = yelp_review_bigdf['text'].apply(lambda x:nltk.word_tokenize(x))\n",
    "yelp_review_bigdf['normalized_tokens'] = yelp_review_bigdf['tokenized_texts'].apply(lambda x: lucem_illud.normalizeTokens(x, stopwordLst = lucem_illud.stop_words_basic, stemmer = None))\n",
    "\n",
    "yelp_review_bigdf[:5]\n"
   ]
  },
  {
   "cell_type": "code",
   "execution_count": 250,
   "metadata": {
    "collapsed": false
   },
   "outputs": [
    {
     "data": {
      "text/html": [
       "<div>\n",
       "<style scoped>\n",
       "    .dataframe tbody tr th:only-of-type {\n",
       "        vertical-align: middle;\n",
       "    }\n",
       "\n",
       "    .dataframe tbody tr th {\n",
       "        vertical-align: top;\n",
       "    }\n",
       "\n",
       "    .dataframe thead th {\n",
       "        text-align: right;\n",
       "    }\n",
       "</style>\n",
       "<table border=\"1\" class=\"dataframe\">\n",
       "  <thead>\n",
       "    <tr style=\"text-align: right;\">\n",
       "      <th></th>\n",
       "      <th>text</th>\n",
       "      <th>business_id</th>\n",
       "      <th>tokenized_texts</th>\n",
       "      <th>normalized_tokens</th>\n",
       "      <th>TaggedTexts</th>\n",
       "    </tr>\n",
       "    <tr>\n",
       "      <th>business_id</th>\n",
       "      <th></th>\n",
       "      <th></th>\n",
       "      <th></th>\n",
       "      <th></th>\n",
       "      <th></th>\n",
       "    </tr>\n",
       "  </thead>\n",
       "  <tbody>\n",
       "    <tr>\n",
       "      <th>--6MefnULPED_I942VcFNA</th>\n",
       "      <td>Good quality Chinese food.  Decor is nice for ...</td>\n",
       "      <td>--6MefnULPED_I942VcFNA--6MefnULPED_I942VcFNA--...</td>\n",
       "      <td>[Good, quality, Chinese, food, ., Decor, is, n...</td>\n",
       "      <td>[good, quality, chinese, food, decor, nice, ch...</td>\n",
       "      <td>([good, quality, chinese, food, decor, nice, c...</td>\n",
       "    </tr>\n",
       "    <tr>\n",
       "      <th>--7zmmkVg-IMGaXbuVd0SQ</th>\n",
       "      <td>Last week, I attended an event that I'll never...</td>\n",
       "      <td>--7zmmkVg-IMGaXbuVd0SQ--7zmmkVg-IMGaXbuVd0SQ--...</td>\n",
       "      <td>[Last, week, ,, I, attended, an, event, that, ...</td>\n",
       "      <td>[last, week, attended, event, never, forget, p...</td>\n",
       "      <td>([last, week, attended, event, never, forget, ...</td>\n",
       "    </tr>\n",
       "    <tr>\n",
       "      <th>--8LPVSo5i0Oo61X01sV9A</th>\n",
       "      <td>Dr.LaCognata did my knee replacement surgery a...</td>\n",
       "      <td>--8LPVSo5i0Oo61X01sV9A--8LPVSo5i0Oo61X01sV9A--...</td>\n",
       "      <td>[Dr.LaCognata, did, my, knee, replacement, sur...</td>\n",
       "      <td>[knee, replacement, surgery, wonderful, job, w...</td>\n",
       "      <td>([knee, replacement, surgery, wonderful, job, ...</td>\n",
       "    </tr>\n",
       "    <tr>\n",
       "      <th>--9QQLMTbFzLJ_oT-ON3Xw</th>\n",
       "      <td>Don't ever believe the check in time. You'll a...</td>\n",
       "      <td>--9QQLMTbFzLJ_oT-ON3Xw--9QQLMTbFzLJ_oT-ON3Xw--...</td>\n",
       "      <td>[Do, n't, ever, believe, the, check, in, time,...</td>\n",
       "      <td>[ever, believe, check, time, always, min, wait...</td>\n",
       "      <td>([ever, believe, check, time, always, min, wai...</td>\n",
       "    </tr>\n",
       "    <tr>\n",
       "      <th>--DaPTJW3-tB1vP-PfdTEg</th>\n",
       "      <td>Just tried this breakfast joint, didn't want t...</td>\n",
       "      <td>--DaPTJW3-tB1vP-PfdTEg--DaPTJW3-tB1vP-PfdTEg--...</td>\n",
       "      <td>[Just, tried, this, breakfast, joint, ,, did, ...</td>\n",
       "      <td>[tried, breakfast, joint, want, old, boom, way...</td>\n",
       "      <td>([tried, breakfast, joint, want, old, boom, wa...</td>\n",
       "    </tr>\n",
       "    <tr>\n",
       "      <th>--DdmeR16TRb3LsjG0ejrQ</th>\n",
       "      <td>Disclaimer: I attended the World Food Champion...</td>\n",
       "      <td>--DdmeR16TRb3LsjG0ejrQ--DdmeR16TRb3LsjG0ejrQ--...</td>\n",
       "      <td>[Disclaimer, :, I, attended, the, World, Food,...</td>\n",
       "      <td>[disclaimer, attended, world, food, championsh...</td>\n",
       "      <td>([disclaimer, attended, world, food, champions...</td>\n",
       "    </tr>\n",
       "    <tr>\n",
       "      <th>--ab39IjZR_xUf81WyTyHg</th>\n",
       "      <td>We were Very pleased with our service we had g...</td>\n",
       "      <td>--ab39IjZR_xUf81WyTyHg--ab39IjZR_xUf81WyTyHg--...</td>\n",
       "      <td>[We, were, Very, pleased, with, our, service, ...</td>\n",
       "      <td>[pleased, service, great, service, alex, today...</td>\n",
       "      <td>([pleased, service, great, service, alex, toda...</td>\n",
       "    </tr>\n",
       "    <tr>\n",
       "      <th>--cgVkbWTiga3OYTkymKqA</th>\n",
       "      <td>I was a new person in the city, and I had an a...</td>\n",
       "      <td>--cgVkbWTiga3OYTkymKqA--cgVkbWTiga3OYTkymKqA--...</td>\n",
       "      <td>[I, was, a, new, person, in, the, city, ,, and...</td>\n",
       "      <td>[new, person, city, accident, know, call, foun...</td>\n",
       "      <td>([new, person, city, accident, know, call, fou...</td>\n",
       "    </tr>\n",
       "    <tr>\n",
       "      <th>--cjBEbXMI2obtaRHNSFrA</th>\n",
       "      <td>This spot is pretty to new the Pittsburgh scen...</td>\n",
       "      <td>--cjBEbXMI2obtaRHNSFrA--cjBEbXMI2obtaRHNSFrA--...</td>\n",
       "      <td>[This, spot, is, pretty, to, new, the, Pittsbu...</td>\n",
       "      <td>[spot, pretty, new, pittsburgh, scene, althoug...</td>\n",
       "      <td>([spot, pretty, new, pittsburgh, scene, althou...</td>\n",
       "    </tr>\n",
       "    <tr>\n",
       "      <th>--e8PjCNhEz32pprnPhCwQ</th>\n",
       "      <td>I took my Maltese/poodle, she was extremely ma...</td>\n",
       "      <td>--e8PjCNhEz32pprnPhCwQ--e8PjCNhEz32pprnPhCwQ--...</td>\n",
       "      <td>[I, took, my, Maltese/poodle, ,, she, was, ext...</td>\n",
       "      <td>[took, extremely, took, great, care, left, rea...</td>\n",
       "      <td>([took, extremely, took, great, care, left, re...</td>\n",
       "    </tr>\n",
       "  </tbody>\n",
       "</table>\n",
       "</div>"
      ],
      "text/plain": [
       "                                                                     text  \\\n",
       "business_id                                                                 \n",
       "--6MefnULPED_I942VcFNA  Good quality Chinese food.  Decor is nice for ...   \n",
       "--7zmmkVg-IMGaXbuVd0SQ  Last week, I attended an event that I'll never...   \n",
       "--8LPVSo5i0Oo61X01sV9A  Dr.LaCognata did my knee replacement surgery a...   \n",
       "--9QQLMTbFzLJ_oT-ON3Xw  Don't ever believe the check in time. You'll a...   \n",
       "--DaPTJW3-tB1vP-PfdTEg  Just tried this breakfast joint, didn't want t...   \n",
       "--DdmeR16TRb3LsjG0ejrQ  Disclaimer: I attended the World Food Champion...   \n",
       "--ab39IjZR_xUf81WyTyHg  We were Very pleased with our service we had g...   \n",
       "--cgVkbWTiga3OYTkymKqA  I was a new person in the city, and I had an a...   \n",
       "--cjBEbXMI2obtaRHNSFrA  This spot is pretty to new the Pittsburgh scen...   \n",
       "--e8PjCNhEz32pprnPhCwQ  I took my Maltese/poodle, she was extremely ma...   \n",
       "\n",
       "                                                              business_id  \\\n",
       "business_id                                                                 \n",
       "--6MefnULPED_I942VcFNA  --6MefnULPED_I942VcFNA--6MefnULPED_I942VcFNA--...   \n",
       "--7zmmkVg-IMGaXbuVd0SQ  --7zmmkVg-IMGaXbuVd0SQ--7zmmkVg-IMGaXbuVd0SQ--...   \n",
       "--8LPVSo5i0Oo61X01sV9A  --8LPVSo5i0Oo61X01sV9A--8LPVSo5i0Oo61X01sV9A--...   \n",
       "--9QQLMTbFzLJ_oT-ON3Xw  --9QQLMTbFzLJ_oT-ON3Xw--9QQLMTbFzLJ_oT-ON3Xw--...   \n",
       "--DaPTJW3-tB1vP-PfdTEg  --DaPTJW3-tB1vP-PfdTEg--DaPTJW3-tB1vP-PfdTEg--...   \n",
       "--DdmeR16TRb3LsjG0ejrQ  --DdmeR16TRb3LsjG0ejrQ--DdmeR16TRb3LsjG0ejrQ--...   \n",
       "--ab39IjZR_xUf81WyTyHg  --ab39IjZR_xUf81WyTyHg--ab39IjZR_xUf81WyTyHg--...   \n",
       "--cgVkbWTiga3OYTkymKqA  --cgVkbWTiga3OYTkymKqA--cgVkbWTiga3OYTkymKqA--...   \n",
       "--cjBEbXMI2obtaRHNSFrA  --cjBEbXMI2obtaRHNSFrA--cjBEbXMI2obtaRHNSFrA--...   \n",
       "--e8PjCNhEz32pprnPhCwQ  --e8PjCNhEz32pprnPhCwQ--e8PjCNhEz32pprnPhCwQ--...   \n",
       "\n",
       "                                                          tokenized_texts  \\\n",
       "business_id                                                                 \n",
       "--6MefnULPED_I942VcFNA  [Good, quality, Chinese, food, ., Decor, is, n...   \n",
       "--7zmmkVg-IMGaXbuVd0SQ  [Last, week, ,, I, attended, an, event, that, ...   \n",
       "--8LPVSo5i0Oo61X01sV9A  [Dr.LaCognata, did, my, knee, replacement, sur...   \n",
       "--9QQLMTbFzLJ_oT-ON3Xw  [Do, n't, ever, believe, the, check, in, time,...   \n",
       "--DaPTJW3-tB1vP-PfdTEg  [Just, tried, this, breakfast, joint, ,, did, ...   \n",
       "--DdmeR16TRb3LsjG0ejrQ  [Disclaimer, :, I, attended, the, World, Food,...   \n",
       "--ab39IjZR_xUf81WyTyHg  [We, were, Very, pleased, with, our, service, ...   \n",
       "--cgVkbWTiga3OYTkymKqA  [I, was, a, new, person, in, the, city, ,, and...   \n",
       "--cjBEbXMI2obtaRHNSFrA  [This, spot, is, pretty, to, new, the, Pittsbu...   \n",
       "--e8PjCNhEz32pprnPhCwQ  [I, took, my, Maltese/poodle, ,, she, was, ext...   \n",
       "\n",
       "                                                        normalized_tokens  \\\n",
       "business_id                                                                 \n",
       "--6MefnULPED_I942VcFNA  [good, quality, chinese, food, decor, nice, ch...   \n",
       "--7zmmkVg-IMGaXbuVd0SQ  [last, week, attended, event, never, forget, p...   \n",
       "--8LPVSo5i0Oo61X01sV9A  [knee, replacement, surgery, wonderful, job, w...   \n",
       "--9QQLMTbFzLJ_oT-ON3Xw  [ever, believe, check, time, always, min, wait...   \n",
       "--DaPTJW3-tB1vP-PfdTEg  [tried, breakfast, joint, want, old, boom, way...   \n",
       "--DdmeR16TRb3LsjG0ejrQ  [disclaimer, attended, world, food, championsh...   \n",
       "--ab39IjZR_xUf81WyTyHg  [pleased, service, great, service, alex, today...   \n",
       "--cgVkbWTiga3OYTkymKqA  [new, person, city, accident, know, call, foun...   \n",
       "--cjBEbXMI2obtaRHNSFrA  [spot, pretty, new, pittsburgh, scene, althoug...   \n",
       "--e8PjCNhEz32pprnPhCwQ  [took, extremely, took, great, care, left, rea...   \n",
       "\n",
       "                                                              TaggedTexts  \n",
       "business_id                                                                \n",
       "--6MefnULPED_I942VcFNA  ([good, quality, chinese, food, decor, nice, c...  \n",
       "--7zmmkVg-IMGaXbuVd0SQ  ([last, week, attended, event, never, forget, ...  \n",
       "--8LPVSo5i0Oo61X01sV9A  ([knee, replacement, surgery, wonderful, job, ...  \n",
       "--9QQLMTbFzLJ_oT-ON3Xw  ([ever, believe, check, time, always, min, wai...  \n",
       "--DaPTJW3-tB1vP-PfdTEg  ([tried, breakfast, joint, want, old, boom, wa...  \n",
       "--DdmeR16TRb3LsjG0ejrQ  ([disclaimer, attended, world, food, champions...  \n",
       "--ab39IjZR_xUf81WyTyHg  ([pleased, service, great, service, alex, toda...  \n",
       "--cgVkbWTiga3OYTkymKqA  ([new, person, city, accident, know, call, fou...  \n",
       "--cjBEbXMI2obtaRHNSFrA  ([spot, pretty, new, pittsburgh, scene, althou...  \n",
       "--e8PjCNhEz32pprnPhCwQ  ([took, extremely, took, great, care, left, re...  "
      ]
     },
     "execution_count": 250,
     "metadata": {},
     "output_type": "execute_result"
    }
   ],
   "source": [
    "taggedDocs_review = []\n",
    "for index, row in yelp_review_bigdf.iterrows():\n",
    "    #Just doing a simple keyword assignment\n",
    "    docKeywords_review = [s for s in review_keywords if s in row['normalized_tokens']]\n",
    "    #docKeywords_review.append(row['copyrightYear'])\n",
    "    docKeywords_review.append(row['business_id']) #This lets us extract individual documnets since doi's are unique\n",
    "    taggedDocs_review.append(gensim.models.doc2vec.LabeledSentence(words = row['normalized_tokens'], tags = docKeywords_review))\n",
    "yelp_review_bigdf['TaggedTexts'] = taggedDocs_review\n",
    "yelp_review_bigdf[:10]"
   ]
  },
  {
   "cell_type": "markdown",
   "metadata": {},
   "source": [
    "Now we can train a Doc2Vec model:"
   ]
  },
  {
   "cell_type": "code",
   "execution_count": 251,
   "metadata": {
    "collapsed": true
   },
   "outputs": [],
   "source": [
    "#MYCODE\n",
    "yelp_bigD2V = gensim.models.doc2vec.Doc2Vec(yelp_review_bigdf['TaggedTexts'], size = 100) #Limiting to 100 dimensions"
   ]
  },
  {
   "cell_type": "markdown",
   "metadata": {},
   "source": [
    "Now let's plot some words and documents against one another with a heatmap:"
   ]
  },
  {
   "cell_type": "code",
   "execution_count": 252,
   "metadata": {
    "collapsed": true
   },
   "outputs": [],
   "source": [
    "heatmapMatrix_review = []\n",
    "for tagOuter in review_keywords:\n",
    "    column = []\n",
    "    tagVec = yelp_bigD2V.docvecs[tagOuter].reshape(1, -1)\n",
    "    for tagInner in review_keywords:\n",
    "        column.append(sklearn.metrics.pairwise.cosine_similarity(tagVec,yelp_bigD2V.docvecs[tagInner].reshape(1, -1))[0][0])\n",
    "    heatmapMatrix_review.append(column)\n",
    "heatmapMatrix_review = np.array(heatmapMatrix_review)"
   ]
  },
  {
   "cell_type": "markdown",
   "metadata": {},
   "source": [
    "First of all let's see the relationship between each keyword. We can see that most of these words are highly correlated. As they are all topics of restaurant reviews, so it makes sense that there is this high similarity. "
   ]
  },
  {
   "cell_type": "code",
   "execution_count": 150,
   "metadata": {
    "collapsed": false
   },
   "outputs": [
    {
     "data": {
      "image/png": "[encoded data removed]",
      "text/plain": [
       "<matplotlib.figure.Figure at 0x16cf37588>"
      ]
     },
     "metadata": {},
     "output_type": "display_data"
    }
   ],
   "source": [
    "#mycode\n",
    "fig, ax = plt.subplots()\n",
    "hmap_review = ax.pcolor(heatmapMatrix_review, cmap='terrain')\n",
    "cbar_review = plt.colorbar(hmap_review)\n",
    "\n",
    "cbar_review.set_label('cosine similarity', rotation=270)\n",
    "a = ax.set_xticks(np.arange(heatmapMatrix_review.shape[1]) + 0.5, minor=False)\n",
    "a = ax.set_yticks(np.arange(heatmapMatrix_review.shape[0]) + 0.5, minor=False)\n",
    "\n",
    "a = ax.set_xticklabels(review_keywords, minor=False, rotation=270)\n",
    "a = ax.set_yticklabels(review_keywords, minor=False)"
   ]
  },
  {
   "cell_type": "markdown",
   "metadata": {},
   "source": [
    "Now let's look at a heatmap of similarities between the first ten documents in the corpus:"
   ]
  },
  {
   "cell_type": "code",
   "execution_count": 253,
   "metadata": {
    "collapsed": true
   },
   "outputs": [],
   "source": [
    "#MYCODE\n",
    "targetDocs_review = yelp_review_bigdf['business_id']\n",
    "\n",
    "heatmapMatrixD_review = []\n",
    "\n",
    "for tagOuter in targetDocs_review:\n",
    "    column = []\n",
    "    tagVec = yelp_bigD2V.docvecs[tagOuter].reshape(1, -1)\n",
    "    for tagInner in targetDocs_review:\n",
    "        column.append(sklearn.metrics.pairwise.cosine_similarity(tagVec, yelp_bigD2V.docvecs[tagInner].reshape(1, -1))[0][0])\n",
    "    heatmapMatrixD_review.append(column)\n",
    "heatmapMatrixD_review = np.array(heatmapMatrixD_review)"
   ]
  },
  {
   "cell_type": "markdown",
   "metadata": {},
   "source": [
    "Now let's see the relationship between each document. We can see that most of these documents are highly correlated as well, meaning that the reviews are not that diverse. They are all talking about similar stuff. May be it is because I did not choose the document randomly. In stead, I used convience sampling.  "
   ]
  },
  {
   "cell_type": "code",
   "execution_count": 254,
   "metadata": {
    "collapsed": false
   },
   "outputs": [
    {
     "data": {
      "image/png": "[encoded data removed]",
      "text/plain": [
       "<matplotlib.figure.Figure at 0x16cf244a8>"
      ]
     },
     "metadata": {},
     "output_type": "display_data"
    }
   ],
   "source": [
    "fig, ax = plt.subplots()\n",
    "hmap_review = ax.pcolor(heatmapMatrixD_review, cmap='terrain')\n",
    "cbar_review = plt.colorbar(hmap_review)\n",
    "\n",
    "cbar_review.set_label('cosine similarity', rotation=270)\n",
    "a = ax.set_xticks(np.arange(heatmapMatrixD_review.shape[1]) + 0.5, minor=False)\n",
    "a = ax.set_yticks(np.arange(heatmapMatrixD_review.shape[0]) + 0.5, minor=False)\n",
    "\n",
    "a = ax.set_xticklabels(np.arange(10), rotation=270)\n",
    "a = ax.set_yticklabels(np.arange(10))"
   ]
  },
  {
   "cell_type": "markdown",
   "metadata": {},
   "source": [
    "Now let's look at a heatmap of similarities between the first ten documents and our keywords:"
   ]
  },
  {
   "cell_type": "code",
   "execution_count": 255,
   "metadata": {
    "collapsed": true
   },
   "outputs": [],
   "source": [
    "#MYCODE\n",
    "heatmapMatrixC_review = []\n",
    "\n",
    "for tagOuter in targetDocs_review:\n",
    "    column = []\n",
    "    tagVec = yelp_bigD2V.docvecs[tagOuter].reshape(1, -1)\n",
    "    for tagInner in review_keywords:\n",
    "        column.append(sklearn.metrics.pairwise.cosine_similarity(tagVec, yelp_bigD2V.docvecs[tagInner].reshape(1, -1))[0][0])\n",
    "    heatmapMatrixC_review.append(column)\n",
    "heatmapMatrixC_review = np.array(heatmapMatrixC_review)"
   ]
  },
  {
   "cell_type": "markdown",
   "metadata": {},
   "source": [
    "We can see that the first and eighth document are not as complete as the other documents. And ambiance is the least mentioned type of topic in these reviews. "
   ]
  },
  {
   "cell_type": "code",
   "execution_count": 256,
   "metadata": {
    "collapsed": false
   },
   "outputs": [
    {
     "data": {
      "image/png": "[encoded data removed]",
      "text/plain": [
       "<matplotlib.figure.Figure at 0x1713de908>"
      ]
     },
     "metadata": {},
     "output_type": "display_data"
    }
   ],
   "source": [
    "fig, ax = plt.subplots()\n",
    "hmap_review = ax.pcolor(heatmapMatrixC_review, cmap='terrain')\n",
    "cbar_review = plt.colorbar(hmap_review)\n",
    "\n",
    "cbar_review.set_label('cosine similarity', rotation=270)\n",
    "a = ax.set_xticks(np.arange(heatmapMatrixC_review.shape[1]) + 0.5, minor=False)\n",
    "a = ax.set_yticks(np.arange(heatmapMatrixC_review.shape[0]) + 0.5, minor=False)\n",
    "\n",
    "a = ax.set_xticklabels(review_keywords, minor=False, rotation=270)\n",
    "a = ax.set_yticklabels(np.arange(10), minor=False)"
   ]
  },
  {
   "cell_type": "markdown",
   "metadata": {},
   "source": [
    "# Projection"
   ]
  },
  {
   "cell_type": "markdown",
   "metadata": {},
   "source": [
    "We can also project word vectors to an arbitray semantic dimension. To demonstrate this possibility, let's first load a model trained with New York Times news articles. "
   ]
  },
  {
   "cell_type": "code",
   "execution_count": 177,
   "metadata": {
    "collapsed": false
   },
   "outputs": [],
   "source": [
    "nytimes_model = gensim.models.KeyedVectors.load_word2vec_format('../data/nytimes_cbow.reduced.txt')\n"
   ]
  },
  {
   "cell_type": "code",
   "execution_count": null,
   "metadata": {
    "collapsed": true
   },
   "outputs": [],
   "source": [
    "#MYCODE\n",
    "yelp_reviewW2V = gensim.models.word2vec.Word2Vec(yelp_review_df['normalized_sents'].sum())\n"
   ]
  },
  {
   "cell_type": "markdown",
   "metadata": {},
   "source": [
    "First we can visualize with dimension reduction"
   ]
  },
  {
   "cell_type": "code",
   "execution_count": 163,
   "metadata": {
    "collapsed": false
   },
   "outputs": [
    {
     "data": {
      "text/plain": [
       "array([[-0.343139, -0.117117, -0.50773 , ..., -0.995696,  0.921299,\n",
       "         0.943769],\n",
       "       [-0.362909, -0.263528,  0.032661, ..., -0.043032, -0.178965,\n",
       "         0.353556],\n",
       "       [-0.70167 , -0.344525, -0.320714, ...,  0.009001,  0.11055 ,\n",
       "         0.751077],\n",
       "       ...,\n",
       "       [-2.391626, -1.90143 ,  1.031182, ...,  2.947464,  1.01588 ,\n",
       "         2.00033 ],\n",
       "       [-2.432387, -1.161415,  1.060064, ...,  4.402381,  0.500471,\n",
       "         1.644596],\n",
       "       [ 0.981931,  0.628094, -0.747547, ...,  1.612927,  1.148063,\n",
       "         1.063776]], dtype=float32)"
      ]
     },
     "execution_count": 163,
     "metadata": {},
     "output_type": "execute_result"
    }
   ],
   "source": [
    "#words to create dimensions\n",
    "tnytTargetWords = ['man','him','he', 'woman', 'her', 'she', 'black','blacks','African', 'white', 'whites', 'Caucasian', 'rich', 'richer', 'richest', 'expensive', 'wealthy', 'poor', 'poorer', 'poorest', 'cheap', 'inexpensive']\n",
    "#words we will be mapping\n",
    "tnytTargetWords += [\"doctor\",\"lawyer\",\"plumber\",\"scientist\",\"hairdresser\", \"nanny\",\"carpenter\",\"entrepreneur\",\"musician\",\"writer\", \"banker\",\"poet\",\"nurse\", \"steak\", \"bacon\", \"croissant\", \"cheesecake\", \"salad\", \"cheeseburger\", \"vegetables\", \"beer\", \"wine\", \"pastry\", \"basketball\", \"baseball\", \"boxing\", \"softball\", \"volleyball\", \"tennis\", \"golf\", \"hockey\", \"soccer\"]\n",
    "\n",
    "\n",
    "wordsSubMatrix = []\n",
    "for word in tnytTargetWords:\n",
    "    wordsSubMatrix.append(nytimes_model[word])\n",
    "wordsSubMatrix = np.array(wordsSubMatrix)\n",
    "wordsSubMatrix"
   ]
  },
  {
   "cell_type": "code",
   "execution_count": 164,
   "metadata": {
    "collapsed": true
   },
   "outputs": [],
   "source": [
    "pcaWordsNYT = sklearn.decomposition.PCA(n_components = 50).fit(wordsSubMatrix)\n",
    "reducedPCA_dataNYT = pcaWordsNYT.transform(wordsSubMatrix)\n",
    "#T-SNE is theoretically better, but you should experiment\n",
    "tsneWordsNYT = sklearn.manifold.TSNE(n_components = 2).fit_transform(reducedPCA_dataNYT)"
   ]
  },
  {
   "cell_type": "code",
   "execution_count": 165,
   "metadata": {
    "collapsed": false
   },
   "outputs": [
    {
     "data": {
      "image/png": "[encoded data removed]",
      "text/plain": [
       "<matplotlib.figure.Figure at 0x16c04a6a0>"
      ]
     },
     "metadata": {},
     "output_type": "display_data"
    }
   ],
   "source": [
    "fig = plt.figure(figsize = (10,6))\n",
    "ax = fig.add_subplot(111)\n",
    "ax.set_frame_on(False)\n",
    "plt.scatter(tsneWordsNYT[:, 0], tsneWordsNYT[:, 1], alpha = 0) #Making the points invisible\n",
    "for i, word in enumerate(tnytTargetWords):\n",
    "    ax.annotate(word, (tsneWordsNYT[:, 0][i],tsneWordsNYT[:, 1][i]), size =  20 * (len(tnytTargetWords) - i) / len(tnytTargetWords))\n",
    "plt.xticks(())\n",
    "plt.yticks(())\n",
    "plt.show()"
   ]
  },
  {
   "cell_type": "markdown",
   "metadata": {},
   "source": [
    "Define some convenient functions for getting dimensions. "
   ]
  },
  {
   "cell_type": "code",
   "execution_count": 166,
   "metadata": {
    "collapsed": true
   },
   "outputs": [],
   "source": [
    "def normalize(vector):\n",
    "    normalized_vector = vector / np.linalg.norm(vector)\n",
    "    return normalized_vector\n",
    "\n",
    "def dimension(model, positives, negatives):\n",
    "    diff = sum([normalize(model[x]) for x in positives]) - sum([normalize(model[y]) for y in negatives])\n",
    "    return diff"
   ]
  },
  {
   "cell_type": "markdown",
   "metadata": {},
   "source": [
    "Let's calculate three dimensions: gender, race, and class."
   ]
  },
  {
   "cell_type": "code",
   "execution_count": 167,
   "metadata": {
    "collapsed": true
   },
   "outputs": [],
   "source": [
    "Gender = dimension(nytimes_model, ['man','him','he'], ['woman', 'her', 'she'])\n",
    "Race = dimension(nytimes_model, ['black','blacks','African'], ['white', 'whites', 'Caucasian'])\n",
    "Class = dimension(nytimes_model, ['rich', 'richer', 'richest', 'expensive', 'wealthy'], ['poor', 'poorer', 'poorest', 'cheap', 'inexpensive'])"
   ]
  },
  {
   "cell_type": "markdown",
   "metadata": {},
   "source": [
    "Here we have some words."
   ]
  },
  {
   "cell_type": "code",
   "execution_count": 168,
   "metadata": {
    "collapsed": true
   },
   "outputs": [],
   "source": [
    "Occupations = [\"doctor\",\"lawyer\",\"plumber\",\"scientist\",\"hairdresser\", \"nanny\",\"carpenter\",\"entrepreneur\",\"musician\",\"writer\", \"banker\",\"poet\",\"nurse\"]\n",
    "\n",
    "Foods = [\"steak\", \"bacon\", \"croissant\", \"cheesecake\", \"salad\", \"cheeseburger\", \"vegetables\", \"beer\", \"wine\", \"pastry\"]\n",
    "\n",
    "Sports  = [\"basketball\", \"baseball\", \"boxing\", \"softball\", \"volleyball\", \"tennis\", \"golf\", \"hockey\", \"soccer\"]"
   ]
  },
  {
   "cell_type": "code",
   "execution_count": 238,
   "metadata": {
    "collapsed": true
   },
   "outputs": [],
   "source": [
    "def makeDF(model, word_list):\n",
    "    g = []\n",
    "    r = []\n",
    "    c = []\n",
    "    for word in word_list:\n",
    "        g.append(sklearn.metrics.pairwise.cosine_similarity(nytimes_model[word].reshape(1,-1), Gender.reshape(1,-1))[0][0])\n",
    "        r.append(sklearn.metrics.pairwise.cosine_similarity(nytimes_model[word].reshape(1,-1), Race.reshape(1,-1))[0][0])\n",
    "        c.append(sklearn.metrics.pairwise.cosine_similarity(nytimes_model[word].reshape(1,-1), Class.reshape(1,-1))[0][0])\n",
    "    df = pandas.DataFrame({'gender': g, 'race': r, 'class': c}, index = word_list)\n",
    "    print(df)\n",
    "    return df\n"
   ]
  },
  {
   "cell_type": "markdown",
   "metadata": {},
   "source": [
    "Get the projections."
   ]
  },
  {
   "cell_type": "code",
   "execution_count": 239,
   "metadata": {
    "collapsed": false
   },
   "outputs": [
    {
     "name": "stdout",
     "output_type": "stream",
     "text": [
      "                 class    gender      race\n",
      "doctor       -0.101023 -0.058048 -0.098297\n",
      "lawyer        0.052377  0.021787  0.014264\n",
      "plumber      -0.003232  0.038784 -0.082154\n",
      "scientist     0.017319  0.053595 -0.107106\n",
      "hairdresser  -0.027526 -0.364141 -0.160411\n",
      "nanny        -0.008819 -0.220270 -0.135943\n",
      "carpenter     0.017506 -0.063229 -0.102722\n",
      "entrepreneur  0.177146  0.033817 -0.116234\n",
      "musician      0.012577 -0.079396 -0.080416\n",
      "writer        0.125964 -0.101106 -0.119433\n",
      "banker        0.223426  0.066229  0.009015\n",
      "poet          0.114924 -0.079829 -0.112803\n",
      "nurse        -0.127380 -0.275093 -0.146441\n",
      "                 class    gender      race\n",
      "steak         0.127592  0.007895 -0.172440\n",
      "bacon         0.100991 -0.018462 -0.158186\n",
      "croissant     0.016502 -0.084794 -0.227760\n",
      "cheesecake    0.091551 -0.131204 -0.223237\n",
      "salad         0.038699 -0.110827 -0.157910\n",
      "cheeseburger  0.026884  0.039346 -0.140119\n",
      "vegetables   -0.073452 -0.077072 -0.110847\n",
      "beer          0.038667  0.017974 -0.141823\n",
      "wine          0.063907 -0.062127 -0.199095\n",
      "pastry        0.115532 -0.139875 -0.134957\n",
      "               class    gender      race\n",
      "basketball  0.076440  0.134851 -0.013110\n",
      "baseball    0.108499  0.285543  0.063922\n",
      "boxing      0.187113  0.158882  0.028371\n",
      "softball    0.069757  0.022368 -0.049395\n",
      "volleyball  0.022250 -0.079594 -0.095061\n",
      "tennis      0.142846 -0.072587 -0.020226\n",
      "golf        0.114375  0.080976 -0.098961\n",
      "hockey      0.038530  0.075408 -0.082477\n",
      "soccer      0.070396  0.063433  0.093206\n"
     ]
    }
   ],
   "source": [
    "OCCdf = makeDF(nytimes_model, Occupations) \n",
    "Fooddf = makeDF(nytimes_model, Foods)\n",
    "Sportsdf = makeDF(nytimes_model, Sports)"
   ]
  },
  {
   "cell_type": "markdown",
   "metadata": {},
   "source": [
    "Define some useful functions for plotting."
   ]
  },
  {
   "cell_type": "code",
   "execution_count": 242,
   "metadata": {
    "collapsed": true
   },
   "outputs": [],
   "source": [
    "def Coloring(Series):\n",
    "    x = Series.values\n",
    "    y = x-x.min()\n",
    "    z = y/y.max()\n",
    "    c = list(plt.cm.rainbow(z))\n",
    "    return c\n",
    "\n",
    "def PlotDimension(ax,df, dim):\n",
    "    ax.set_frame_on(False)\n",
    "    ax.set_title(dim, fontsize = 20)\n",
    "    colors = Coloring(df[dim])\n",
    "    for i, word in enumerate(df.index):\n",
    "        ax.annotate(word, (0, df[dim][i]), color = colors[i], alpha = 0.6, fontsize = 12)\n",
    "    MaxY = df[dim].max()\n",
    "    MinY = df[dim].min()\n",
    "    plt.ylim(MinY,MaxY)\n",
    "    plt.yticks(())\n",
    "    plt.xticks(())"
   ]
  },
  {
   "cell_type": "markdown",
   "metadata": {},
   "source": [
    "Plot the occupational words in each of the three dimensions."
   ]
  },
  {
   "cell_type": "code",
   "execution_count": 172,
   "metadata": {
    "collapsed": false,
    "scrolled": true
   },
   "outputs": [
    {
     "data": {
      "image/png": "[encoded data removed]",
      "text/plain": [
       "<matplotlib.figure.Figure at 0x16c133e80>"
      ]
     },
     "metadata": {},
     "output_type": "display_data"
    }
   ],
   "source": [
    "fig = plt.figure(figsize = (12,4))\n",
    "ax1 = fig.add_subplot(131)\n",
    "PlotDimension(ax1, OCCdf, 'gender')\n",
    "ax2 = fig.add_subplot(132)\n",
    "PlotDimension(ax2, OCCdf, 'race')\n",
    "ax3 = fig.add_subplot(133)\n",
    "PlotDimension(ax3, OCCdf, 'class')\n",
    "plt.show()"
   ]
  },
  {
   "cell_type": "markdown",
   "metadata": {},
   "source": [
    "Foods:"
   ]
  },
  {
   "cell_type": "code",
   "execution_count": 173,
   "metadata": {
    "collapsed": false
   },
   "outputs": [
    {
     "data": {
      "image/png": "[encoded data removed]",
      "text/plain": [
       "<matplotlib.figure.Figure at 0x16c2595c0>"
      ]
     },
     "metadata": {},
     "output_type": "display_data"
    }
   ],
   "source": [
    "fig = plt.figure(figsize = (12,4))\n",
    "ax1 = fig.add_subplot(131)\n",
    "PlotDimension(ax1, Fooddf, 'gender')\n",
    "ax2 = fig.add_subplot(132)\n",
    "PlotDimension(ax2, Fooddf, 'race')\n",
    "ax3 = fig.add_subplot(133)\n",
    "PlotDimension(ax3, Fooddf, 'class')\n",
    "plt.show()"
   ]
  },
  {
   "cell_type": "markdown",
   "metadata": {},
   "source": [
    "Sports:"
   ]
  },
  {
   "cell_type": "code",
   "execution_count": 174,
   "metadata": {
    "collapsed": false
   },
   "outputs": [
    {
     "data": {
      "image/png": "[encoded data removed]",
      "text/plain": [
       "<matplotlib.figure.Figure at 0x16c334a90>"
      ]
     },
     "metadata": {},
     "output_type": "display_data"
    }
   ],
   "source": [
    "fig = plt.figure(figsize = (12,4))\n",
    "ax1 = fig.add_subplot(131)\n",
    "PlotDimension(ax1, Sportsdf, 'gender')\n",
    "ax2 = fig.add_subplot(132)\n",
    "PlotDimension(ax2, Sportsdf, 'race')\n",
    "ax3 = fig.add_subplot(133)\n",
    "PlotDimension(ax3, Sportsdf, 'class')\n",
    "plt.show()"
   ]
  },
  {
   "cell_type": "markdown",
   "metadata": {},
   "source": [
    "## <span style=\"color:red\">*Exercise 3*</span>\n",
    "\n",
    "<span style=\"color:red\">Construct cells immediately below this that identify semantic dimensions of interest from your data (e.g., gender: man-woman) and project words onto these dimensions. Plot the array of relevant words along each semantic dimension. Which words are most different. Which dimensions are most different? On which dimension are your words most different? Print three short textual examples from the corpus that illustrate the association you have explored.\n",
    "\n",
    "<span style=\"color:red\">***Stretch***: Project documents from your corpus along a dimension of interest. Sample relevant documents from your corpus with this functionality and explain your rationale? Calculate the cosine of the angle between two dimensions (encoded as vectors) of interest. What does this suggest about the relationship between them within your corpus? \n",
    "\n",
    "<span style=\"color:red\">***Stretch***: Create 90% bootstrap confidence intervals around your word projections onto a given dimension. Which words are *significantly* different on your semantic dimension of interest?"
   ]
  },
  {
   "cell_type": "code",
   "execution_count": 191,
   "metadata": {
    "collapsed": false
   },
   "outputs": [],
   "source": [
    "remove_words = ['he','him','she','her','his','hers','himself','herself']\n",
    "new_stop_list = [word for word in lucem_illud.stop_words_basic if word not in remove_words]\n"
   ]
  },
  {
   "cell_type": "code",
   "execution_count": 192,
   "metadata": {
    "collapsed": true
   },
   "outputs": [],
   "source": [
    "yelp_review_df['normalized_new'] = yelp_review_df['tokenized_sents'].apply(lambda x: \n",
    "                                                                           [lucem_illud.normalizeTokens(s, \n",
    "                                                                                           stopwordLst = new_stop_list, \n",
    "                                                                                           stemmer = None) \n",
    "                                                                            for s in x])"
   ]
  },
  {
   "cell_type": "code",
   "execution_count": 227,
   "metadata": {
    "collapsed": true
   },
   "outputs": [],
   "source": [
    "new_yelp_reviewW2V = gensim.models.word2vec.Word2Vec(yelp_review_df['normalized_new'].sum())"
   ]
  },
  {
   "cell_type": "markdown",
   "metadata": {},
   "source": [
    "Let's calculate three dimensions: gender, race, and age (of the person who is being talked abouts)."
   ]
  },
  {
   "cell_type": "code",
   "execution_count": null,
   "metadata": {
    "collapsed": true
   },
   "outputs": [],
   "source": [
    "Gender_review = dimension(new_yelp_reviewW2V, ['man','husband','he','his'], ['woman', 'wife', 'she','hers'])\n",
    "Age_review = dimension(new_yelp_reviewW2V,['son','daughter','baby'],['wife','husband','couple'])\n",
    "Race_review = dimension(new_yelp_reviewW2V, ['black'], ['white'])"
   ]
  },
  {
   "cell_type": "markdown",
   "metadata": {},
   "source": [
    "Here we are interested in learning how these words are lated to each dimension"
   ]
  },
  {
   "cell_type": "code",
   "execution_count": 228,
   "metadata": {
    "collapsed": false
   },
   "outputs": [],
   "source": [
    "Foods_review = [\"steak\", \"bacon\", \"croissant\", \"cheesecake\", \"salad\", \"cheeseburger\", \"vegetables\", \"beer\", \"wine\", \"pastry\"]\n",
    "Cuisine_review = ['asian','indian','american','mexican','chinese','thai']\n",
    "Drink_review = ['soda','wine','beer','cocktail','coffee','juice','coke']"
   ]
  },
  {
   "cell_type": "markdown",
   "metadata": {},
   "source": [
    "Define a function to project words in a word list to each of the three dimensions."
   ]
  },
  {
   "cell_type": "code",
   "execution_count": 240,
   "metadata": {
    "collapsed": true
   },
   "outputs": [],
   "source": [
    "def makeDF_review(model, word_list):\n",
    "    g = []\n",
    "    a = []\n",
    "    r = []\n",
    "    for word in word_list:\n",
    "        g.append(sklearn.metrics.pairwise.cosine_similarity(yelp_reviewW2V[word].reshape(1,-1), Gender_review.reshape(1,-1))[0][0])\n",
    "        a.append(sklearn.metrics.pairwise.cosine_similarity(yelp_reviewW2V[word].reshape(1,-1), Age_review.reshape(1,-1))[0][0])\n",
    "        r.append(sklearn.metrics.pairwise.cosine_similarity(yelp_reviewW2V[word].reshape(1,-1), Race_review.reshape(1,-1))[0][0])\n",
    "    df = pandas.DataFrame({'gender': g, 'race': r, 'age': a}, index = word_list)\n",
    "    return df"
   ]
  },
  {
   "cell_type": "markdown",
   "metadata": {},
   "source": [
    "Get the projections"
   ]
  },
  {
   "cell_type": "code",
   "execution_count": 244,
   "metadata": {
    "collapsed": false
   },
   "outputs": [],
   "source": [
    "Cuisinedf = makeDF_review(new_yelp_reviewW2V, Cuisine_review) \n",
    "Foodsdf = makeDF_review(new_yelp_reviewW2V, Foods_review)\n",
    "Drinksdf = makeDF_review(new_yelp_reviewW2V, Drink_review)"
   ]
  },
  {
   "cell_type": "markdown",
   "metadata": {},
   "source": [
    "Plot the cuisine words in each of the three dimensions. Here we can see that cuisine makes a big difference. Men and blacks are more interested in Thai food.Young children are more insterested in mexican food, which is very interesting."
   ]
  },
  {
   "cell_type": "code",
   "execution_count": 224,
   "metadata": {
    "collapsed": false
   },
   "outputs": [
    {
     "data": {
      "image/png": "[encoded data removed]",
      "text/plain": [
       "<matplotlib.figure.Figure at 0x1710b4b70>"
      ]
     },
     "metadata": {},
     "output_type": "display_data"
    }
   ],
   "source": [
    "fig = plt.figure(figsize = (12,4))\n",
    "ax1 = fig.add_subplot(131)\n",
    "PlotDimension(ax1, Cuisinedf, 'gender')\n",
    "ax2 = fig.add_subplot(132)\n",
    "PlotDimension(ax2, Cuisinedf, 'race')\n",
    "ax3 = fig.add_subplot(133)\n",
    "PlotDimension(ax3, Cuisinedf, 'age')\n",
    "plt.show()"
   ]
  },
  {
   "cell_type": "markdown",
   "metadata": {},
   "source": [
    "Plot the food words in each of the three dimensions. Here we can see that food type does not make a very big difference among gender, race and age. One thing that meets my expectation is that whites favor healthy food, like vegetables, salad, more than blacks. Young children prefer sweeter food, like cheesecake more than adults. "
   ]
  },
  {
   "cell_type": "code",
   "execution_count": 225,
   "metadata": {
    "collapsed": false
   },
   "outputs": [
    {
     "data": {
      "image/png": "[encoded data removed]",
      "text/plain": [
       "<matplotlib.figure.Figure at 0x170f0a630>"
      ]
     },
     "metadata": {},
     "output_type": "display_data"
    }
   ],
   "source": [
    "\n",
    "fig = plt.figure(figsize = (12,4))\n",
    "ax1 = fig.add_subplot(131)\n",
    "PlotDimension(ax1, Foodsdf, 'gender')\n",
    "ax2 = fig.add_subplot(132)\n",
    "PlotDimension(ax2, Foodsdf, 'race')\n",
    "ax3 = fig.add_subplot(133)\n",
    "PlotDimension(ax3, Foodsdf, 'age')\n",
    "plt.show()"
   ]
  },
  {
   "cell_type": "markdown",
   "metadata": {},
   "source": [
    "Plot the drinks words in each of the three dimensions. Here we can see that drink type is sparse among gender, race and age. One thing that surprises me is that cocktail is more close to young age! The reasons could be various. For example, since I define my dimension of younge as \"son\" and \"daughter\", they might not necessarily means children. 20-year old could also be son and daughter, and it makes more sense if cocktail is more related to them. "
   ]
  },
  {
   "cell_type": "code",
   "execution_count": 243,
   "metadata": {
    "collapsed": false
   },
   "outputs": [
    {
     "data": {
      "image/png": "[encoded data removed]",
      "text/plain": [
       "<matplotlib.figure.Figure at 0x12e0af5c0>"
      ]
     },
     "metadata": {},
     "output_type": "display_data"
    }
   ],
   "source": [
    "fig = plt.figure(figsize = (12,4))\n",
    "ax1 = fig.add_subplot(131)\n",
    "PlotDimension(ax1, Drinksdf, 'gender')\n",
    "ax2 = fig.add_subplot(132)\n",
    "PlotDimension(ax2, Drinksdf, 'race')\n",
    "ax3 = fig.add_subplot(133)\n",
    "PlotDimension(ax3, Drinksdf, 'age')\n",
    "plt.show()"
   ]
  },
  {
   "cell_type": "code",
   "execution_count": null,
   "metadata": {
    "collapsed": true
   },
   "outputs": [],
   "source": []
  }
 ],
 "metadata": {
  "anaconda-cloud": {},
  "kernelspec": {
   "display_name": "Python [default]",
   "language": "python",
   "name": "python3"
  },
  "language_info": {
   "codemirror_mode": {
    "name": "ipython",
    "version": 3
   },
   "file_extension": ".py",
   "mimetype": "text/x-python",
   "name": "python",
   "nbconvert_exporter": "python",
   "pygments_lexer": "ipython3",
   "version": "3.5.2"
  }
 },
 "nbformat": 4,
 "nbformat_minor": 1
}
